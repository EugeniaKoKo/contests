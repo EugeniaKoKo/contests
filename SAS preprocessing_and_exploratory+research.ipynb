{
 "cells": [
  {
   "cell_type": "code",
   "execution_count": 1,
   "metadata": {
    "collapsed": true
   },
   "outputs": [],
   "source": [
    "import pandas as pd\n",
    "import numpy as np\n",
    "import matplotlib\n",
    "import random \n",
    "from matplotlib import pyplot as plt\n",
    "matplotlib.style.use('ggplot')\n",
    "%matplotlib inline\n"
   ]
  },
  {
   "cell_type": "markdown",
   "metadata": {},
   "source": [
    "Полезные сссылки\n",
    "\n",
    "1. https://github.com/Yorko/mlcourse_open\n",
    "2. https://github.com/Yorko/mlcourse_open/blob/master/jupyter_notebooks/topic01_pandas_data_analysis/%5Bsolution%5D_lesson1_practice_pandas_titanic.ipynb pandas  с Титаник - задачки\n",
    "3. https://github.com/Yorko/mlcourse_open/blob/master/jupyter_notebooks/topic01_pandas_data_analysis/lesson1_pandas_intro_inclass_dirty.ipynb - Pandas intro\n",
    "4. https://github.com/Yorko/mlcourse_open/blob/master/jupyter_notebooks/topic01_pandas_data_analysis/lesson1_part0_numpy.ipynb - Pandas + Numpy\n",
    "5. https://github.com/Yorko/mlcourse_open/blob/master/jupyter_notebooks/topic01_pandas_data_analysis/lesson1_part1_pandas_intro.ipynb - Pandas intro\n",
    "6. https://github.com/Yorko/mlcourse_open/blob/master/jupyter_notebooks/topic01_pandas_data_analysis/topic1_habr_pandas.ipynb - Pandas\n",
    "7. http://malev.ru/%D0%BC%D0%B0%D0%BD%D0%B8%D0%BF%D1%83%D0%BB%D1%8F%D1%86%D0%B8%D1%8F-%D0%B8-%D0%BE%D0%B1%D1%80%D0%B0%D0%B1%D0%BE%D1%82%D0%BA%D0%B0-%D0%B4%D0%B0%D0%BD%D0%BD%D1%8B%D1%85-%D0%B2-python-data-wrangling-and/ - Data wrangling and munging\n",
    "8. http://malev.ru/%D0%B0%D0%BD%D0%B0%D0%BB%D0%B8%D0%B7-%D0%B4%D0%B0%D0%BD%D0%BD%D1%8B%D1%85-%D0%BF%D1%80%D0%B8-%D0%BF%D0%BE%D0%BC%D0%BE%D1%89%D0%B8-python-%D0%BE%D1%81%D0%BD%D0%BE%D0%B2%D0%BD%D1%8B%D0%B5-%D1%81%D1%82/ - Exploratory Analysis) часть 1\n",
    "9. http://malev.ru/%D0%B0%D0%BD%D0%B0%D0%BB%D0%B8%D0%B7-%D0%B4%D0%B0%D0%BD%D0%BD%D1%8B%D1%85-%D0%BF%D1%80%D0%B8-%D0%BF%D0%BE%D0%BC%D0%BE%D1%89%D0%B8-python-%D0%BE%D1%81%D0%BD%D0%BE%D0%B2%D0%BD%D1%8B%D0%B5-%D1%81%D1%82-2/ - Exploratory Analysis) часть 2\n",
    "10.  http://pandas.pydata.org/pandas-docs/stable/10min.html - 10 minutes to Pandas\n",
    "11. https://stackoverflow.com/questions/33240937/keeping-rows-in-pandas-where-the-same-id-appears-more-than-n-times-and-convert-t\n",
    "12. https://stackoverflow.com/questions/33240937/keeping-rows-in-pandas-where-the-same-id-appears-more-than-n-times-and-convert-t \n",
    "13. https://stackoverflow.com/questions/34776651/concatenate-rows-of-pandas-dataframe-with-same-id \n",
    "14. https://stackoverflow.com/questions/43077258/python-pandas-compare-values-of-two-dataframes-with-different-columns-names-by\n",
    "15. https://stackoverflow.com/search?q=compare+rows+with+the+same+id+pandas \n",
    "16. https://stackoverflow.com/questions/45018396/how-to-compare-rows-in-a-dataframe-in-pandas\n",
    "17. https://stackoverflow.com/questions/36526202/how-to-merge-two-separated-dataframes-again-in-the-same-order-using-python\n",
    "18. https://stackoverflow.com/questions/29464234/compare-python-pandas-dataframes-for-matching-rows\n",
    "19. https://stackoverflow.com/questions/13114512/calculating-difference-between-two-rows-in-python-pandas\n",
    "20. https://stackoverflow.com/questions/29446844/fastest-way-to-compare-row-and-previous-row-in-pandas-dataframe-with-millions-of\n",
    "21. https://stackoverflow.com/questions/40834806/compare-values-between-different-rows-in-pandas\n",
    "22. https://stackoverflow.com/questions/30960734/compute-difference-between-rows-in-pandas-dataframe\n",
    "23. https://pandas.pydata.org/pandas-docs/stable/dsintro.html \n",
    "24. https://pandas.pydata.org/pandas-docs/stable/dsintro.html#dsintro-deprecate-panel \n",
    "25. http://xarray.pydata.org/en/stable/pandas.html \n",
    "26. https://stackoverflow.com/questions/tagged/python-xarray?page=2&sort=newest&pagesize=15 \n",
    "27. https://pandas.pydata.org/pandas-docs/stable/generated/pandas.Panel.html\n",
    "28. https://stackoverflow.com/questions/2212433/counting-the-number-of-keywords-in-a-dictionary-in-python  \n",
    "28. https://stackoverflow.com/questions/22923775/calculate-pandas-dataframe-time-difference-between-two-columns-in-hours-and-minu \n",
    "29. https://stackoverflow.com/questions/31490816/calculate-datetime-difference-in-years-months-etc-in-a-new-pandas-dataframe-c \n",
    "30. compare rows with the same id pandas \n",
    "31. \n",
    "32. \n",
    "33. \n",
    "\n",
    "\n",
    "\n"
   ]
  },
  {
   "cell_type": "markdown",
   "metadata": {},
   "source": [
    "\n",
    "* **Предобработка**\n",
    " * *Посмотреть на типы данных*\n",
    "    * Объединить их в группы для дальнейшей работы (дата-время, бинарные, категориальные и вещественные)\n",
    "    * Если данные соотнесены со временем - для обучения необходимо использовать более ранние даные (чтобы в обучение не попали  данные из будущего)\n",
    "    * Перевод колонки с датой в формат datetime \n",
    " * *Проверить коллинеарность признаков (вещественных отдельно)*\n",
    "    * Выбрать подход, что делать с коллинеарными (если предсказываем вещественный принак - также проверить, не дают ли наши признаки в сумме этот признак) (np.all(train_data.feature1 + train_data.feature1 == train_labels)) - вырезать эти данные, если такое встретилось\n",
    " * *Посмотреть на распределение признаков (каких именно - хз)*\n",
    "    * Например, целевого или вещественных. Если есть выбивающиеся значения и их много - возможно, эту группу стоит обрабатывать отдельно \n",
    "    * Посмотреть на \"пограничные\" значения, метрики среднего - возможно, это даст понимание признаков\n",
    "    * Если задача классификации - и в выборке дисбаланс классов -> сбалансировать кассы (досэмплировать маленкий или удалить большой)\n",
    "    \n",
    " * *Проверить наличие пропущенных значений* \n",
    "    * raw_data.isnull().values.any() # выдаёт общую характериктику \n",
    "    * Решить проблему NA \n",
    "        * для вещественных: с помощью группировки и подставления среднего по значимым группам\n",
    "        * для категориальных: ?\n",
    "        \n",
    "        \n",
    "* **Exploratory research**\n",
    " * Построение кросс-табов\n",
    " * Создание  доп.параметров (и проверка кросс-табов и простых статистик по ним)\n",
    " \n",
    " \n",
    "* **Построение модели**\n",
    " * *Привести к виду, понятному машине* - масштабирование и one-hot encoding можно делать в pipeline в ходе обучения [2], а изначально[1] смотреть на неотмасштабированные, понятные человеку признаки\n",
    "    * [1] Перевод колонки с датой в формат datetime \n",
    "    * [2] Масштабировать численные (для RandomForest не требуется). Вычисление параметров мастабирования: на обучающей выборке (fit_transform), применение scaler - на тестовой (только transform, scaler на ней учить нельзя)\n",
    "    * [2] Векторизовать категориальные (при этом кодирование должно быть одинаковое и для train, и для test)\n",
    "    * [2] Оцифровать текстовые\n",
    " * *Балансировка классов* \n",
    " * *Определение гиперпараметров выбранной модели*\n",
    "    * вызов планируемой модели + выбор гиперпараметров для настройки\n",
    "    * ввод переменной param_grid для поиска по сетке\n",
    " * *Обучение модели*    \n",
    " \n",
    " \n",
    "****\n",
    "**Обработка данных в pipeline**\n",
    "* *Работа с бинарными данными*\n",
    " * Бинарные данные устраивают нас в таком виде, в котором они уже есть - их нужно просто выелить.\n",
    " * Поэтому мы просто используем FunctionTransformer, которому мы передаем наш логический индекс, соответствующий бинарным признакам, и говорим, что нам достаточно просто эти данные выбрать, отделить их от всего dataset и, не изменяя, положить их отдельно. \n",
    "\n",
    "* *Работа с числовыми данными*\n",
    " * Нужно применять преобразования: выделить и отмасштабировать.\n",
    " * В данном случае нам придется объявить внутри Pipeline, что он состоит из двух шагов:◦первый шаг — это трансформер, мы передаем сюда логический индекс для числовых данных и отделяем их от всех остальных\n",
    "    * дальше к данным, которые мы отделили, мы применяем scaling (с помощью scaler) — делаем масштабирование. \n",
    "\n",
    "\n",
    "* *Работа с категориальными данными*\n",
    " * Нужно применять другие преобразования: выделить и привести к бинарному.\n",
    " * Создаём Pipeline, которому передаём следующие шаги:◦отделение этих данных трансформером: передаем сюда логический индекс для категориальных признаков и отделяем нужную часть набора данных\n",
    "    * дальше применяем методику hot encoding для бинарного перекодирования категриального признака, т.е. создание из каждого признака n признаков по числу его значений. \n",
    "\n",
    "\n"
   ]
  },
  {
   "cell_type": "markdown",
   "metadata": {},
   "source": [
    "Читаем файл"
   ]
  },
  {
   "cell_type": "code",
   "execution_count": 2,
   "metadata": {
    "collapsed": false
   },
   "outputs": [
    {
     "data": {
      "text/html": [
       "<div>\n",
       "<table border=\"1\" class=\"dataframe\">\n",
       "  <thead>\n",
       "    <tr style=\"text-align: right;\">\n",
       "      <th></th>\n",
       "      <th>Unnamed: 0</th>\n",
       "      <th>ID</th>\n",
       "      <th>SK_DATE_DECISION</th>\n",
       "      <th>DEF</th>\n",
       "      <th>NUM_SOURCE</th>\n",
       "      <th>CREDIT_ACTIVE</th>\n",
       "      <th>CREDIT_COLLATERAL</th>\n",
       "      <th>CREDIT_CURRENCY</th>\n",
       "      <th>DTIME_CREDIT</th>\n",
       "      <th>CREDIT_DAY_OVERDUE</th>\n",
       "      <th>...</th>\n",
       "      <th>CREDIT_DELAY90</th>\n",
       "      <th>CREDIT_DELAY_MORE</th>\n",
       "      <th>AMT_REQ_SOURCE_HOUR</th>\n",
       "      <th>AMT_REQ_SOURCE_DAY</th>\n",
       "      <th>AMT_REQ_SOURCE_WEEK</th>\n",
       "      <th>AMT_REQ_SOURCE_MON</th>\n",
       "      <th>AMT_REQ_SOURCE_QRT</th>\n",
       "      <th>AMT_REQ_SOURCE_YEAR</th>\n",
       "      <th>AMT_ANNUITY</th>\n",
       "      <th>TEXT_PAYMENT_DISCIPLINE</th>\n",
       "    </tr>\n",
       "  </thead>\n",
       "  <tbody>\n",
       "    <tr>\n",
       "      <th>0</th>\n",
       "      <td>103655</td>\n",
       "      <td>63284</td>\n",
       "      <td>20151019</td>\n",
       "      <td>0</td>\n",
       "      <td>4</td>\n",
       "      <td>1</td>\n",
       "      <td>0</td>\n",
       "      <td>rur</td>\n",
       "      <td>20.12.2014</td>\n",
       "      <td>0</td>\n",
       "      <td>...</td>\n",
       "      <td>0</td>\n",
       "      <td>0</td>\n",
       "      <td>0</td>\n",
       "      <td>0</td>\n",
       "      <td>0</td>\n",
       "      <td>0</td>\n",
       "      <td>0</td>\n",
       "      <td>3</td>\n",
       "      <td>753.85</td>\n",
       "      <td>XX000000000</td>\n",
       "    </tr>\n",
       "    <tr>\n",
       "      <th>1</th>\n",
       "      <td>130390</td>\n",
       "      <td>63284</td>\n",
       "      <td>20151019</td>\n",
       "      <td>0</td>\n",
       "      <td>3</td>\n",
       "      <td>1</td>\n",
       "      <td>0</td>\n",
       "      <td>rur</td>\n",
       "      <td>02.07.2014</td>\n",
       "      <td>0</td>\n",
       "      <td>...</td>\n",
       "      <td>0</td>\n",
       "      <td>0</td>\n",
       "      <td>0</td>\n",
       "      <td>0</td>\n",
       "      <td>0</td>\n",
       "      <td>0</td>\n",
       "      <td>0</td>\n",
       "      <td>3</td>\n",
       "      <td>7580.00</td>\n",
       "      <td>X000000000000000</td>\n",
       "    </tr>\n",
       "    <tr>\n",
       "      <th>2</th>\n",
       "      <td>153121</td>\n",
       "      <td>63284</td>\n",
       "      <td>20151019</td>\n",
       "      <td>0</td>\n",
       "      <td>1</td>\n",
       "      <td>0</td>\n",
       "      <td>0</td>\n",
       "      <td>rur</td>\n",
       "      <td>03.12.2011</td>\n",
       "      <td>0</td>\n",
       "      <td>...</td>\n",
       "      <td>0</td>\n",
       "      <td>0</td>\n",
       "      <td>0</td>\n",
       "      <td>0</td>\n",
       "      <td>0</td>\n",
       "      <td>0</td>\n",
       "      <td>0</td>\n",
       "      <td>3</td>\n",
       "      <td>0.00</td>\n",
       "      <td>CCCCCCCCCCCCCCCCCCCCCCCCCCCCCCCCCCCCCCCCC000000</td>\n",
       "    </tr>\n",
       "    <tr>\n",
       "      <th>3</th>\n",
       "      <td>176961</td>\n",
       "      <td>63284</td>\n",
       "      <td>20151019</td>\n",
       "      <td>0</td>\n",
       "      <td>3</td>\n",
       "      <td>0</td>\n",
       "      <td>0</td>\n",
       "      <td>rur</td>\n",
       "      <td>03.12.2007</td>\n",
       "      <td>0</td>\n",
       "      <td>...</td>\n",
       "      <td>0</td>\n",
       "      <td>0</td>\n",
       "      <td>0</td>\n",
       "      <td>0</td>\n",
       "      <td>0</td>\n",
       "      <td>0</td>\n",
       "      <td>0</td>\n",
       "      <td>3</td>\n",
       "      <td>0.00</td>\n",
       "      <td>CCCCCCCCCCCCCCCCCCCCCCCCCCCCCCCCCCCC0000000000...</td>\n",
       "    </tr>\n",
       "    <tr>\n",
       "      <th>4</th>\n",
       "      <td>209935</td>\n",
       "      <td>63284</td>\n",
       "      <td>20151019</td>\n",
       "      <td>0</td>\n",
       "      <td>1</td>\n",
       "      <td>0</td>\n",
       "      <td>0</td>\n",
       "      <td>rur</td>\n",
       "      <td>24.01.2012</td>\n",
       "      <td>0</td>\n",
       "      <td>...</td>\n",
       "      <td>0</td>\n",
       "      <td>0</td>\n",
       "      <td>0</td>\n",
       "      <td>0</td>\n",
       "      <td>0</td>\n",
       "      <td>0</td>\n",
       "      <td>0</td>\n",
       "      <td>3</td>\n",
       "      <td>0.00</td>\n",
       "      <td>CCCCCCCCCCCCCCC0X0X0X000X000X0X0XXX000XX00X0XX</td>\n",
       "    </tr>\n",
       "  </tbody>\n",
       "</table>\n",
       "<p>5 rows × 35 columns</p>\n",
       "</div>"
      ],
      "text/plain": [
       "   Unnamed: 0     ID  SK_DATE_DECISION  DEF  NUM_SOURCE  CREDIT_ACTIVE  \\\n",
       "0      103655  63284          20151019    0           4              1   \n",
       "1      130390  63284          20151019    0           3              1   \n",
       "2      153121  63284          20151019    0           1              0   \n",
       "3      176961  63284          20151019    0           3              0   \n",
       "4      209935  63284          20151019    0           1              0   \n",
       "\n",
       "   CREDIT_COLLATERAL CREDIT_CURRENCY DTIME_CREDIT  CREDIT_DAY_OVERDUE  \\\n",
       "0                  0             rur   20.12.2014                   0   \n",
       "1                  0             rur   02.07.2014                   0   \n",
       "2                  0             rur   03.12.2011                   0   \n",
       "3                  0             rur   03.12.2007                   0   \n",
       "4                  0             rur   24.01.2012                   0   \n",
       "\n",
       "                         ...                         CREDIT_DELAY90  \\\n",
       "0                        ...                                      0   \n",
       "1                        ...                                      0   \n",
       "2                        ...                                      0   \n",
       "3                        ...                                      0   \n",
       "4                        ...                                      0   \n",
       "\n",
       "  CREDIT_DELAY_MORE  AMT_REQ_SOURCE_HOUR  AMT_REQ_SOURCE_DAY  \\\n",
       "0                 0                    0                   0   \n",
       "1                 0                    0                   0   \n",
       "2                 0                    0                   0   \n",
       "3                 0                    0                   0   \n",
       "4                 0                    0                   0   \n",
       "\n",
       "   AMT_REQ_SOURCE_WEEK  AMT_REQ_SOURCE_MON  AMT_REQ_SOURCE_QRT  \\\n",
       "0                    0                   0                   0   \n",
       "1                    0                   0                   0   \n",
       "2                    0                   0                   0   \n",
       "3                    0                   0                   0   \n",
       "4                    0                   0                   0   \n",
       "\n",
       "   AMT_REQ_SOURCE_YEAR  AMT_ANNUITY  \\\n",
       "0                    3       753.85   \n",
       "1                    3      7580.00   \n",
       "2                    3         0.00   \n",
       "3                    3         0.00   \n",
       "4                    3         0.00   \n",
       "\n",
       "                             TEXT_PAYMENT_DISCIPLINE  \n",
       "0                                        XX000000000  \n",
       "1                                   X000000000000000  \n",
       "2    CCCCCCCCCCCCCCCCCCCCCCCCCCCCCCCCCCCCCCCCC000000  \n",
       "3  CCCCCCCCCCCCCCCCCCCCCCCCCCCCCCCCCCCC0000000000...  \n",
       "4     CCCCCCCCCCCCCCC0X0X0X000X000X0X0XXX000XX00X0XX  \n",
       "\n",
       "[5 rows x 35 columns]"
      ]
     },
     "execution_count": 2,
     "metadata": {},
     "output_type": "execute_result"
    }
   ],
   "source": [
    "data = pd.read_csv('book2_test.csv')\n",
    "data.head()"
   ]
  },
  {
   "cell_type": "markdown",
   "metadata": {},
   "source": [
    "Удаляем столбец - рудимент импорта выборки"
   ]
  },
  {
   "cell_type": "code",
   "execution_count": 3,
   "metadata": {
    "collapsed": false
   },
   "outputs": [
    {
     "data": {
      "text/html": [
       "<div>\n",
       "<table border=\"1\" class=\"dataframe\">\n",
       "  <thead>\n",
       "    <tr style=\"text-align: right;\">\n",
       "      <th></th>\n",
       "      <th>ID</th>\n",
       "      <th>SK_DATE_DECISION</th>\n",
       "      <th>DEF</th>\n",
       "      <th>NUM_SOURCE</th>\n",
       "      <th>CREDIT_ACTIVE</th>\n",
       "      <th>CREDIT_COLLATERAL</th>\n",
       "      <th>CREDIT_CURRENCY</th>\n",
       "      <th>DTIME_CREDIT</th>\n",
       "      <th>CREDIT_DAY_OVERDUE</th>\n",
       "      <th>DTIME_CREDIT_ENDDATE</th>\n",
       "      <th>...</th>\n",
       "      <th>CREDIT_DELAY90</th>\n",
       "      <th>CREDIT_DELAY_MORE</th>\n",
       "      <th>AMT_REQ_SOURCE_HOUR</th>\n",
       "      <th>AMT_REQ_SOURCE_DAY</th>\n",
       "      <th>AMT_REQ_SOURCE_WEEK</th>\n",
       "      <th>AMT_REQ_SOURCE_MON</th>\n",
       "      <th>AMT_REQ_SOURCE_QRT</th>\n",
       "      <th>AMT_REQ_SOURCE_YEAR</th>\n",
       "      <th>AMT_ANNUITY</th>\n",
       "      <th>TEXT_PAYMENT_DISCIPLINE</th>\n",
       "    </tr>\n",
       "  </thead>\n",
       "  <tbody>\n",
       "    <tr>\n",
       "      <th>0</th>\n",
       "      <td>63284</td>\n",
       "      <td>20151019</td>\n",
       "      <td>0</td>\n",
       "      <td>4</td>\n",
       "      <td>1</td>\n",
       "      <td>0</td>\n",
       "      <td>rur</td>\n",
       "      <td>20.12.2014</td>\n",
       "      <td>0</td>\n",
       "      <td>21.12.2015</td>\n",
       "      <td>...</td>\n",
       "      <td>0</td>\n",
       "      <td>0</td>\n",
       "      <td>0</td>\n",
       "      <td>0</td>\n",
       "      <td>0</td>\n",
       "      <td>0</td>\n",
       "      <td>0</td>\n",
       "      <td>3</td>\n",
       "      <td>753.85</td>\n",
       "      <td>XX000000000</td>\n",
       "    </tr>\n",
       "    <tr>\n",
       "      <th>1</th>\n",
       "      <td>63284</td>\n",
       "      <td>20151019</td>\n",
       "      <td>0</td>\n",
       "      <td>3</td>\n",
       "      <td>1</td>\n",
       "      <td>0</td>\n",
       "      <td>rur</td>\n",
       "      <td>02.07.2014</td>\n",
       "      <td>0</td>\n",
       "      <td>25.06.2018</td>\n",
       "      <td>...</td>\n",
       "      <td>0</td>\n",
       "      <td>0</td>\n",
       "      <td>0</td>\n",
       "      <td>0</td>\n",
       "      <td>0</td>\n",
       "      <td>0</td>\n",
       "      <td>0</td>\n",
       "      <td>3</td>\n",
       "      <td>7580.00</td>\n",
       "      <td>X000000000000000</td>\n",
       "    </tr>\n",
       "    <tr>\n",
       "      <th>2</th>\n",
       "      <td>63284</td>\n",
       "      <td>20151019</td>\n",
       "      <td>0</td>\n",
       "      <td>1</td>\n",
       "      <td>0</td>\n",
       "      <td>0</td>\n",
       "      <td>rur</td>\n",
       "      <td>03.12.2011</td>\n",
       "      <td>0</td>\n",
       "      <td>04.06.2012</td>\n",
       "      <td>...</td>\n",
       "      <td>0</td>\n",
       "      <td>0</td>\n",
       "      <td>0</td>\n",
       "      <td>0</td>\n",
       "      <td>0</td>\n",
       "      <td>0</td>\n",
       "      <td>0</td>\n",
       "      <td>3</td>\n",
       "      <td>0.00</td>\n",
       "      <td>CCCCCCCCCCCCCCCCCCCCCCCCCCCCCCCCCCCCCCCCC000000</td>\n",
       "    </tr>\n",
       "    <tr>\n",
       "      <th>3</th>\n",
       "      <td>63284</td>\n",
       "      <td>20151019</td>\n",
       "      <td>0</td>\n",
       "      <td>3</td>\n",
       "      <td>0</td>\n",
       "      <td>0</td>\n",
       "      <td>rur</td>\n",
       "      <td>03.12.2007</td>\n",
       "      <td>0</td>\n",
       "      <td>12.11.2012</td>\n",
       "      <td>...</td>\n",
       "      <td>0</td>\n",
       "      <td>0</td>\n",
       "      <td>0</td>\n",
       "      <td>0</td>\n",
       "      <td>0</td>\n",
       "      <td>0</td>\n",
       "      <td>0</td>\n",
       "      <td>3</td>\n",
       "      <td>0.00</td>\n",
       "      <td>CCCCCCCCCCCCCCCCCCCCCCCCCCCCCCCCCCCC0000000000...</td>\n",
       "    </tr>\n",
       "    <tr>\n",
       "      <th>4</th>\n",
       "      <td>63284</td>\n",
       "      <td>20151019</td>\n",
       "      <td>0</td>\n",
       "      <td>1</td>\n",
       "      <td>0</td>\n",
       "      <td>0</td>\n",
       "      <td>rur</td>\n",
       "      <td>24.01.2012</td>\n",
       "      <td>0</td>\n",
       "      <td>24.01.2017</td>\n",
       "      <td>...</td>\n",
       "      <td>0</td>\n",
       "      <td>0</td>\n",
       "      <td>0</td>\n",
       "      <td>0</td>\n",
       "      <td>0</td>\n",
       "      <td>0</td>\n",
       "      <td>0</td>\n",
       "      <td>3</td>\n",
       "      <td>0.00</td>\n",
       "      <td>CCCCCCCCCCCCCCC0X0X0X000X000X0X0XXX000XX00X0XX</td>\n",
       "    </tr>\n",
       "  </tbody>\n",
       "</table>\n",
       "<p>5 rows × 34 columns</p>\n",
       "</div>"
      ],
      "text/plain": [
       "      ID  SK_DATE_DECISION  DEF  NUM_SOURCE  CREDIT_ACTIVE  CREDIT_COLLATERAL  \\\n",
       "0  63284          20151019    0           4              1                  0   \n",
       "1  63284          20151019    0           3              1                  0   \n",
       "2  63284          20151019    0           1              0                  0   \n",
       "3  63284          20151019    0           3              0                  0   \n",
       "4  63284          20151019    0           1              0                  0   \n",
       "\n",
       "  CREDIT_CURRENCY DTIME_CREDIT  CREDIT_DAY_OVERDUE DTIME_CREDIT_ENDDATE  \\\n",
       "0             rur   20.12.2014                   0           21.12.2015   \n",
       "1             rur   02.07.2014                   0           25.06.2018   \n",
       "2             rur   03.12.2011                   0           04.06.2012   \n",
       "3             rur   03.12.2007                   0           12.11.2012   \n",
       "4             rur   24.01.2012                   0           24.01.2017   \n",
       "\n",
       "                         ...                         CREDIT_DELAY90  \\\n",
       "0                        ...                                      0   \n",
       "1                        ...                                      0   \n",
       "2                        ...                                      0   \n",
       "3                        ...                                      0   \n",
       "4                        ...                                      0   \n",
       "\n",
       "   CREDIT_DELAY_MORE  AMT_REQ_SOURCE_HOUR  AMT_REQ_SOURCE_DAY  \\\n",
       "0                  0                    0                   0   \n",
       "1                  0                    0                   0   \n",
       "2                  0                    0                   0   \n",
       "3                  0                    0                   0   \n",
       "4                  0                    0                   0   \n",
       "\n",
       "   AMT_REQ_SOURCE_WEEK  AMT_REQ_SOURCE_MON  AMT_REQ_SOURCE_QRT  \\\n",
       "0                    0                   0                   0   \n",
       "1                    0                   0                   0   \n",
       "2                    0                   0                   0   \n",
       "3                    0                   0                   0   \n",
       "4                    0                   0                   0   \n",
       "\n",
       "   AMT_REQ_SOURCE_YEAR  AMT_ANNUITY  \\\n",
       "0                    3       753.85   \n",
       "1                    3      7580.00   \n",
       "2                    3         0.00   \n",
       "3                    3         0.00   \n",
       "4                    3         0.00   \n",
       "\n",
       "                             TEXT_PAYMENT_DISCIPLINE  \n",
       "0                                        XX000000000  \n",
       "1                                   X000000000000000  \n",
       "2    CCCCCCCCCCCCCCCCCCCCCCCCCCCCCCCCCCCCCCCCC000000  \n",
       "3  CCCCCCCCCCCCCCCCCCCCCCCCCCCCCCCCCCCC0000000000...  \n",
       "4     CCCCCCCCCCCCCCC0X0X0X000X000X0X0XXX000XX00X0XX  \n",
       "\n",
       "[5 rows x 34 columns]"
      ]
     },
     "execution_count": 3,
     "metadata": {},
     "output_type": "execute_result"
    }
   ],
   "source": [
    "data.drop('Unnamed: 0', axis = 1, inplace = True)\n",
    "data.head()"
   ]
  },
  {
   "cell_type": "markdown",
   "metadata": {},
   "source": [
    "Выводим список колонок"
   ]
  },
  {
   "cell_type": "code",
   "execution_count": 4,
   "metadata": {
    "collapsed": false
   },
   "outputs": [
    {
     "name": "stdout",
     "output_type": "stream",
     "text": [
      "['ID', 'SK_DATE_DECISION', 'DEF', 'NUM_SOURCE', 'CREDIT_ACTIVE', 'CREDIT_COLLATERAL', 'CREDIT_CURRENCY', 'DTIME_CREDIT', 'CREDIT_DAY_OVERDUE', 'DTIME_CREDIT_ENDDATE', 'DTIME_CREDIT_ENDDATE_FACT', 'CREDIT_FACILITY', 'AMT_CREDIT_MAX_OVERDUE', 'CNT_CREDIT_PROLONG', 'AMT_CREDIT_SUM', 'AMT_CREDIT_SUM_DEBT', 'AMT_CREDIT_SUM_LIMIT', 'AMT_CREDIT_SUM_OVERDUE', 'CREDIT_SUM_TYPE', 'CREDIT_TYPE', 'DTIME_CREDIT_UPDATE', 'CREDIT_DELAY30', 'CREDIT_DELAY5', 'CREDIT_DELAY60', 'CREDIT_DELAY90', 'CREDIT_DELAY_MORE', 'AMT_REQ_SOURCE_HOUR', 'AMT_REQ_SOURCE_DAY', 'AMT_REQ_SOURCE_WEEK', 'AMT_REQ_SOURCE_MON', 'AMT_REQ_SOURCE_QRT', 'AMT_REQ_SOURCE_YEAR', 'AMT_ANNUITY', 'TEXT_PAYMENT_DISCIPLINE']\n"
     ]
    }
   ],
   "source": [
    "columns = list(data.columns.values)\n",
    "print columns"
   ]
  },
  {
   "cell_type": "markdown",
   "metadata": {},
   "source": [
    "**Доступное описание признаков:**\n",
    "\n",
    "ID - идентификатор заявки на кредит\n",
    "\n",
    "SK_DATE_DECISION - дата рассмотрения заявки\n",
    "\n",
    "DEF – целевая переменная 0 -1 (задача классификации)\n",
    "\n",
    "Переменные – атрибуты кредита из кредитной истории:\n",
    "NUM_SOURCE - номер источника данных - категория\n",
    "\n",
    "CREDIT_ACTIVE - статус кредитного договора - категрия 0 -  9\n",
    " * 0 - договор закрыт\n",
    " * 1 - договор активен\n",
    " * 2 - договор продан\n",
    " * 3 - безнадежный долг\n",
    " * 4 - договор реструктурирован/ рефинансирован\n",
    " * 5 - договор передан коллекторам\n",
    " * 6 - договор заблокирован\n",
    " * 7 - договор отменен\n",
    " * 8 – прекращение информирования по договору\n",
    " * 9 – заемщик освобожден от дальнейшего исполнения требований кредиторов по причине банкротства\n",
    "\n",
    "CREDIT_COLLATERAL - признак погашения за счет обеспечения / поручительства категрия 0 - 1\n",
    "\n",
    "CREDIT_CURRENCY валюта кредита категрия (5 знач.)\n",
    " * 810 или RUR - рубль\n",
    " * 840 или USD - американский доллар\n",
    " * 978 или EUR - евро\n",
    " * 756 или CHF - швейцарский франк\n",
    " * 392 или JPY - японская йена\n",
    "\n",
    "DTIME_CREDIT - дата выдачи кредита\n",
    "\n",
    "CREDIT_DAY_OVERDUE - текущая просроченная задолженность, дни\n",
    "\n",
    "DTIME_CREDIT_ENDDATE - планируемая дата окончания кредита\n",
    "\n",
    "DTIME_CREDIT_ENDDATE_FACT - фактическая дата окончания кредита\n",
    "\n",
    "CREDIT_FACILITY – семантика поля неизвестна\n",
    "\n",
    "AMT_CREDIT_MAX_OVERDUE - максимальная просроченная задолженность за все время жизни договора, сумма\n",
    "\n",
    "CNT_CREDIT_PROLONG - число пролонгаций кредита\n",
    "\n",
    "AMT_CREDIT_SUM - сумма кредита\n",
    "\n",
    "AMT_CREDIT_SUM_DEBT - сумма оставшегося долга\n",
    "\n",
    "AMT_CREDIT_SUM_LIMIT – лимит (для карт)\n",
    "\n",
    "AMT_CREDIT_SUM_OVERDUE - текущая просроченная задолженность, сумма\n",
    "\n",
    "CREDIT_SUM_TYPE - тип задолженностей 0 - 1\n",
    "  * 0 - все задолженности по ОД\n",
    "  * 1 - полные суммы с %\n",
    "\n",
    "CREDIT_TYPE - тип договора (ранг / ктатегория) 0 -19 +2\n",
    "  * 0 - неизвестный тип кредита\n",
    "  * 1 - кредит на автомобиль\n",
    "  * 2 - лизинг\n",
    "  * 3 - ипотека\n",
    "  * 4 - кредитная карта\n",
    "  * 5 - потребительский кредит\n",
    "  * 6 - кредит на развитие бизнеса\n",
    "  * 7 - кредит на пополнение оборотных средств\n",
    "  * 8 - кредит на покупку оборудования\n",
    "  * 9 - кредит на строительство недвижимости\n",
    "  * 10 - кредит на покупку акций (маржинальное кредитование)\n",
    "  * 11 - межбанковский кредит\n",
    "  * 12 - кредит мобильного оператора\n",
    "  * 13 - кредит на обучение\n",
    "  * 14 - дебетовая карта с овердрафтом\n",
    "  * 15 - ипотека (первичный рынок)\n",
    "  * 16 - ипотека (вторичный рынок)\n",
    "  * 17 - ипотека (ломбардный кредит)\n",
    "  * 18 - кредит наличными (нецелевой)\n",
    "  * 19 - микрозайм\n",
    "  * 90 - договор поручительства\n",
    "  * 99 - другой тип кредита\n",
    "\n",
    "DTIME_CREDIT_UPDATE - дата последнего обновления информации в источнике\n",
    "\n",
    "CREDIT_DELAY30 - число просроченных на 6..30 дней платежей\n",
    "\n",
    "CREDIT_DELAY5 - число просроченных на не более 5 дней платежей\n",
    "\n",
    "CREDIT_DELAY60 - число просроченных на 31..60 дней платежей\n",
    "\n",
    "CREDIT_DELAY90 - число просроченных на 61..90 дней платежей\n",
    "\n",
    "CREDIT_DELAY_MORE - число просроченных на 90+ дней платежей\n",
    "\n",
    "AMT_REQ_SOURCE_HOUR - число запросов к источнику за последний час\n",
    "\n",
    "AMT_REQ_SOURCE_DAY - число запросов к источнику за последний день (не считая последний час)\n",
    "\n",
    "AMT_REQ_SOURCE_WEEK - число запросов к источнику за последнюю неделю (не считая последний день)\n",
    "\n",
    "AMT_REQ_SOURCE_MON - число запросов к источнику за последний месяц (не считая последнюю неделю)\n",
    "\n",
    "AMT_REQ_SOURCE_QRT - число запросов к источнику за последний квартал (не считая последний месяц)\n",
    "\n",
    "AMT_REQ_SOURCE_YEAR - число запросов к источнику за последний год (не считая последний квартал)\n",
    "\n",
    "AMT_ANNUITY - сумма ежемесячного платежа\n",
    "\n",
    "TEXT_PAYMENT_DISCIPLINE\n",
    "  * 0 – своевременный платеж\n",
    "  * 1 – просрочка 1..30 дней\n",
    "  * 2 – просрочка 31..60 дней\n",
    "  * 3 – просрочка 61..90 дней\n",
    "  * 4 – просрочка 91..120 дней\n",
    "  * 5 – просрочка 121+ дней, передан коллекторам, продан, списан\n",
    "  * X – статус неизвестен\n",
    "  * C – договор закрыт"
   ]
  },
  {
   "cell_type": "markdown",
   "metadata": {},
   "source": [
    "Смотрим на типы данных в признаках"
   ]
  },
  {
   "cell_type": "code",
   "execution_count": null,
   "metadata": {
    "collapsed": false
   },
   "outputs": [],
   "source": [
    "data.info()"
   ]
  },
  {
   "cell_type": "markdown",
   "metadata": {},
   "source": [
    "FACILITY мало (64 / 1745 = 3.7%), поэтому его можно дропнуть"
   ]
  },
  {
   "cell_type": "markdown",
   "metadata": {},
   "source": [
    "<font color='blue'>**Так как понадобится делать числовые преобразования, надо добавить колонку, в которой сумма кредита приведена к одной валюте** <div>\n",
    "\n",
    "\n",
    "Надо обеспечить так чтобы в выборке были все валюты</font>"
   ]
  },
  {
   "cell_type": "code",
   "execution_count": null,
   "metadata": {
    "collapsed": false
   },
   "outputs": [],
   "source": [
    "data['CREDIT_CURRENCY'].describe(include=['object', 'bool'])"
   ]
  },
  {
   "cell_type": "code",
   "execution_count": null,
   "metadata": {
    "collapsed": false
   },
   "outputs": [],
   "source": [
    "data['CREDIT_CURRENCY'].unique()"
   ]
  },
  {
   "cell_type": "markdown",
   "metadata": {},
   "source": [
    "!! **надо всю обработку данных делать после того, как удалены дублирующие строки (чтобы скорее обрабатывалось)**"
   ]
  },
  {
   "cell_type": "code",
   "execution_count": null,
   "metadata": {
    "collapsed": true
   },
   "outputs": [],
   "source": [
    "USD = 58.336 # можно было бы настроить, чтобы забирал с биржи, но лчше статиснче значения, чтобы не портить данные\n",
    "EUR = 69.347\n",
    "CHF = 59.375\n",
    "JPY = 0.523\n",
    "\n",
    "\n",
    "def RUR_converter(cur, summ): # сделать более красивый вид\n",
    "    if cur == 'usd' or  cur == '840':\n",
    "        return summ * USD\n",
    "    if cur == 'usd' or  cur == '978':\n",
    "        return summ * EUR\n",
    "    if cur == 'usd' or  cur == '756':\n",
    "        return summ * CHF\n",
    "    if cur == 'usd' or  cur == '392':\n",
    "        return summ * JPY\n",
    "    else:\n",
    "        return summ"
   ]
  },
  {
   "cell_type": "code",
   "execution_count": 39,
   "metadata": {
    "collapsed": false
   },
   "outputs": [
    {
     "data": {
      "text/plain": [
       "9800.0"
      ]
     },
     "execution_count": 39,
     "metadata": {},
     "output_type": "execute_result"
    }
   ],
   "source": [
    "data['AMT_CREDIT_SUM'][0]"
   ]
  },
  {
   "cell_type": "code",
   "execution_count": null,
   "metadata": {
    "collapsed": false
   },
   "outputs": [],
   "source": [
    "series = []\n",
    "for index in data.index:\n",
    "    series.append(RUR_converter(data['CREDIT_CURRENCY'][index], data['AMT_CREDIT_SUM'][index]))\n",
    "\n",
    "#print series \n",
    "data['CREDIT_CURRENCY_rur'] = series\n",
    "data[['CREDIT_CURRENCY', 'AMT_CREDIT_SUM', 'CREDIT_CURRENCY_rur']].head()"
   ]
  },
  {
   "cell_type": "markdown",
   "metadata": {},
   "source": [
    "**Преобразовываем признаки-даты**"
   ]
  },
  {
   "cell_type": "code",
   "execution_count": 5,
   "metadata": {
    "collapsed": true
   },
   "outputs": [],
   "source": [
    "data.DTIME_CREDIT_ENDDATE = data.DTIME_CREDIT_ENDDATE.apply(pd.to_datetime)"
   ]
  },
  {
   "cell_type": "code",
   "execution_count": 6,
   "metadata": {
    "collapsed": true
   },
   "outputs": [],
   "source": [
    "data.DTIME_CREDIT_ENDDATE_FACT = data.DTIME_CREDIT_ENDDATE_FACT.apply(pd.to_datetime)"
   ]
  },
  {
   "cell_type": "code",
   "execution_count": 7,
   "metadata": {
    "collapsed": true
   },
   "outputs": [],
   "source": [
    "data.DTIME_CREDIT = data.DTIME_CREDIT.apply(pd.to_datetime) "
   ]
  },
  {
   "cell_type": "code",
   "execution_count": 8,
   "metadata": {
    "collapsed": true
   },
   "outputs": [],
   "source": [
    "data.DTIME_CREDIT_UPDATE = data.DTIME_CREDIT_UPDATE.apply(pd.to_datetime) "
   ]
  },
  {
   "cell_type": "markdown",
   "metadata": {},
   "source": [
    "**Типизируем переменные и объединяем их в группы**"
   ]
  },
  {
   "cell_type": "code",
   "execution_count": 9,
   "metadata": {
    "collapsed": true
   },
   "outputs": [],
   "source": [
    "# 31 features\n",
    "date_cols = ['DTIME_CREDIT', 'DTIME_CREDIT_ENDDATE',\n",
    "             'DTIME_CREDIT_ENDDATE_FACT', 'DTIME_CREDIT_UPDATE' ]\n",
    "numeric_cols = ['CREDIT_DAY_OVERDUE', 'AMT_CREDIT_MAX_OVERDUE',\n",
    "                'CNT_CREDIT_PROLONG', 'AMT_CREDIT_SUM',\n",
    "                'AMT_CREDIT_SUM_DEBT', 'AMT_CREDIT_SUM_LIMIT',\n",
    "                'AMT_CREDIT_SUM_OVERDUE', 'CREDIT_DELAY30', \n",
    "                'CREDIT_DELAY5', 'CREDIT_DELAY60', 'CREDIT_DELAY90',\n",
    "                'CREDIT_DELAY_MORE', 'AMT_REQ_SOURCE_HOUR', \n",
    "                'AMT_REQ_SOURCE_DAY', 'AMT_REQ_SOURCE_WEEK',\n",
    "                'AMT_REQ_SOURCE_MON', 'AMT_REQ_SOURCE_QRT',\n",
    "                'AMT_REQ_SOURCE_YEAR', 'AMT_ANNUITY',]\n",
    "categorical_cols = ['NUM_SOURCE', 'CREDIT_ACTIVE', 'CREDIT_COLLATERAL',\n",
    "                    'CREDIT_CURRENCY', 'CREDIT_FACILITY', 'CREDIT_SUM_TYPE',\n",
    "                    'CREDIT_TYPE' ]\n",
    "text_col = ['TEXT_PAYMENT_DISCIPLINE']"
   ]
  },
  {
   "cell_type": "markdown",
   "metadata": {},
   "source": [
    "## Проблемы данных"
   ]
  },
  {
   "cell_type": "markdown",
   "metadata": {
    "collapsed": true
   },
   "source": [
    "**Проблема 1**\n",
    "\n",
    "Заменить в TEXT_PAYMENT_DISCIPLINE ? <div>\n",
    "0 – своевременный платеж <div>\n",
    "1 – просрочка 1..30 дней = это д.б. сумма 'CREDIT_DELAY30' и 'CREDIT_DELAY5' - можно убрать, т.к. есть более детальная информация <div>\n",
    "2 – просрочка 31..60 дней = это д.б. 'CREDIT_DELAY60' - если совпадает можно убрать <div> \n",
    "3 – просрочка 61..90 дней = это д.б. 'CREDIT_DELAY90' - если совпадает можно убрать<div>\n",
    "4 – просрочка 91..120 дней = это должно входить в 'CREDIT_DELAY_MORE' - т.о. в ТЕХТ детальнее инфа <div>\n",
    "5 – просрочка 121+ дней, передан коллекторам, продан, списан  = это должно входить в 'CREDIT_DELAY_MORE' - т.о. в ТЕХТ детальнее инфа<div>\n",
    "X – статус неизвестен <div>\n",
    "C – договор закрыт <div>"
   ]
  },
  {
   "cell_type": "markdown",
   "metadata": {},
   "source": [
    "**Проблема 2**\n",
    "\n",
    "* Если один ID, один источник данных, один и тот же тип кредита =>  какие противоречия?\n",
    "* Если один ID, один источник данных и разные источники данных =>  какие противоречия?"
   ]
  },
  {
   "cell_type": "markdown",
   "metadata": {},
   "source": [
    "### Работаем с Проблемой 1"
   ]
  },
  {
   "cell_type": "code",
   "execution_count": null,
   "metadata": {
    "collapsed": false
   },
   "outputs": [],
   "source": [
    "data.TEXT_PAYMENT_DISCIPLINE.describe()"
   ]
  },
  {
   "cell_type": "code",
   "execution_count": null,
   "metadata": {
    "collapsed": false
   },
   "outputs": [],
   "source": [
    "# Промежуточный код\n",
    "data[data['CREDIT_DELAY30'] >= 1][['CREDIT_DELAY30',\n",
    "                                    'CREDIT_DELAY5',\n",
    "                                    'CREDIT_DELAY60',\n",
    "                                    'CREDIT_DELAY90',\n",
    "                                    'CREDIT_DELAY_MORE',\n",
    "                                    'TEXT_PAYMENT_DISCIPLINE']].head()\n",
    "    #print data[['CREDIT_DELAY30', 'CREDIT_DELAY5', 'CREDIT_DELAY60',\n",
    "     #'CREDIT_DELAY90', 'CREDIT_DELAY_MORE', 'TEXT_PAYMENT_DISCIPLINE']].head()\n"
   ]
  },
  {
   "cell_type": "code",
   "execution_count": null,
   "metadata": {
    "collapsed": true
   },
   "outputs": [],
   "source": [
    "data_p1_30 = data.groupby('CREDIT_DELAY30')\n",
    "for (i, sub_data) in data_p1:\n",
    "    print \"'CREDIT_DELAY30' = \", i, '\\n', (sub_data[['CREDIT_DELAY30',\n",
    "                                                     'CREDIT_DELAY5',\n",
    "                                                     'CREDIT_DELAY60',\n",
    "                                                     'CREDIT_DELAY90',\n",
    "                                                     'CREDIT_DELAY_MORE',\n",
    "                                                     'TEXT_PAYMENT_DISCIPLINE']].head())\n",
    "    \n",
    "    \n",
    "# сonver_objects не работает- нужно что-то ругое для преобразования объекта в текст"
   ]
  },
  {
   "cell_type": "markdown",
   "metadata": {},
   "source": [
    "<font color='blue'>*Вывод: Грубо подтвердились предположения о суммах обозначений в TEXT По отношению к* CREDIT_DELAY</font>"
   ]
  },
  {
   "cell_type": "code",
   "execution_count": null,
   "metadata": {
    "collapsed": true
   },
   "outputs": [],
   "source": [
    "# код с ошибкой \n",
    "data['Text'] = [t[0:-10] for t in data.TEXT_PAYMENT_DISCIPLINE]"
   ]
  },
  {
   "cell_type": "code",
   "execution_count": null,
   "metadata": {
    "collapsed": true
   },
   "outputs": [],
   "source": [
    "# код с ошибкой \n",
    "for 'X' in data['TEXT_PAYMENT_DISCIPLINE'] == 'XX000000000':\n",
    "    print 1"
   ]
  },
  {
   "cell_type": "code",
   "execution_count": null,
   "metadata": {
    "collapsed": true
   },
   "outputs": [],
   "source": [
    "# код с ошибкой \n",
    "for row in data:\n",
    "    x = data['TEXT_PAYMENT_DISCIPLINE'].count('X')"
   ]
  },
  {
   "cell_type": "markdown",
   "metadata": {},
   "source": [
    "<font color='blue'>*Пока не будем работать с этими данными, хотя там наверняка полезная информация <div>\n",
    "\n",
    "*Нужно найти способ конвертировать object в распознаваемый набор символов (т.к. нужно считать количество Х, например, или учитывать, на какм месте справа впервые появилась просрочка)*</font>\n",
    "****"
   ]
  },
  {
   "cell_type": "markdown",
   "metadata": {},
   "source": [
    "****\n",
    "<font color='red'> При работе с текстовой строкой можно было бы использовать функции поиска подстроки в строке: .find & .rfind (поиск с начала или с конца строки) и сделать цикл типа дл ккаждого элемента в наборе уникальных элементов - почитать и число вхождений и последнее/первое вхождение </font>"
   ]
  },
  {
   "cell_type": "markdown",
   "metadata": {},
   "source": [
    "### Работаем с Проблемой 2"
   ]
  },
  {
   "cell_type": "markdown",
   "metadata": {},
   "source": [
    "**Идеи как отобрать источники**\n",
    "\n",
    "* Смотрим, какие признаки можно использовать однозначно (одинаковые для всех источников):\n",
    "   * Для начала надо соотнести строки из разных источников. попробовать по тем параметрам которые идентичны - смёрджить их в первую очередь\n",
    "   * если \"идентичных\" параметров изначально не хватает чтобы однозначно соотнести строки, нужно будет найти поля, для которых можно ввести предел отклонения.  т.е. например по дате, если она в пределах 1-2 дней, считаем что это одна дата и одно действие пользователя. получаем уникальный идентификатор строки - \"ID + дата\"  после этого можно анализировать остальные параметры и их различие для этого идентификатора\n",
    "   \n",
    "* По различающимся параметрам провести анализ различий и потом придумать алгоритмы для мёрджа данных из разных источников для каждого признака:\n",
    "   * Смотрим на число обращений других банков к этому источнику (число обращений к данному источнику данных (NUM_SOURCE) от других банков за соответствующий суффиксу временной период от дачи подачи заявки на кредит)- выявляем непопулярне источники, если обнаружатся\n",
    "   * Можно было бы также проверить не только частоту обращений, но и сколько раз в источнике не было данных (количество Х в TEXT или иным способом - так мы бы идентифицировали бесполезные источники)\n",
    "   * Проверить все параметры между разными источниками. Если выяснится что данные из одного источника стабильно отличаются от трех других, тогда можно подумать о его отбраковке\n",
    "   * Далее надо выяснить характер отличий каждого из параметров у разных источников и на этом основании для каждого признака придумать алгоритм, по которому будут отбираться данные (заменяться на максимум или среднее по всем источникам или брать значение из определённого источника)"
   ]
  },
  {
   "cell_type": "markdown",
   "metadata": {},
   "source": [
    "#### Результат обработки:"
   ]
  },
  {
   "cell_type": "markdown",
   "metadata": {},
   "source": [
    "Обзор данных по разным типам кредитов"
   ]
  },
  {
   "cell_type": "code",
   "execution_count": null,
   "metadata": {
    "collapsed": true
   },
   "outputs": [],
   "source": [
    "#\n",
    "#                         1 ист       2 ист        3 ист      4 ист\n",
    "#========================================================================================================\n",
    "# Отсутствуют\n",
    "#--------------------------------------------------------------------------------------------------------\n",
    "# CREDIT_FACILITY            +          +            +                                 \n",
    "# AMT_ANNUITY                           +       \n",
    "# AMT_CREDIT_MAX_OVERDUE     +          +            + \n",
    "# AMT_CREDIT_SUM_LIMIT                               +                        \n",
    "#                                                                                                         \n",
    "#\n",
    "#\n",
    "# Равны нулю\n",
    "#--------------------------------------------------------------------------------------------------------\n",
    "# CREDIT_DELAY5                         +            +                                   \n",
    "# CREDIT_DELAY60                        +                                               \n",
    "# CREDIT_DELAY90                        +            +                                   \n",
    "#                                                                                                         \n",
    "#\n",
    "#\n",
    "# Равны 1\n",
    "#--------------------------------------------------------------------------------------------------------\n",
    "# CREDIT_SUM_TYPE           +            +           +                                                                                                                                           \n",
    "#\n",
    "#\n",
    "#\n",
    "# Имеют превышение / максимумы по выборке\n",
    "#--------------------------------------------------------------------------------------------------------\n",
    "# CREDIT_DAY_OVERDUE        +                                                                                    \n",
    "# CREDIT_DELAY_MORE                                  +           +                                                                       \n",
    "#\n",
    "#\n",
    "# Имеют минимумы по выборке\n",
    "#--------------------------------------------------------------------------------------------------------\n",
    "# AMT_REQ_SOURCE_YEAR                   +                                                                                     \n",
    "#                                                                                                         \n",
    "#\n",
    "#\n",
    "# Типы кредитов\n",
    "#--------------------------------------------------------------------------------------------------------\n",
    "#                 [5, 4, 1, 3]    [5, 4]    [5, 6, 4, 3, 1, 19]    [5, 4, 3, 1, 18]\n",
    "#"
   ]
  },
  {
   "cell_type": "code",
   "execution_count": 17,
   "metadata": {
    "collapsed": true
   },
   "outputs": [],
   "source": [
    "data_step01 = pd.DataFrame()\n",
    "data_step1 = pd.DataFrame()\n",
    "IDs = data.ID.unique()\n",
    "\n",
    "\n",
    "def quant(ct):\n",
    "    return sub_data[sub_data['CREDIT_TYPE'] == ct]['CREDIT_TYPE'].value_counts()  # = Series, считаем количество строк по кредиту каждого типа \n",
    "\n",
    "nat = np.datetime64('NaT')\n",
    "def nat_check(nat):\n",
    "    return nat == np.datetime64('NaT')  "
   ]
  },
  {
   "cell_type": "code",
   "execution_count": 14,
   "metadata": {
    "collapsed": false
   },
   "outputs": [
    {
     "ename": "IndexError",
     "evalue": "index 0 is out of bounds for axis 0 with size 0",
     "output_type": "error",
     "traceback": [
      "\u001b[1;31m---------------------------------------------------------------------------\u001b[0m",
      "\u001b[1;31mIndexError\u001b[0m                                Traceback (most recent call last)",
      "\u001b[1;32m<ipython-input-14-6fe526dcffe9>\u001b[0m in \u001b[0;36m<module>\u001b[1;34m()\u001b[0m\n\u001b[0;32m     11\u001b[0m \u001b[1;33m\u001b[0m\u001b[0m\n\u001b[0;32m     12\u001b[0m     \u001b[1;32mfor\u001b[0m \u001b[0mct\u001b[0m \u001b[1;32min\u001b[0m \u001b[0mun_CTs\u001b[0m\u001b[1;33m:\u001b[0m\u001b[1;33m\u001b[0m\u001b[0m\n\u001b[1;32m---> 13\u001b[1;33m         \u001b[1;32mif\u001b[0m \u001b[0mquant\u001b[0m\u001b[1;33m(\u001b[0m\u001b[0mct\u001b[0m\u001b[1;33m)\u001b[0m\u001b[1;33m.\u001b[0m\u001b[0mvalues\u001b[0m\u001b[1;33m[\u001b[0m\u001b[1;36m0\u001b[0m\u001b[1;33m]\u001b[0m \u001b[1;33m>\u001b[0m \u001b[1;36m1\u001b[0m\u001b[1;33m:\u001b[0m\u001b[1;33m\u001b[0m\u001b[0m\n\u001b[0m\u001b[0;32m     14\u001b[0m             \u001b[0msub_data\u001b[0m\u001b[1;33m[\u001b[0m\u001b[1;34m'DTIME_CREDIT_diff'\u001b[0m\u001b[1;33m]\u001b[0m \u001b[1;33m=\u001b[0m \u001b[0msub_data\u001b[0m\u001b[1;33m[\u001b[0m\u001b[1;34m'DTIME_CREDIT'\u001b[0m\u001b[1;33m]\u001b[0m\u001b[1;33m.\u001b[0m\u001b[0mdiff\u001b[0m\u001b[1;33m(\u001b[0m\u001b[1;36m1\u001b[0m\u001b[1;33m)\u001b[0m \u001b[1;31m# добавили колонку с дифференсом\u001b[0m\u001b[1;33m\u001b[0m\u001b[0m\n\u001b[0;32m     15\u001b[0m             \u001b[0msub_data\u001b[0m \u001b[1;33m=\u001b[0m \u001b[0msub_data\u001b[0m\u001b[1;33m.\u001b[0m\u001b[0mloc\u001b[0m\u001b[1;33m[\u001b[0m\u001b[0msub_data\u001b[0m\u001b[1;33m[\u001b[0m\u001b[1;34m'DTIME_CREDIT_diff'\u001b[0m\u001b[1;33m]\u001b[0m\u001b[1;33m.\u001b[0m\u001b[0mgroupby\u001b[0m\u001b[1;33m(\u001b[0m\u001b[0msub_data\u001b[0m\u001b[1;33m[\u001b[0m\u001b[1;34m'DTIME_CREDIT'\u001b[0m\u001b[1;33m]\u001b[0m\u001b[1;33m)\u001b[0m\u001b[1;33m.\u001b[0m\u001b[0midxmax\u001b[0m\u001b[1;33m(\u001b[0m\u001b[1;33m)\u001b[0m\u001b[1;33m]\u001b[0m\u001b[1;33m\u001b[0m\u001b[0m\n",
      "\u001b[1;31mIndexError\u001b[0m: index 0 is out of bounds for axis 0 with size 0"
     ]
    }
   ],
   "source": [
    "\n",
    "\n",
    "def quant(ct):\n",
    "    return sub_data[sub_data['CREDIT_TYPE'] == ct]['CREDIT_TYPE'].value_counts()  # = Series, считаем количество строк по кредиту каждого типа \n",
    "\n",
    "for d in IDs:\n",
    "    un_CTs = []\n",
    "    sub_data = data[data['ID'] == d]\n",
    "    sub_data = sub_data.sort_values(['DTIME_CREDIT', 'CREDIT_TYPE', 'NUM_SOURCE'], ascending=[True, True, True])\n",
    "    un_CTs = sub_data.CREDIT_TYPE.unique()\n",
    "    \n",
    "    for ct in un_CTs:\n",
    "        if quant(ct).values[0] > 1: \n",
    "            sub_data['DTIME_CREDIT_diff'] = sub_data['DTIME_CREDIT'].diff(1) # добавили колонку с дифференсом\n",
    "            sub_data = sub_data.loc[sub_data['DTIME_CREDIT_diff'].groupby(sub_data['DTIME_CREDIT']).idxmax()]\n",
    "            data_step1.append(sub_data)\n",
    "    \n",
    "print IDs, un_CTs, data_step1"
   ]
  },
  {
   "cell_type": "code",
   "execution_count": 23,
   "metadata": {
    "collapsed": false
   },
   "outputs": [
    {
     "name": "stdout",
     "output_type": "stream",
     "text": [
      "[5]\n",
      "5 12\n",
      "      CREDIT_TYPE  NUM_SOURCE DTIME_CREDIT\n",
      "1314            5           3   2008-08-19\n",
      "1319            5           4   2008-08-19\n",
      "1312            5           3   2009-10-12\n",
      "1322            5           1   2011-11-25\n",
      "1315            5           3   2011-11-26\n",
      "1318            5           4   2011-11-26\n",
      "1313            5           1   2012-04-25\n",
      "1317            5           1   2012-12-17\n",
      "1320            5           3   2012-12-17\n",
      "1323            5           4   2012-12-17\n",
      "1316            5           1   2013-09-24\n",
      "1321            5           1   2014-09-27 12\n"
     ]
    },
    {
     "ename": "AttributeError",
     "evalue": "'Series' object has no attribute 'total_seconds'",
     "output_type": "error",
     "traceback": [
      "\u001b[1;31m---------------------------------------------------------------------------\u001b[0m",
      "\u001b[1;31mAttributeError\u001b[0m                            Traceback (most recent call last)",
      "\u001b[1;32m<ipython-input-23-084e2029fe5b>\u001b[0m in \u001b[0;36m<module>\u001b[1;34m()\u001b[0m\n\u001b[0;32m     33\u001b[0m         \u001b[0msub_data_m\u001b[0m \u001b[1;33m=\u001b[0m \u001b[0msub_data\u001b[0m\u001b[1;33m[\u001b[0m\u001b[0msub_data\u001b[0m\u001b[1;33m[\u001b[0m\u001b[1;34m'CREDIT_TYPE'\u001b[0m\u001b[1;33m]\u001b[0m \u001b[1;33m==\u001b[0m \u001b[0mct\u001b[0m\u001b[1;33m]\u001b[0m\u001b[1;33m\u001b[0m\u001b[0m\n\u001b[0;32m     34\u001b[0m         \u001b[0msub_data_m\u001b[0m \u001b[1;33m=\u001b[0m \u001b[0msub_data_m\u001b[0m\u001b[1;33m.\u001b[0m\u001b[0msort_values\u001b[0m\u001b[1;33m(\u001b[0m\u001b[1;33m[\u001b[0m\u001b[1;34m'DTIME_CREDIT'\u001b[0m\u001b[1;33m,\u001b[0m \u001b[1;34m'CREDIT_TYPE'\u001b[0m\u001b[1;33m,\u001b[0m \u001b[1;34m'NUM_SOURCE'\u001b[0m\u001b[1;33m]\u001b[0m\u001b[1;33m,\u001b[0m \u001b[0mascending\u001b[0m\u001b[1;33m=\u001b[0m\u001b[1;33m[\u001b[0m\u001b[0mTrue\u001b[0m\u001b[1;33m,\u001b[0m \u001b[0mTrue\u001b[0m\u001b[1;33m,\u001b[0m \u001b[0mTrue\u001b[0m\u001b[1;33m]\u001b[0m\u001b[1;33m)\u001b[0m\u001b[1;33m\u001b[0m\u001b[0m\n\u001b[1;32m---> 35\u001b[1;33m         \u001b[0msub_data_m\u001b[0m\u001b[1;33m[\u001b[0m\u001b[1;34m'DTIME_CREDIT_diff'\u001b[0m\u001b[1;33m]\u001b[0m \u001b[1;33m=\u001b[0m \u001b[0msub_data_m\u001b[0m\u001b[1;33m[\u001b[0m\u001b[1;34m'DTIME_CREDIT'\u001b[0m\u001b[1;33m]\u001b[0m\u001b[1;33m.\u001b[0m\u001b[0mdiff\u001b[0m\u001b[1;33m(\u001b[0m\u001b[1;36m1\u001b[0m\u001b[1;33m)\u001b[0m\u001b[1;33m.\u001b[0m\u001b[0mtotal_seconds\u001b[0m\u001b[1;33m(\u001b[0m\u001b[1;33m)\u001b[0m\u001b[1;33m\u001b[0m\u001b[0m\n\u001b[0m\u001b[0;32m     36\u001b[0m \u001b[1;33m\u001b[0m\u001b[0m\n\u001b[0;32m     37\u001b[0m         \u001b[1;32mprint\u001b[0m \u001b[0msub_data_m\u001b[0m\u001b[1;33m[\u001b[0m\u001b[1;33m[\u001b[0m\u001b[1;34m'CREDIT_TYPE'\u001b[0m\u001b[1;33m,\u001b[0m \u001b[1;34m'NUM_SOURCE'\u001b[0m\u001b[1;33m,\u001b[0m\u001b[1;34m'DTIME_CREDIT'\u001b[0m\u001b[1;33m,\u001b[0m \u001b[1;34m'DTIME_CREDIT_diff'\u001b[0m\u001b[1;33m]\u001b[0m\u001b[1;33m]\u001b[0m\u001b[1;33m\u001b[0m\u001b[0m\n",
      "\u001b[1;32mD:\\winPy\\winPy\\python-2.7.10.amd64\\lib\\site-packages\\pandas\\core\\generic.pyc\u001b[0m in \u001b[0;36m__getattr__\u001b[1;34m(self, name)\u001b[0m\n\u001b[0;32m   2244\u001b[0m                 \u001b[1;32mreturn\u001b[0m \u001b[0mself\u001b[0m\u001b[1;33m[\u001b[0m\u001b[0mname\u001b[0m\u001b[1;33m]\u001b[0m\u001b[1;33m\u001b[0m\u001b[0m\n\u001b[0;32m   2245\u001b[0m             raise AttributeError(\"'%s' object has no attribute '%s'\" %\n\u001b[1;32m-> 2246\u001b[1;33m                                  (type(self).__name__, name))\n\u001b[0m\u001b[0;32m   2247\u001b[0m \u001b[1;33m\u001b[0m\u001b[0m\n\u001b[0;32m   2248\u001b[0m     \u001b[1;32mdef\u001b[0m \u001b[0m__setattr__\u001b[0m\u001b[1;33m(\u001b[0m\u001b[0mself\u001b[0m\u001b[1;33m,\u001b[0m \u001b[0mname\u001b[0m\u001b[1;33m,\u001b[0m \u001b[0mvalue\u001b[0m\u001b[1;33m)\u001b[0m\u001b[1;33m:\u001b[0m\u001b[1;33m\u001b[0m\u001b[0m\n",
      "\u001b[1;31mAttributeError\u001b[0m: 'Series' object has no attribute 'total_seconds'"
     ]
    }
   ],
   "source": [
    "d = random.sample(IDs, 1)\n",
    "              # берём любой ID\n",
    "un_CTs = []\n",
    "              # очищаем список уникальных типов кредитов\n",
    "sub_data = data[data['ID'] == d] #  субDF - это данные по выбранному ID\n",
    "sub_data = sub_data.sort_values(['DTIME_CREDIT', 'CREDIT_TYPE', 'NUM_SOURCE'], ascending=[True, True, True]) \n",
    "              # здесь сортировка возможно была не нужна\n",
    "              # сортируем субDF по дате кредита, типу кредита и источнику \n",
    "              # - получаем блоки, каждый из которых относится к оределённому типу кредита и есть сортировка по номеру источника \n",
    "un_CTs = sub_data.CREDIT_TYPE.unique()\n",
    "              # собираем уникальные типы кредитов этого ID\n",
    "\n",
    "print un_CTs \n",
    "              # возможно, проблема в том, что после работы пр одному ct sub_data меняется\n",
    "              # и уже не содержит тех данных, к которым мы обрааемся при работе со следующим ct\n",
    "    \n",
    "for ct in un_CTs:\n",
    "              # для каждого типа кредита этого человека\n",
    "              # Т.е. предполагаем, что разные кредиты - те, у которых большая разница по датам открытия\n",
    "              # - даже если один тип кредита)\n",
    "    data_step01 = pd.DataFrame()\n",
    "    sub_data_m = pd.DataFrame()\n",
    "    sub_data_1 = pd.DataFrame()\n",
    "    ct_lines = quant(ct).values[0]\n",
    "    print ct, ct_lines\n",
    "    print sub_data[['CREDIT_TYPE', 'NUM_SOURCE','DTIME_CREDIT']], len(sub_data)\n",
    "    if ct_lines == 1:\n",
    "        sub_data_1 = sub_data[sub_data['CREDIT_TYPE'] == ct] \n",
    "        data_step01 = data_step01.append(sub_data_1)\n",
    "        #print data_step01[['CREDIT_TYPE', 'NUM_SOURCE','DTIME_CREDIT']]\n",
    "    else:\n",
    "        #print ct_lines\n",
    "        sub_data_m = sub_data[sub_data['CREDIT_TYPE'] == ct] \n",
    "        sub_data_m = sub_data_m.sort_values(['DTIME_CREDIT', 'CREDIT_TYPE', 'NUM_SOURCE'], ascending=[True, True, True])\n",
    "        sub_data_m['DTIME_CREDIT_diff'] = sub_data_m['DTIME_CREDIT'].diff(1) \n",
    "        \n",
    "        print sub_data_m[['CREDIT_TYPE', 'NUM_SOURCE','DTIME_CREDIT', 'DTIME_CREDIT_diff']]\n",
    "        sub_data_m = sub_data_m.reset_index(drop=True,inplace=False)\n",
    "        sub_data_m\n",
    "        new_index = range(0,len(sub_data_m))\n",
    "        sub_data_m = sub_data_m.reindex(new_index)\n",
    "        \n",
    "        print sub_data_m['DTIME_CREDIT_diff'][0], len(sub_data_m)\n",
    "        \n",
    "        if nat_check(nat) == True and sub_data_m['DTIME_CREDIT_diff'][1] != sub_data_m['DTIME_CREDIT_diff'][0]:\n",
    "            data_step01 = data_step01.append(sub_data_m)\n",
    "        else:\n",
    "            sub_data_m = sub_data_m.loc[sub_data_m['DTIME_CREDIT_diff'].groupby(sub_data_m['DTIME_CREDIT']).idxmax()]\n",
    "            print sub_data_m[['CREDIT_TYPE', 'NUM_SOURCE','DTIME_CREDIT', 'DTIME_CREDIT_diff']]\n",
    "            sub_data_m.drop('DTIME_CREDIT_diff', axis = 1, inplace = True)\n",
    "            data_step01 = data_step01.append(sub_data_m)\n",
    "            print len(sub_data), len(data_step01)\n",
    "            \n",
    "        #if sub_data_m['DTIME_CREDIT_diff'][0] == 'NaT' & sub_data_m['DTIME_CREDIT_diff'][1]:\n",
    "        #    data_step01 = data_step01.append(sub_data_m)\n",
    "        #else:\n",
    "        #    sub_data_m = sub_data_m.loc[sub_data_m['DTIME_CREDIT_diff'].groupby(sub_data_m['DTIME_CREDIT']).idxmax()]\n",
    "        #    print sub_data_m[['CREDIT_TYPE', 'NUM_SOURCE','DTIME_CREDIT', 'DTIME_CREDIT_diff']]\n",
    "        #    sub_data_m.drop('DTIME_CREDIT_diff', axis = 1, inplace = True)\n",
    "        #    data_step01 = data_step01.append(sub_data_m)\n",
    "                \n",
    "        print data_step01[['CREDIT_TYPE', 'NUM_SOURCE','DTIME_CREDIT']]\n",
    "      \n",
    "        \n",
    "        \n",
    "    #    sub_data_m.drop('DTIME_CREDIT_diff', axis = 1, inplace = True)\n",
    "    #    data_step01 = data_step01.append(sub_data_m)\n",
    "         \n",
    "# забыла сортировку - возможно поэтому выскаиквал NaN   - всё равно получаются NaN в првой строке     \n",
    "# ===> если на первой строке едиснтвенный источник и единственная дата (значит нужна ещё одна проверка)\n",
    "# если одна строка - и дифференси следующего ряда <=2, то норм\n",
    "\n",
    "# нельзя просто отдельно вытаскивать первую строчку и аппендить её к DF,\n",
    "# потому что может быть случай, что сследующие строки про тот же кредит\n",
    "\n",
    "# нельзя сказать, что ВСЕГДА всем признака присваивается NaN если по диференсу идёт NaT\n",
    "\n",
    "#[5 4]\n",
    "#5 14\n",
    "#14\n",
    "#     CREDIT_TYPE  NUM_SOURCE DTIME_CREDIT  DTIME_CREDIT_diff\n",
    "#476            5           1   2007-04-19                NaT\n",
    "#479            5           2   2008-10-14           544 days\n",
    "#486            5           2   2010-03-24           526 days\n",
    "#477            5           1   2011-01-19           301 days\n",
    "#...\n",
    "#      CREDIT_TYPE  NUM_SOURCE DTIME_CREDIT  DTIME_CREDIT_diff\n",
    "#NaN           NaN         NaN          NaT                NaT\n",
    "# 479            5           2   2008-10-14           544 days\n",
    "# 486            5           2   2010-03-24           526 days\n",
    "#...\n",
    "       \n",
    "    \n",
    "    \n",
    "    \n",
    "    #print data_step01\n",
    "    # добавляем к sub_data столбец 'DTIME_CREDIT_diff', который содержит дифференсы    "
   ]
  },
  {
   "cell_type": "code",
   "execution_count": 84,
   "metadata": {
    "collapsed": false
   },
   "outputs": [
    {
     "name": "stdout",
     "output_type": "stream",
     "text": [
      "[5 4]\n",
      "5 8\n",
      "      CREDIT_TYPE  NUM_SOURCE DTIME_CREDIT\n",
      "1086            5           1   2007-01-12\n",
      "1084            5           3   2007-04-06\n",
      "1082            5           2   2007-07-23\n",
      "1088            5           1   2008-11-24\n",
      "1089            5           1   2008-11-24\n",
      "1083            5           1   2009-01-12\n",
      "1079            4           1   2013-12-30\n",
      "1090            4           3   2013-12-30\n",
      "1087            4           4   2013-12-30\n",
      "1081            4           3   2014-02-07\n",
      "1085            5           3   2014-02-07\n",
      "1080            5           3   2015-02-22\n",
      "      CREDIT_TYPE  NUM_SOURCE DTIME_CREDIT  DTIME_CREDIT_diff\n",
      "1086            5           1   2007-01-12                NaT\n",
      "1084            5           3   2007-04-06            84 days\n",
      "1082            5           2   2007-07-23           108 days\n",
      "1088            5           1   2008-11-24           490 days\n",
      "1089            5           1   2008-11-24             0 days\n",
      "1083            5           1   2009-01-12            49 days\n",
      "1079            4           1   2013-12-30          1813 days\n",
      "1090            4           3   2013-12-30             0 days\n",
      "1087            4           4   2013-12-30             0 days\n",
      "1081            4           3   2014-02-07            39 days\n",
      "1085            5           3   2014-02-07             0 days\n",
      "1080            5           3   2015-02-22           380 days\n",
      "NaT\n",
      "    CREDIT_TYPE  NUM_SOURCE DTIME_CREDIT\n",
      "0             5           1   2007-01-12\n",
      "1             5           3   2007-04-06\n",
      "2             5           2   2007-07-23\n",
      "3             5           1   2008-11-24\n",
      "4             5           1   2008-11-24\n",
      "5             5           1   2009-01-12\n",
      "6             4           1   2013-12-30\n",
      "7             4           3   2013-12-30\n",
      "8             4           4   2013-12-30\n",
      "9             4           3   2014-02-07\n",
      "10            5           3   2014-02-07\n",
      "11            5           3   2015-02-22\n",
      "4 4\n",
      "      CREDIT_TYPE  NUM_SOURCE DTIME_CREDIT\n",
      "1086            5           1   2007-01-12\n",
      "1084            5           3   2007-04-06\n",
      "1082            5           2   2007-07-23\n",
      "1088            5           1   2008-11-24\n",
      "1089            5           1   2008-11-24\n",
      "1083            5           1   2009-01-12\n",
      "1079            4           1   2013-12-30\n",
      "1090            4           3   2013-12-30\n",
      "1087            4           4   2013-12-30\n",
      "1081            4           3   2014-02-07\n",
      "1085            5           3   2014-02-07\n",
      "1080            5           3   2015-02-22\n",
      "      CREDIT_TYPE  NUM_SOURCE DTIME_CREDIT  DTIME_CREDIT_diff\n",
      "1086            5           1   2007-01-12                NaT\n",
      "1084            5           3   2007-04-06            84 days\n",
      "1082            5           2   2007-07-23           108 days\n",
      "1088            5           1   2008-11-24           490 days\n",
      "1089            5           1   2008-11-24             0 days\n",
      "1083            5           1   2009-01-12            49 days\n",
      "1079            4           1   2013-12-30          1813 days\n",
      "1090            4           3   2013-12-30             0 days\n",
      "1087            4           4   2013-12-30             0 days\n",
      "1081            4           3   2014-02-07            39 days\n",
      "1085            5           3   2014-02-07             0 days\n",
      "1080            5           3   2015-02-22           380 days\n",
      "NaT\n",
      "    CREDIT_TYPE  NUM_SOURCE DTIME_CREDIT\n",
      "0             5           1   2007-01-12\n",
      "1             5           3   2007-04-06\n",
      "2             5           2   2007-07-23\n",
      "3             5           1   2008-11-24\n",
      "4             5           1   2008-11-24\n",
      "5             5           1   2009-01-12\n",
      "6             4           1   2013-12-30\n",
      "7             4           3   2013-12-30\n",
      "8             4           4   2013-12-30\n",
      "9             4           3   2014-02-07\n",
      "10            5           3   2014-02-07\n",
      "11            5           3   2015-02-22\n"
     ]
    }
   ],
   "source": [
    "\n",
    "un_CTs = []\n",
    "                # очищаем список уникальных типов кредитов\n",
    "sub_data = data[data['ID'] == d] #  субDF - это данные по выбранному ID\n",
    "sub_data = sub_data.sort_values(['DTIME_CREDIT', 'CREDIT_TYPE', 'NUM_SOURCE'], ascending=[True, True, True]) \n",
    "                # здесь сортировка возможно была не нужна\n",
    "                # сортируем субDF по дате кредита, типу кредита и источнику \n",
    "                # - получаем блоки, каждый из которых относится к оределённому типу кредита и есть сортировка по номеру источника \n",
    "            \n",
    "un_CTs = sub_data.CREDIT_TYPE.unique()\n",
    "               # собираем уникальные типы кредитов этого ID\n",
    "\n",
    "print un_CTs \n",
    "                # выводим список уникальных типов кредитов по ID           \n",
    "    \n",
    "for ct in un_CTs:\n",
    "                # для каждого типа кредита этого человека\n",
    "                # Т.е. предполагаем, что разные кредиты - те, у которых большая разница по датам открытия\n",
    "                # - даже если один тип кредита)\n",
    "    data_step01 = pd.DataFrame()\n",
    "    sub_data_m = pd.DataFrame()\n",
    "    sub_data_1 = pd.DataFrame()\n",
    "    ct_lines = quant(ct).values[0]\n",
    "                # задаём нулевые DF для работы\n",
    "        \n",
    "    print ct, ct_lines\n",
    "                # по выбранному выше типу кредитов вывести его тип и количество линий \n",
    "    print sub_data[['CREDIT_TYPE', 'NUM_SOURCE','DTIME_CREDIT']]\n",
    "                # печатаем DF по ID (просто посмотреть)    \n",
    "        \n",
    "    if ct_lines == 1:\n",
    "        sub_data_1 = sub_data\n",
    "        data_step01 = data_step01.append(sub_data_1)\n",
    "                # если количество линий по кредиту = 1, то просто заносим эту линию в итоговый DF по ID   \n",
    "                # то есть бессмысленно вычислять дифференс             \n",
    "        #print data_step01[['CREDIT_TYPE', 'NUM_SOURCE','DTIME_CREDIT']]\n",
    "        \n",
    "    else:\n",
    "                # иначе: создаём вспомогательный DF (м.б. его можно было не создавать)\n",
    "        sub_data_m = sub_data\n",
    "        sub_data_m = sub_data_m.sort_values(['DTIME_CREDIT', 'CREDIT_TYPE', 'NUM_SOURCE'], ascending=[True, True, True])\n",
    "                # сортируем его (чтобы корректно вычислять дифференс)\n",
    "        sub_data_m['DTIME_CREDIT_diff'] = sub_data_m['DTIME_CREDIT'].diff(1) \n",
    "                # добавлем колонку с вычисленным дифференсом        \n",
    "        print sub_data_m[['CREDIT_TYPE', 'NUM_SOURCE','DTIME_CREDIT', 'DTIME_CREDIT_diff']]\n",
    "                # смотрим на все линии с их дифференсами \n",
    "        sub_data_m = sub_data_m.reset_index(drop=True,inplace=False)\n",
    "        sub_data_m\n",
    "                # смотрим на DF с обнуленными индексами                \n",
    "        new_index = range(0,len(sub_data_m))\n",
    "        sub_data_m = sub_data_m.reindex(new_index)\n",
    "                # назначаем новые индексы (чтобы можно было работать с первыми двумя строчками)\n",
    "        #print sub_data_m['DTIME_CREDIT_diff'][0]\n",
    "                        \n",
    "        if nat_check(nat) == True and sub_data_m['DTIME_CREDIT_diff'][1] != sub_data_m['DTIME_CREDIT_diff'][0]:\n",
    "            data_step01 = data_step01.append(sub_data_m)\n",
    "                # если в верней строчке есть NaT (Дифференс не определён)\n",
    "                # и при этом это едиственная строчка по данному кредиту и с этой датой\n",
    "                # => просто включаем эту строчку в итоговый DF по ID \n",
    "        else:\n",
    "            sub_data_m = sub_data_m.loc[sub_data_m['DTIME_CREDIT_diff'].groupby(sub_data_m['DTIME_CREDIT']).idxmax()]\n",
    "            print sub_data_m[['CREDIT_TYPE', 'NUM_SOURCE','DTIME_CREDIT', 'DTIME_CREDIT_diff']]\n",
    "            sub_data_m.drop('DTIME_CREDIT_diff', axis = 1, inplace = True)\n",
    "            data_step01 = data_step01.append(sub_data_m)\n",
    "                # иначе: выводим строки, по которым максимальный дифференс, вычеркиваем столбец с дифференсом\n",
    "                # и добавляем в итоговый DF по ID \n",
    "                \n",
    "        print data_step01[['CREDIT_TYPE', 'NUM_SOURCE','DTIME_CREDIT']]\n",
    "                # смотрим на итоговый DF по ID"
   ]
  },
  {
   "cell_type": "code",
   "execution_count": 60,
   "metadata": {
    "collapsed": false
   },
   "outputs": [
    {
     "data": {
      "text/html": [
       "<div>\n",
       "<table border=\"1\" class=\"dataframe\">\n",
       "  <thead>\n",
       "    <tr style=\"text-align: right;\">\n",
       "      <th></th>\n",
       "      <th>DTIME_CREDIT</th>\n",
       "      <th>CREDIT_TYPE</th>\n",
       "      <th>NUM_SOURCE</th>\n",
       "    </tr>\n",
       "  </thead>\n",
       "  <tbody>\n",
       "    <tr>\n",
       "      <th>687</th>\n",
       "      <td>2010-06-26</td>\n",
       "      <td>5</td>\n",
       "      <td>1</td>\n",
       "    </tr>\n",
       "    <tr>\n",
       "      <th>686</th>\n",
       "      <td>2012-03-16</td>\n",
       "      <td>5</td>\n",
       "      <td>1</td>\n",
       "    </tr>\n",
       "    <tr>\n",
       "      <th>682</th>\n",
       "      <td>2012-09-24</td>\n",
       "      <td>4</td>\n",
       "      <td>1</td>\n",
       "    </tr>\n",
       "    <tr>\n",
       "      <th>683</th>\n",
       "      <td>2014-11-10</td>\n",
       "      <td>4</td>\n",
       "      <td>1</td>\n",
       "    </tr>\n",
       "    <tr>\n",
       "      <th>685</th>\n",
       "      <td>2014-11-10</td>\n",
       "      <td>4</td>\n",
       "      <td>3</td>\n",
       "    </tr>\n",
       "    <tr>\n",
       "      <th>684</th>\n",
       "      <td>2014-11-10</td>\n",
       "      <td>4</td>\n",
       "      <td>4</td>\n",
       "    </tr>\n",
       "  </tbody>\n",
       "</table>\n",
       "</div>"
      ],
      "text/plain": [
       "    DTIME_CREDIT  CREDIT_TYPE  NUM_SOURCE\n",
       "687   2010-06-26            5           1\n",
       "686   2012-03-16            5           1\n",
       "682   2012-09-24            4           1\n",
       "683   2014-11-10            4           1\n",
       "685   2014-11-10            4           3\n",
       "684   2014-11-10            4           4"
      ]
     },
     "execution_count": 60,
     "metadata": {},
     "output_type": "execute_result"
    }
   ],
   "source": [
    "sub_data = data[data['ID'] == d] \n",
    "un_CTs = sub_data.CREDIT_TYPE.unique()\n",
    "\n",
    "sub_data=sub_data.sort_values(['DTIME_CREDIT', 'CREDIT_TYPE', 'NUM_SOURCE'], ascending=[True, True, True])\n",
    "sub_data[['DTIME_CREDIT', 'CREDIT_TYPE', 'NUM_SOURCE']]"
   ]
  },
  {
   "cell_type": "code",
   "execution_count": 74,
   "metadata": {
    "collapsed": true
   },
   "outputs": [],
   "source": [
    "nat = np.datetime64('NaT')\n",
    "def nat_check(nat):\n",
    "    return nat == np.datetime64('NaT')  "
   ]
  },
  {
   "cell_type": "code",
   "execution_count": 75,
   "metadata": {
    "collapsed": false
   },
   "outputs": [
    {
     "data": {
      "text/plain": [
       "True"
      ]
     },
     "execution_count": 75,
     "metadata": {},
     "output_type": "execute_result"
    }
   ],
   "source": [
    "nat_check(nat)"
   ]
  },
  {
   "cell_type": "code",
   "execution_count": 77,
   "metadata": {
    "collapsed": false
   },
   "outputs": [
    {
     "name": "stdout",
     "output_type": "stream",
     "text": [
      "     CREDIT_TYPE  NUM_SOURCE DTIME_CREDIT  DTIME_CREDIT_diff\n",
      "687            5           1   2010-06-26                NaT\n",
      "686            5           1   2012-03-16           629 days\n",
      "682            4           1   2012-09-24           192 days\n",
      "683            4           1   2014-11-10           777 days\n",
      "685            4           3   2014-11-10             0 days\n",
      "684            4           4   2014-11-10             0 days\n",
      "NaT\n",
      "rrrrr\n",
      "     CREDIT_TYPE  NUM_SOURCE DTIME_CREDIT  DTIME_CREDIT_diff\n",
      "687            5           1   2010-06-26                NaT\n",
      "686            5           1   2012-03-16           629 days\n",
      "682            4           1   2012-09-24           192 days\n",
      "683            4           1   2014-11-10           777 days\n",
      "685            4           3   2014-11-10             0 days\n",
      "684            4           4   2014-11-10             0 days\n",
      "NaT\n",
      "rrrrr\n"
     ]
    }
   ],
   "source": [
    "#d = random.sample(IDs, 1)\n",
    "sub_data = data[data['ID'] == d] \n",
    "un_CTs = sub_data.CREDIT_TYPE.unique()\n",
    "  \n",
    "\n",
    "for ct in un_CTs:\n",
    "    data_step01 = pd.DataFrame()\n",
    "    sub_data_m = pd.DataFrame()\n",
    "    sub_data_1 = pd.DataFrame()\n",
    "    ct_lines = quant(ct).values[0]\n",
    "    #print ct, ct_lines\n",
    "    #print sub_data[['CREDIT_TYPE', 'NUM_SOURCE','DTIME_CREDIT']]\n",
    "    if ct_lines == 1:\n",
    "        sub_data_1 = sub_data\n",
    "        data_step01 = data_step01.append(sub_data_1)\n",
    "        #print data_step01[['CREDIT_TYPE', 'NUM_SOURCE','DTIME_CREDIT']]\n",
    "    else:  # на тесте \n",
    "        #print ct_lines\n",
    "        sub_data_m = sub_data\n",
    "        sub_data_m = sub_data_m.sort_values(['DTIME_CREDIT', 'CREDIT_TYPE', 'NUM_SOURCE'], ascending=[True, True, True])\n",
    "        sub_data_m['DTIME_CREDIT_diff'] = sub_data_m['DTIME_CREDIT'].diff(1) \n",
    "        \n",
    "        print sub_data_m[['CREDIT_TYPE', 'NUM_SOURCE','DTIME_CREDIT', 'DTIME_CREDIT_diff']]\n",
    "        \n",
    "        sub_data_m = sub_data_m.reset_index(drop=True,inplace=False)\n",
    "        #sub_data_m\n",
    "        \n",
    "        new_index = range(0,len(sub_data_m))\n",
    "        sub_data_m = sub_data_m.reindex(new_index)\n",
    "        print sub_data_m['DTIME_CREDIT_diff'][0]\n",
    "        if nat_check(nat) == True:\n",
    "        #if sub_data_m['DTIME_CREDIT_diff'][0] = np.datetime64('NaT'):\n",
    "            print 'rrrrr'\n",
    "\n",
    "        \n",
    "        \n",
    "        #if sub_data_m['DTIME_CREDIT_diff'][0] > 0: # как задать проверку, есть ли там NaT (== И = не работают)\n",
    "        #    print sub_data_m['DTIME_CREDIT_diff'][0]\n",
    "        \n",
    "        #sub_data_m['DTIME_CREDIT_diff'][0] # Series\n",
    "        #if sub_data_m.iloc[[0]]['DTIME_CREDIT_diff'] == 'NaT':\n",
    "        #    data_step01 = data_step01.append(sub_data_m)\n",
    "        #else:\n",
    "        #    sub_data_m = sub_data_m.loc[sub_data_m['DTIME_CREDIT_diff'].groupby(sub_data_m['DTIME_CREDIT']).idxmax()]\n",
    "        #    print sub_data_m[['CREDIT_TYPE', 'NUM_SOURCE','DTIME_CREDIT', 'DTIME_CREDIT_diff']]\n",
    "        #    sub_data_m.drop('DTIME_CREDIT_diff', axis = 1, inplace = True)\n",
    "        #    data_step01 = data_step01.append(sub_data_m)\n",
    "                \n",
    "        #print data_step01"
   ]
  },
  {
   "cell_type": "code",
   "execution_count": 18,
   "metadata": {
    "collapsed": false
   },
   "outputs": [
    {
     "name": "stdout",
     "output_type": "stream",
     "text": [
      "2\n",
      "     CREDIT_TYPE  NUM_SOURCE DTIME_CREDIT  DTIME_CREDIT_diff\n",
      "892            5           1   2006-01-08                NaT\n",
      "898            4           3   2010-11-19          1776 days\n",
      "894            4           4   2010-11-19             0 days\n",
      "899            4           1   2014-01-24          1162 days\n",
      "895            5           1   2014-08-10           198 days\n",
      "897            4           1   2015-01-27           170 days\n",
      "896            4           3   2015-01-27             0 days\n",
      "893            4           4   2015-01-27             0 days\n"
     ]
    },
    {
     "data": {
      "text/html": [
       "<div>\n",
       "<table border=\"1\" class=\"dataframe\">\n",
       "  <thead>\n",
       "    <tr style=\"text-align: right;\">\n",
       "      <th></th>\n",
       "      <th>ID</th>\n",
       "      <th>SK_DATE_DECISION</th>\n",
       "      <th>DEF</th>\n",
       "      <th>NUM_SOURCE</th>\n",
       "      <th>CREDIT_ACTIVE</th>\n",
       "      <th>CREDIT_COLLATERAL</th>\n",
       "      <th>CREDIT_CURRENCY</th>\n",
       "      <th>DTIME_CREDIT</th>\n",
       "      <th>CREDIT_DAY_OVERDUE</th>\n",
       "      <th>DTIME_CREDIT_ENDDATE</th>\n",
       "      <th>...</th>\n",
       "      <th>CREDIT_DELAY_MORE</th>\n",
       "      <th>AMT_REQ_SOURCE_HOUR</th>\n",
       "      <th>AMT_REQ_SOURCE_DAY</th>\n",
       "      <th>AMT_REQ_SOURCE_WEEK</th>\n",
       "      <th>AMT_REQ_SOURCE_MON</th>\n",
       "      <th>AMT_REQ_SOURCE_QRT</th>\n",
       "      <th>AMT_REQ_SOURCE_YEAR</th>\n",
       "      <th>AMT_ANNUITY</th>\n",
       "      <th>TEXT_PAYMENT_DISCIPLINE</th>\n",
       "      <th>DTIME_CREDIT_diff</th>\n",
       "    </tr>\n",
       "  </thead>\n",
       "  <tbody>\n",
       "    <tr>\n",
       "      <th>0</th>\n",
       "      <td>27110</td>\n",
       "      <td>20150904</td>\n",
       "      <td>0</td>\n",
       "      <td>1</td>\n",
       "      <td>0</td>\n",
       "      <td>0</td>\n",
       "      <td>rur</td>\n",
       "      <td>2006-01-08</td>\n",
       "      <td>0</td>\n",
       "      <td>2008-01-02</td>\n",
       "      <td>...</td>\n",
       "      <td>0</td>\n",
       "      <td>0</td>\n",
       "      <td>0</td>\n",
       "      <td>0</td>\n",
       "      <td>0</td>\n",
       "      <td>0</td>\n",
       "      <td>5</td>\n",
       "      <td>0.00</td>\n",
       "      <td>CCCCCCCCCCCCCCCCCCCCCCCCCCCCCCCCCCCCCCCCCCCCCC...</td>\n",
       "      <td>NaT</td>\n",
       "    </tr>\n",
       "    <tr>\n",
       "      <th>1</th>\n",
       "      <td>27110</td>\n",
       "      <td>20150904</td>\n",
       "      <td>0</td>\n",
       "      <td>3</td>\n",
       "      <td>1</td>\n",
       "      <td>0</td>\n",
       "      <td>rur</td>\n",
       "      <td>2010-11-19</td>\n",
       "      <td>0</td>\n",
       "      <td>2040-11-19</td>\n",
       "      <td>...</td>\n",
       "      <td>0</td>\n",
       "      <td>0</td>\n",
       "      <td>0</td>\n",
       "      <td>0</td>\n",
       "      <td>0</td>\n",
       "      <td>0</td>\n",
       "      <td>5</td>\n",
       "      <td>247.00</td>\n",
       "      <td>X000000000000000000000000000000000000000000000...</td>\n",
       "      <td>1776 days</td>\n",
       "    </tr>\n",
       "    <tr>\n",
       "      <th>2</th>\n",
       "      <td>27110</td>\n",
       "      <td>20150904</td>\n",
       "      <td>0</td>\n",
       "      <td>4</td>\n",
       "      <td>1</td>\n",
       "      <td>0</td>\n",
       "      <td>rur</td>\n",
       "      <td>2010-11-19</td>\n",
       "      <td>0</td>\n",
       "      <td>2040-11-19</td>\n",
       "      <td>...</td>\n",
       "      <td>0</td>\n",
       "      <td>0</td>\n",
       "      <td>0</td>\n",
       "      <td>0</td>\n",
       "      <td>0</td>\n",
       "      <td>0</td>\n",
       "      <td>5</td>\n",
       "      <td>247.00</td>\n",
       "      <td>X000000000000000000000000000000000000000000000...</td>\n",
       "      <td>0 days</td>\n",
       "    </tr>\n",
       "    <tr>\n",
       "      <th>3</th>\n",
       "      <td>27110</td>\n",
       "      <td>20150904</td>\n",
       "      <td>0</td>\n",
       "      <td>1</td>\n",
       "      <td>0</td>\n",
       "      <td>0</td>\n",
       "      <td>rur</td>\n",
       "      <td>2014-01-24</td>\n",
       "      <td>0</td>\n",
       "      <td>2044-07-03</td>\n",
       "      <td>...</td>\n",
       "      <td>0</td>\n",
       "      <td>0</td>\n",
       "      <td>0</td>\n",
       "      <td>0</td>\n",
       "      <td>0</td>\n",
       "      <td>0</td>\n",
       "      <td>5</td>\n",
       "      <td>NaN</td>\n",
       "      <td>CCCCCCCC00000000000XX</td>\n",
       "      <td>1162 days</td>\n",
       "    </tr>\n",
       "    <tr>\n",
       "      <th>4</th>\n",
       "      <td>27110</td>\n",
       "      <td>20150904</td>\n",
       "      <td>0</td>\n",
       "      <td>1</td>\n",
       "      <td>1</td>\n",
       "      <td>0</td>\n",
       "      <td>rur</td>\n",
       "      <td>2014-08-10</td>\n",
       "      <td>0</td>\n",
       "      <td>2016-08-04</td>\n",
       "      <td>...</td>\n",
       "      <td>0</td>\n",
       "      <td>0</td>\n",
       "      <td>0</td>\n",
       "      <td>0</td>\n",
       "      <td>0</td>\n",
       "      <td>0</td>\n",
       "      <td>5</td>\n",
       "      <td>3589.00</td>\n",
       "      <td>X000000010X0</td>\n",
       "      <td>198 days</td>\n",
       "    </tr>\n",
       "    <tr>\n",
       "      <th>5</th>\n",
       "      <td>27110</td>\n",
       "      <td>20150904</td>\n",
       "      <td>0</td>\n",
       "      <td>1</td>\n",
       "      <td>1</td>\n",
       "      <td>0</td>\n",
       "      <td>rur</td>\n",
       "      <td>2015-01-27</td>\n",
       "      <td>0</td>\n",
       "      <td>2019-12-31</td>\n",
       "      <td>...</td>\n",
       "      <td>0</td>\n",
       "      <td>0</td>\n",
       "      <td>0</td>\n",
       "      <td>0</td>\n",
       "      <td>0</td>\n",
       "      <td>0</td>\n",
       "      <td>5</td>\n",
       "      <td>8741.00</td>\n",
       "      <td>X0000000X</td>\n",
       "      <td>170 days</td>\n",
       "    </tr>\n",
       "    <tr>\n",
       "      <th>6</th>\n",
       "      <td>27110</td>\n",
       "      <td>20150904</td>\n",
       "      <td>0</td>\n",
       "      <td>3</td>\n",
       "      <td>1</td>\n",
       "      <td>0</td>\n",
       "      <td>rur</td>\n",
       "      <td>2015-01-27</td>\n",
       "      <td>0</td>\n",
       "      <td>2019-12-30</td>\n",
       "      <td>...</td>\n",
       "      <td>0</td>\n",
       "      <td>0</td>\n",
       "      <td>0</td>\n",
       "      <td>0</td>\n",
       "      <td>0</td>\n",
       "      <td>0</td>\n",
       "      <td>5</td>\n",
       "      <td>3996.00</td>\n",
       "      <td>XX000000X</td>\n",
       "      <td>0 days</td>\n",
       "    </tr>\n",
       "    <tr>\n",
       "      <th>7</th>\n",
       "      <td>27110</td>\n",
       "      <td>20150904</td>\n",
       "      <td>0</td>\n",
       "      <td>4</td>\n",
       "      <td>1</td>\n",
       "      <td>0</td>\n",
       "      <td>rur</td>\n",
       "      <td>2015-01-27</td>\n",
       "      <td>0</td>\n",
       "      <td>NaT</td>\n",
       "      <td>...</td>\n",
       "      <td>0</td>\n",
       "      <td>0</td>\n",
       "      <td>0</td>\n",
       "      <td>0</td>\n",
       "      <td>0</td>\n",
       "      <td>0</td>\n",
       "      <td>5</td>\n",
       "      <td>8740.96</td>\n",
       "      <td>X0000000X</td>\n",
       "      <td>0 days</td>\n",
       "    </tr>\n",
       "  </tbody>\n",
       "</table>\n",
       "<p>8 rows × 35 columns</p>\n",
       "</div>"
      ],
      "text/plain": [
       "      ID  SK_DATE_DECISION  DEF  NUM_SOURCE  CREDIT_ACTIVE  CREDIT_COLLATERAL  \\\n",
       "0  27110          20150904    0           1              0                  0   \n",
       "1  27110          20150904    0           3              1                  0   \n",
       "2  27110          20150904    0           4              1                  0   \n",
       "3  27110          20150904    0           1              0                  0   \n",
       "4  27110          20150904    0           1              1                  0   \n",
       "5  27110          20150904    0           1              1                  0   \n",
       "6  27110          20150904    0           3              1                  0   \n",
       "7  27110          20150904    0           4              1                  0   \n",
       "\n",
       "  CREDIT_CURRENCY DTIME_CREDIT  CREDIT_DAY_OVERDUE DTIME_CREDIT_ENDDATE  \\\n",
       "0             rur   2006-01-08                   0           2008-01-02   \n",
       "1             rur   2010-11-19                   0           2040-11-19   \n",
       "2             rur   2010-11-19                   0           2040-11-19   \n",
       "3             rur   2014-01-24                   0           2044-07-03   \n",
       "4             rur   2014-08-10                   0           2016-08-04   \n",
       "5             rur   2015-01-27                   0           2019-12-31   \n",
       "6             rur   2015-01-27                   0           2019-12-30   \n",
       "7             rur   2015-01-27                   0                  NaT   \n",
       "\n",
       "         ...         CREDIT_DELAY_MORE  AMT_REQ_SOURCE_HOUR  \\\n",
       "0        ...                         0                    0   \n",
       "1        ...                         0                    0   \n",
       "2        ...                         0                    0   \n",
       "3        ...                         0                    0   \n",
       "4        ...                         0                    0   \n",
       "5        ...                         0                    0   \n",
       "6        ...                         0                    0   \n",
       "7        ...                         0                    0   \n",
       "\n",
       "   AMT_REQ_SOURCE_DAY  AMT_REQ_SOURCE_WEEK  AMT_REQ_SOURCE_MON  \\\n",
       "0                   0                    0                   0   \n",
       "1                   0                    0                   0   \n",
       "2                   0                    0                   0   \n",
       "3                   0                    0                   0   \n",
       "4                   0                    0                   0   \n",
       "5                   0                    0                   0   \n",
       "6                   0                    0                   0   \n",
       "7                   0                    0                   0   \n",
       "\n",
       "   AMT_REQ_SOURCE_QRT  AMT_REQ_SOURCE_YEAR  AMT_ANNUITY  \\\n",
       "0                   0                    5         0.00   \n",
       "1                   0                    5       247.00   \n",
       "2                   0                    5       247.00   \n",
       "3                   0                    5          NaN   \n",
       "4                   0                    5      3589.00   \n",
       "5                   0                    5      8741.00   \n",
       "6                   0                    5      3996.00   \n",
       "7                   0                    5      8740.96   \n",
       "\n",
       "                             TEXT_PAYMENT_DISCIPLINE  DTIME_CREDIT_diff  \n",
       "0  CCCCCCCCCCCCCCCCCCCCCCCCCCCCCCCCCCCCCCCCCCCCCC...                NaT  \n",
       "1  X000000000000000000000000000000000000000000000...          1776 days  \n",
       "2  X000000000000000000000000000000000000000000000...             0 days  \n",
       "3                              CCCCCCCC00000000000XX          1162 days  \n",
       "4                                       X000000010X0           198 days  \n",
       "5                                          X0000000X           170 days  \n",
       "6                                          XX000000X             0 days  \n",
       "7                                          X0000000X             0 days  \n",
       "\n",
       "[8 rows x 35 columns]"
      ]
     },
     "execution_count": 18,
     "metadata": {},
     "output_type": "execute_result"
    }
   ],
   "source": [
    "print ct_lines\n",
    "sub_data_m = sub_data\n",
    "sub_data_m = sub_data_m.sort_values(['DTIME_CREDIT', 'CREDIT_TYPE', 'NUM_SOURCE'], ascending=[True, True, True])\n",
    "sub_data_m['DTIME_CREDIT_diff'] = sub_data_m['DTIME_CREDIT'].diff(1) \n",
    "print sub_data_m[['CREDIT_TYPE', 'NUM_SOURCE','DTIME_CREDIT', 'DTIME_CREDIT_diff']]\n",
    "sub_data_m = sub_data_m.reset_index(drop=True,inplace=False)\n",
    "sub_data_m"
   ]
  },
  {
   "cell_type": "code",
   "execution_count": 100,
   "metadata": {
    "collapsed": false
   },
   "outputs": [
    {
     "name": "stdout",
     "output_type": "stream",
     "text": [
      "Empty DataFrame\n",
      "Columns: []\n",
      "Index: []\n"
     ]
    }
   ],
   "source": [
    "for ct in un_CTs:\n",
    "    if quant(ct).values[0] > 1: \n",
    "        sub_data['DTIME_CREDIT_diff'] = sub_data['DTIME_CREDIT'].diff(1) # добавили колонку с дифференсом\n",
    "        sub_data = sub_data.loc[sub_data['DTIME_CREDIT_diff'].groupby(sub_data['DTIME_CREDIT']).idxmax()]\n",
    "        data_step1 = data_step1.append(sub_data)\n",
    "        print sub_data\n",
    "    \n",
    "print data_step1"
   ]
  },
  {
   "cell_type": "code",
   "execution_count": 101,
   "metadata": {
    "collapsed": true
   },
   "outputs": [],
   "source": [
    "for ct in un_CTs:\n",
    "        if quant(ct).values[0] > 1:\n",
    "            #print quant(ct).values[0]\n",
    "            sub_data['DTIME_CREDIT_diff'] = sub_data['DTIME_CREDIT'].diff(1) # добавили колонку с дифференсом\n",
    "            sub_data = sub_data.loc[sub_data['DTIME_CREDIT_diff'].groupby(sub_data['DTIME_CREDIT']).idxmax()]\n",
    "            data_step1.append(sub_data)\n",
    "            print data_step1\n",
    "        else: \n",
    "            sub_data = sub_data[sub_data['CREDIT_TYPE'] == ct]\n",
    "            data_step1.append(sub_data)"
   ]
  },
  {
   "cell_type": "code",
   "execution_count": 21,
   "metadata": {
    "collapsed": false
   },
   "outputs": [
    {
     "data": {
      "text/html": [
       "<div>\n",
       "<table border=\"1\" class=\"dataframe\">\n",
       "  <thead>\n",
       "    <tr style=\"text-align: right;\">\n",
       "      <th></th>\n",
       "    </tr>\n",
       "  </thead>\n",
       "  <tbody>\n",
       "  </tbody>\n",
       "</table>\n",
       "</div>"
      ],
      "text/plain": [
       "Empty DataFrame\n",
       "Columns: []\n",
       "Index: []"
      ]
     },
     "execution_count": 21,
     "metadata": {},
     "output_type": "execute_result"
    }
   ],
   "source": [
    "data_step1"
   ]
  },
  {
   "cell_type": "code",
   "execution_count": null,
   "metadata": {
    "collapsed": false
   },
   "outputs": [],
   "source": [
    "IDs = data.ID.unique()\n",
    "\n",
    "def quant(ct):\n",
    "    return sub_data[sub_data['CREDIT_TYPE'] == ct]['CREDIT_TYPE'].value_counts()  # = Series, считаем количество строк по кредиту каждого типа \n",
    "\n",
    "for d in IDs:\n",
    "    sub_data = data[data['ID'] == d]\n",
    "    #Cts = sub_data.CREDIT_TYPE.unique() # собрали типы кредитов по ID\n",
    "    sub_data = sub_data.sort_values(['DTIME_CREDIT', 'CREDIT_TYPE', 'NUM_SOURCE'], ascending=[True, True, True])\n",
    "    un_CTs = sub_data.CREDIT_TYPE.unique()\n",
    "    for ct in un_CTs:\n",
    "        if quant(ct).values[0] > 1:\n",
    "            #print quant(ct).values[0]\n",
    "            sub_data['DTIME_CREDIT_diff'] = sub_data['DTIME_CREDIT'].diff(1) # добавили колонку с дифференсом\n",
    "            sub_data = sub_data.loc[sub_data['DTIME_CREDIT_diff'].groupby(sub_data['DTIME_CREDIT']).idxmax()]\n",
    "            data_step1.append(sub_data)\n",
    "        else: \n",
    "            sub_data = sub_data[sub_data['CREDIT_TYPE'] == ct]\n",
    "        sub_data.drop(sub_data.columns, axis =1)\n",
    "        #sub_data.drop(sub_data.iloc[0:0])\n",
    "        # отобрали с максимумом по дифференсам\n",
    "        #print ct #, quant(ct).values[0] #, len(un_CTs), len(IDs) \n",
    "        #if quant(ct).values[0] > 1:\n",
    "        #    print quant(ct).values[0]\n",
    "        #    sub_data['DTIME_CREDIT_diff'] = sub_data['DTIME_CREDIT'].diff(1)\n",
    "        #    sub_data = sub_data.loc[sub_data['DTIME_CREDIT_diff'].groupby(sub_data['DTIME_CREDIT']).idxmax()]\n",
    "        #else:\n",
    "        #    sub_data = sub_data[sub_data['CREDIT_TYPE'] == ct]\n",
    "        #    data_step1.append(sub_data)\n",
    "    break \n",
    "\n",
    "    #data_step1.head()    \n",
    "    \n",
    "# дифференс не работает по отношению к другим типам данных (только к datetime)\n",
    "# изучить, можно ли использовать другие типы данных, чтобы вычислять дифференс"
   ]
  },
  {
   "cell_type": "code",
   "execution_count": null,
   "metadata": {
    "collapsed": false
   },
   "outputs": [],
   "source": [
    "# общий код\n",
    "import random\n",
    "\n",
    "IDs = data.ID.unique()\n",
    "Cts = data.CREDIT_TYPE.unique()\n",
    "\n",
    "\n",
    "d = random.sample(IDs, 1)\n",
    "\n",
    "sub_data = data[data['ID'] == d]\n",
    "sub_data = sub_data.sort_values(['DTIME_CREDIT', 'CREDIT_TYPE', 'NUM_SOURCE'], ascending=[True, True, True])\n",
    "un_CTs = sub_data.CREDIT_TYPE.unique()\n",
    "\n",
    "print sub_data[['DTIME_CREDIT', 'CREDIT_TYPE', 'NUM_SOURCE']]\n",
    "\n",
    "def quant(ct):\n",
    "    return sub_data[sub_data['CREDIT_TYPE'] == ct]['CREDIT_TYPE'].value_counts()  # = Series\n",
    "\n",
    "for ct in un_CTs:\n",
    "    if quant(ct).values[0] > 1:\n",
    "        \n",
    "        print \"Тип кредита, количество строк\", \"\\n\", ct, \"\\t\\t\\t\", quant(ct).values[0]\n",
    "    else:\n",
    "        print \"Тип кредита (1), количество строк\", \"\\n\", ct, \"\\t\\t\\t\", quant(ct).values[0]\n",
    "            \n"
   ]
  },
  {
   "cell_type": "markdown",
   "metadata": {},
   "source": [
    "!!! **Из внимания ускользают случаи, когда в одну дату берут два типа кредита - а алгоитм не воспринимает их как разные кредиты?  ---- это происходит на этапе, когда выбирается макс при группировке\n",
    "\n",
    "значит надо проверять равны ли строки по типу кредита - и использовать этот принцип отбора только если не равны **"
   ]
  },
  {
   "cell_type": "code",
   "execution_count": null,
   "metadata": {
    "collapsed": false
   },
   "outputs": [],
   "source": [
    "        \n",
    "sub_data['DTIME_CREDIT_diff'] = sub_data['DTIME_CREDIT'].diff(1)\n",
    "\n",
    "# смотрим на дифференс дат\n",
    "print sub_data['DTIME_CREDIT_diff']\n",
    "\n",
    "# (опция - не удалять - профит непонятен) удаляем прежние индексы, сохраняем в DF только ненулевые = масимальные (по дифференсу дат) строки\n",
    "#sub_data = sub_data.reset_index(drop=True,inplace=False)\n",
    "sub_data = sub_data.loc[sub_data['DTIME_CREDIT_diff'].groupby(sub_data['DTIME_CREDIT']).idxmax()]\n",
    "\n",
    "\n",
    "sub_data.groupby(sub_data['DTIME_CREDIT'])[['AMT_CREDIT_SUM', 'CREDIT_TYPE']].agg([np.mean, np.std, np.min, np.max])"
   ]
  },
  {
   "cell_type": "markdown",
   "metadata": {},
   "source": [
    "****"
   ]
  },
  {
   "cell_type": "markdown",
   "metadata": {},
   "source": [
    "Определяем количество уникальных пользователей и типов кредитов у них"
   ]
  },
  {
   "cell_type": "code",
   "execution_count": null,
   "metadata": {
    "collapsed": false
   },
   "outputs": [],
   "source": [
    "IDs = data.ID.unique()\n",
    "print \"ID.unique :\", len(IDs) # count uniques of ID\n",
    "\n",
    "Cts = data.CREDIT_TYPE.unique()\n",
    "print \"CREDIT_TYPE.unique :\", len(Cts)"
   ]
  },
  {
   "cell_type": "markdown",
   "metadata": {},
   "source": [
    "* Из всех ID вытаскиваем 1 случайный \n",
    "* Создаём суб-DF по этому ID,\n",
    "* сортируем его, чтобы было удобнее работать в дальнейшем,\n",
    "* формируем список уникальных типов кредитов этого человека\n",
    "\n",
    "* Смотрим на данные по этому sDF (ознакомительно + чтобы потом проверять отработку функций)"
   ]
  },
  {
   "cell_type": "code",
   "execution_count": null,
   "metadata": {
    "collapsed": false
   },
   "outputs": [],
   "source": [
    "import random\n",
    "d = random.sample(IDs, 1)\n",
    "\n",
    "sub_data = data[data['ID'] == d]\n",
    "sub_data = sub_data.sort_values(['DTIME_CREDIT', 'CREDIT_TYPE', 'NUM_SOURCE'], ascending=[True, True, True])\n",
    "un_CTs = sub_data.CREDIT_TYPE.unique()\n",
    "\n",
    "print \"Выбраный ID\", d, \"\\n\\n\"\n",
    "\n",
    "print \"Количество строк под id: \", len(sub_data), \"\\n\\n\", \"Все типы кредитов:\", un_CTs, \"\\n\\n\"\n",
    "print \"Все даты и типы кредитов, разница дат:\", \"\\n\", sub_data[['DTIME_CREDIT', 'CREDIT_TYPE', 'NUM_SOURCE']], \"\\n\\n\", \n"
   ]
  },
  {
   "cell_type": "code",
   "execution_count": null,
   "metadata": {
    "collapsed": true
   },
   "outputs": [],
   "source": [
    "#print sub_data[date_cols].diff(1)"
   ]
  },
  {
   "cell_type": "markdown",
   "metadata": {},
   "source": [
    "Считаем количество строк по каждому типу кредитов (важно для расчёта дифференса по датам)"
   ]
  },
  {
   "cell_type": "code",
   "execution_count": null,
   "metadata": {
    "collapsed": false
   },
   "outputs": [],
   "source": [
    "def quant(ct):\n",
    "    return sub_data[sub_data['CREDIT_TYPE'] == ct]['CREDIT_TYPE'].value_counts()  # = Series\n",
    "\n",
    "for ct in un_CTs:\n",
    "    if quant(ct).values[0] > 1:\n",
    "        print \"Тип кредита, количество строк\", \"\\n\", ct, \"\\t\\t\\t\", quant(ct).values[0]\n",
    "    else:\n",
    "        print \"Тип кредита (1), количество строк\", \"\\n\", ct, \"\\t\\t\\t\", quant(ct).values[0]"
   ]
  },
  {
   "cell_type": "markdown",
   "metadata": {},
   "source": [
    "Считаем разницу по датам взятия разных кредитов и добавляем её в новый столбец sDF ('DTIME_CREDIT_diff') и оставляем в sDF только те, по которым дифференсы максимальные.\n",
    "Т.о. в выборку не попадают строки, у которых разница дат небольшая (например, 1-2 дня, что может быть вызвано лагом обновления источника данных)\n",
    "\n",
    "!! **Есть проблема с верхней \\ нижней срочкой. Можно ли их потом удалять как na? (NaT) -- не потеряем ли важную инормацию**"
   ]
  },
  {
   "cell_type": "code",
   "execution_count": null,
   "metadata": {
    "collapsed": false,
    "scrolled": false
   },
   "outputs": [],
   "source": [
    "sub_data['DTIME_CREDIT_diff'] = sub_data['DTIME_CREDIT'].diff(1)\n",
    "\n",
    "# смотрим на дифференс дат\n",
    "print sub_data['DTIME_CREDIT_diff']\n",
    "\n",
    "# (опция - не удалять - профит непонятен) удаляем прежние индексы, сохраняем в DF только ненулевые = масимальные (по дифференсу дат) строки\n",
    "#sub_data = sub_data.reset_index(drop=True,inplace=False)\n",
    "sub_data = sub_data.loc[sub_data['DTIME_CREDIT_diff'].groupby(sub_data['DTIME_CREDIT']).idxmax()]\n",
    "sub_data"
   ]
  },
  {
   "cell_type": "markdown",
   "metadata": {},
   "source": [
    "Сохраняем только строки с максимальным дифференсом"
   ]
  },
  {
   "cell_type": "code",
   "execution_count": null,
   "metadata": {
    "collapsed": true
   },
   "outputs": [],
   "source": []
  },
  {
   "cell_type": "markdown",
   "metadata": {},
   "source": [
    "****\n",
    "\n",
    "###  Черновик работы над Проблемой 2 и код"
   ]
  },
  {
   "cell_type": "markdown",
   "metadata": {},
   "source": [
    "#### Смотрим на количество обращений к каждому из источников"
   ]
  },
  {
   "cell_type": "code",
   "execution_count": null,
   "metadata": {
    "collapsed": false
   },
   "outputs": [],
   "source": [
    "columns_to_show = ['AMT_REQ_SOURCE_DAY', 'AMT_REQ_SOURCE_WEEK',\n",
    "                   'AMT_REQ_SOURCE_MON', 'AMT_REQ_SOURCE_QRT',\n",
    "                   'AMT_REQ_SOURCE_YEAR']\n",
    "\n",
    "data.groupby(['NUM_SOURCE'])[columns_to_show].agg([np.mean, np.std, np.min, np.max])"
   ]
  },
  {
   "cell_type": "markdown",
   "metadata": {},
   "source": [
    "#### Смотрим на данные про заявки, которые поставляет источник"
   ]
  },
  {
   "cell_type": "code",
   "execution_count": null,
   "metadata": {
    "collapsed": false,
    "scrolled": true
   },
   "outputs": [],
   "source": [
    "# columns пришлось разбить на две части чтобы всё видеть (иначе средние колонки скрывались)\n",
    "\n",
    "columns_to_show1 = ['CREDIT_ACTIVE', 'CREDIT_DAY_OVERDUE', \n",
    "                    'CREDIT_FACILITY', 'AMT_ANNUITY', 'CREDIT_SUM_TYPE']\n",
    "\n",
    "data.groupby(['NUM_SOURCE'])[columns_to_show1].agg([np.mean, np.std, np.min, np.max])"
   ]
  },
  {
   "cell_type": "code",
   "execution_count": null,
   "metadata": {
    "collapsed": false
   },
   "outputs": [],
   "source": [
    "columns_to_show = ['CREDIT_DELAY30', 'CREDIT_DELAY5', 'CREDIT_DELAY60', 'CREDIT_DELAY90', 'CREDIT_DELAY_MORE']\n",
    "\n",
    "data.groupby(['NUM_SOURCE'])[columns_to_show].agg([np.mean, np.std, np.min, np.max])"
   ]
  },
  {
   "cell_type": "code",
   "execution_count": null,
   "metadata": {
    "collapsed": false
   },
   "outputs": [],
   "source": [
    "data.groupby(['NUM_SOURCE'])['CREDIT_TYPE'].unique() "
   ]
  },
  {
   "cell_type": "code",
   "execution_count": null,
   "metadata": {
    "collapsed": true
   },
   "outputs": [],
   "source": [
    "#\n",
    "#                         1 ист       2 ист        3 ист      4 ист\n",
    "#========================================================================================================\n",
    "# Отсутствуют\n",
    "#--------------------------------------------------------------------------------------------------------\n",
    "# CREDIT_FACILITY            +          +            +                                 \n",
    "# AMT_ANNUITY                           +       \n",
    "# AMT_CREDIT_MAX_OVERDUE     +          +            + \n",
    "# AMT_CREDIT_SUM_LIMIT                               +                        \n",
    "#                                                                                                         \n",
    "#\n",
    "#\n",
    "# Равны нулю\n",
    "#--------------------------------------------------------------------------------------------------------\n",
    "# CREDIT_DELAY5                         +            +                                   \n",
    "# CREDIT_DELAY60                        +                                               \n",
    "# CREDIT_DELAY90                        +            +                                   \n",
    "#                                                                                                         \n",
    "#\n",
    "#\n",
    "# Равны 1\n",
    "#--------------------------------------------------------------------------------------------------------\n",
    "# CREDIT_SUM_TYPE           +            +           +                                                                                                                                           \n",
    "#\n",
    "#\n",
    "#\n",
    "# Имеют превышение / максимумы по выборке\n",
    "#--------------------------------------------------------------------------------------------------------\n",
    "# CREDIT_DAY_OVERDUE        +                                                                                    \n",
    "# CREDIT_DELAY_MORE                                  +           +                                                                       \n",
    "#\n",
    "#\n",
    "# Имеют минимумы по выборке\n",
    "#--------------------------------------------------------------------------------------------------------\n",
    "# AMT_REQ_SOURCE_YEAR                   +                                                                                     \n",
    "#                                                                                                         \n",
    "#\n",
    "#\n",
    "# Типы кредитов\n",
    "#--------------------------------------------------------------------------------------------------------\n",
    "#                 [5, 4, 1, 3]    [5, 4]    [5, 6, 4, 3, 1, 19]    [5, 4, 3, 1, 18]\n",
    "#"
   ]
  },
  {
   "cell_type": "markdown",
   "metadata": {},
   "source": [
    "<font color='blue'> **Выводы**: <div>\n",
    " \n",
    "   -  2 источник выбивается слишком часто, к нему обращаются реже чем к другим, и он имеет информацию только по 4 и 5 типам кредитов (возможно, от него можно отказаться)<div>\n",
    "   -  'CREDIT_FACILITY' - характеристика только из 4 источника (значит точно можно отказаться)<div>\n",
    "   -  Остальные различия указаны в таблице - ничего специфичного </font>"
   ]
  },
  {
   "cell_type": "code",
   "execution_count": null,
   "metadata": {
    "collapsed": false
   },
   "outputs": [],
   "source": [
    "columns_to_show2 = ['AMT_CREDIT_MAX_OVERDUE',\n",
    "                    'AMT_CREDIT_SUM', 'AMT_CREDIT_SUM_DEBT',\n",
    "                    'AMT_CREDIT_SUM_LIMIT', 'AMT_CREDIT_SUM_OVERDUE']\n",
    "\n",
    "data.groupby(['NUM_SOURCE'])[columns_to_show2].agg([np.mean, np.std, np.min, np.max])"
   ]
  },
  {
   "cell_type": "markdown",
   "metadata": {},
   "source": [
    "<font color='blue'>*Вывод:*<div>\n",
    "    \n",
    "    - *2_источник выбивается по величине кредита (и у него кстати другие типы кредитов)*<div>\n",
    "    - *! Совмещая эту информацию с тем, что к этому источнику обращаются реже - очевидно. отому что в нём информация только по 4 и 5 типам кредитования* <div> </font>"
   ]
  },
  {
   "cell_type": "markdown",
   "metadata": {},
   "source": [
    "#### Детализируем анализ по 2 проблеме"
   ]
  },
  {
   "cell_type": "markdown",
   "metadata": {},
   "source": [
    "По всем данным (по всем типам кредитов) совместно разичия между полезностью источников неочевидны. Возможно, если посмотреть по каждому из признаков - это даст полезную информацию  \n",
    "****\n",
    "Вообще, надо посмотреть различия в данных по каждому из клиентов и по каждому из его типов кредитов"
   ]
  },
  {
   "cell_type": "markdown",
   "metadata": {},
   "source": [
    "*Как выбрать значения?*\n",
    "* Разделить на панели (по id, например) и далее внутри каждой панели брать данные из одного источника и по одной дате и проводить сравнения -  https://stackoverflow.com/questions/43077258/python-pandas-compare-values-of-two-dataframes-with-different-columns-names-by\n",
    "* Можно внутри каждой панели сортирнуть по типу кредита и дате (в sort передать два признака) и внутри каждой сортировки взять максимум по какому-то полю https://stackoverflow.com/questions/45018396/how-to-compare-rows-in-a-dataframe-in-pandas\n",
    "* Что если оставить максимум по полю DTIME_CREDIT_UPDATE (по каждому типу кредита и по каждому источнику)?"
   ]
  },
  {
   "cell_type": "code",
   "execution_count": null,
   "metadata": {
    "collapsed": false
   },
   "outputs": [],
   "source": [
    "data.ID.describe() # почему-то не считает уникальные"
   ]
  },
  {
   "cell_type": "markdown",
   "metadata": {},
   "source": [
    "**Надо**:\n",
    "\n",
    "* по ID\n",
    "* по дате (+/- 1дн)\n",
    "* по типу кредита \n",
    "\n",
    "   * **Вытащить информацию из каждого источника в соответствии с максимальной наполненнотью по каждому признаку** <div>\n",
    "   * **И брать, например, максимумы и наиболее \"плохие\" показатели**\n",
    "\n",
    "Дополнительные парамеры:\n",
    "* открыт или закрыт кредит (по нему тоже можно добавить вариацию)"
   ]
  },
  {
   "cell_type": "code",
   "execution_count": 63,
   "metadata": {
    "collapsed": false
   },
   "outputs": [
    {
     "name": "stdout",
     "output_type": "stream",
     "text": [
      "ID.unique : 135\n",
      "CREDIT_TYPE.unique : 7\n"
     ]
    }
   ],
   "source": [
    "IDs = data.ID.unique()\n",
    "print \"ID.unique :\", len(IDs) # count uniques of ID\n",
    "\n",
    "Cts = data.CREDIT_TYPE.unique()\n",
    "print \"CREDIT_TYPE.unique :\", len(Cts)"
   ]
  },
  {
   "cell_type": "code",
   "execution_count": 64,
   "metadata": {
    "collapsed": false
   },
   "outputs": [
    {
     "name": "stdout",
     "output_type": "stream",
     "text": [
      "[123495]\n"
     ]
    }
   ],
   "source": [
    "import random\n",
    "d = random.sample(IDs, 1)\n",
    "print d"
   ]
  },
  {
   "cell_type": "code",
   "execution_count": 65,
   "metadata": {
    "collapsed": true
   },
   "outputs": [],
   "source": [
    "# Задаём суб-датасет\n",
    "sub_data = data[data['ID'] == d]\n",
    "sub_data = sub_data.sort_values(['DTIME_CREDIT', 'CREDIT_TYPE', 'NUM_SOURCE'], ascending=[True, True, True])\n",
    "un_CTs = sub_data.CREDIT_TYPE.unique()"
   ]
  },
  {
   "cell_type": "code",
   "execution_count": 66,
   "metadata": {
    "collapsed": false
   },
   "outputs": [
    {
     "name": "stdout",
     "output_type": "stream",
     "text": [
      "Количество строк под id:  17 \n",
      "\n",
      "Все типы кредитов: [4 5] \n",
      "\n",
      "\n",
      "Все даты и типы кредитов, разница дат: \n",
      "    DTIME_CREDIT  CREDIT_TYPE  NUM_SOURCE\n",
      "329   2006-11-16            4           3\n",
      "340   2006-11-16            4           4\n",
      "342   2009-03-10            5           2\n",
      "331   2010-06-08            5           2\n",
      "333   2011-02-02            5           2\n",
      "341   2011-10-20            5           3\n",
      "328   2011-10-20            5           4\n",
      "337   2011-10-25            5           3\n",
      "332   2011-10-25            5           4\n",
      "338   2012-02-29            5           3\n",
      "330   2012-02-29            5           4\n",
      "336   2012-09-17            5           3\n",
      "343   2012-09-17            5           4\n",
      "339   2013-12-12            5           3\n",
      "344   2013-12-12            5           4\n",
      "334   2015-11-27            5           3\n",
      "335   2015-11-27            5           4 \n",
      "\n",
      "     DTIME_CREDIT  DTIME_CREDIT_ENDDATE    DTIME_CREDIT_ENDDATE_FACT  \\\n",
      "329           NaT                   NaT                          NaT   \n",
      "340        0 days                0 days              0 days 00:00:00   \n",
      "342      845 days           -29160 days -92377 days +00:12:43.145224   \n",
      "331      455 days              458 days            812 days 00:00:00   \n",
      "333      239 days              243 days          -112 days +00:00:00   \n",
      "341      260 days              597 days            893 days 00:00:00   \n",
      "328        0 days                0 days              0 days 00:00:00   \n",
      "337        5 days             -471 days          -379 days +00:00:00   \n",
      "332        0 days                0 days           -92 days +00:00:00   \n",
      "338      127 days               85 days             85 days 00:00:00   \n",
      "330        0 days               -1 days              0 days 00:00:00   \n",
      "336      201 days              355 days            354 days 00:00:00   \n",
      "343        0 days                0 days              0 days 00:00:00   \n",
      "339      451 days              329 days            329 days 00:00:00   \n",
      "344        0 days                0 days              0 days 00:00:00   \n",
      "334      715 days              806 days   90486 days 23:47:16.854775   \n",
      "335        0 days                0 days              0 days 00:00:00   \n",
      "\n",
      "     DTIME_CREDIT_UPDATE  \n",
      "329                  NaT  \n",
      "340               0 days  \n",
      "342           -1261 days  \n",
      "331               0 days  \n",
      "333               0 days  \n",
      "341             511 days  \n",
      "328               0 days  \n",
      "337            -381 days  \n",
      "332               0 days  \n",
      "338              -7 days  \n",
      "330             463 days  \n",
      "336            -109 days  \n",
      "343               0 days  \n",
      "339             329 days  \n",
      "344               0 days  \n",
      "334             455 days  \n",
      "335               0 days  \n"
     ]
    }
   ],
   "source": [
    "# смотрим данные по нему\n",
    "\n",
    "print \"Количество строк под id: \", len(sub_data), \"\\n\\n\", \"Все типы кредитов:\", un_CTs, \"\\n\\n\"\n",
    "print \"Все даты и типы кредитов, разница дат:\", \"\\n\", sub_data[['DTIME_CREDIT', 'CREDIT_TYPE', 'NUM_SOURCE']], \"\\n\\n\", \n",
    "\n",
    "print sub_data[date_cols].diff(1)\n"
   ]
  },
  {
   "cell_type": "code",
   "execution_count": 67,
   "metadata": {
    "collapsed": true
   },
   "outputs": [],
   "source": [
    "def quant(ct):\n",
    "    return sub_data[sub_data['CREDIT_TYPE'] == ct]['CREDIT_TYPE'].value_counts()  # = Series"
   ]
  },
  {
   "cell_type": "code",
   "execution_count": null,
   "metadata": {
    "collapsed": false
   },
   "outputs": [],
   "source": [
    "#for ct in un_CTs:\n",
    "#    quant = sub_data[sub_data['CREDIT_TYPE'] == ct]['CREDIT_TYPE'].value_counts()\n",
    "#    print quant# весь дф"
   ]
  },
  {
   "cell_type": "code",
   "execution_count": 68,
   "metadata": {
    "collapsed": false
   },
   "outputs": [
    {
     "name": "stdout",
     "output_type": "stream",
     "text": [
      "Тип кредита, количество строк \n",
      "4 \t\t\t2\n",
      "Тип кредита, количество строк \n",
      "5 \t\t\t15\n"
     ]
    }
   ],
   "source": [
    "for ct in un_CTs:\n",
    "    if quant(ct).values[0] > 1:\n",
    "        print \"Тип кредита, количество строк\", \"\\n\", ct, \"\\t\\t\\t\", quant(ct).values[0]"
   ]
  },
  {
   "cell_type": "code",
   "execution_count": 69,
   "metadata": {
    "collapsed": false
   },
   "outputs": [
    {
     "data": {
      "text/plain": [
       "329        NaT\n",
       "340     0 days\n",
       "342   845 days\n",
       "331   455 days\n",
       "333   239 days\n",
       "341   260 days\n",
       "328     0 days\n",
       "337     5 days\n",
       "332     0 days\n",
       "338   127 days\n",
       "330     0 days\n",
       "336   201 days\n",
       "343     0 days\n",
       "339   451 days\n",
       "344     0 days\n",
       "334   715 days\n",
       "335     0 days\n",
       "Name: DTIME_CREDIT_diff, dtype: timedelta64[ns]"
      ]
     },
     "execution_count": 69,
     "metadata": {},
     "output_type": "execute_result"
    }
   ],
   "source": [
    "sub_data['DTIME_CREDIT_diff'] = sub_data['DTIME_CREDIT'].diff(1)\n",
    "\n",
    "sub_data['DTIME_CREDIT_diff']"
   ]
  },
  {
   "cell_type": "code",
   "execution_count": 71,
   "metadata": {
    "collapsed": false
   },
   "outputs": [
    {
     "data": {
      "text/html": [
       "<div>\n",
       "<table border=\"1\" class=\"dataframe\">\n",
       "  <thead>\n",
       "    <tr style=\"text-align: right;\">\n",
       "      <th></th>\n",
       "      <th>ID</th>\n",
       "      <th>SK_DATE_DECISION</th>\n",
       "      <th>DEF</th>\n",
       "      <th>NUM_SOURCE</th>\n",
       "      <th>CREDIT_ACTIVE</th>\n",
       "      <th>CREDIT_COLLATERAL</th>\n",
       "      <th>CREDIT_CURRENCY</th>\n",
       "      <th>DTIME_CREDIT</th>\n",
       "      <th>CREDIT_DAY_OVERDUE</th>\n",
       "      <th>DTIME_CREDIT_ENDDATE</th>\n",
       "      <th>...</th>\n",
       "      <th>CREDIT_DELAY_MORE</th>\n",
       "      <th>AMT_REQ_SOURCE_HOUR</th>\n",
       "      <th>AMT_REQ_SOURCE_DAY</th>\n",
       "      <th>AMT_REQ_SOURCE_WEEK</th>\n",
       "      <th>AMT_REQ_SOURCE_MON</th>\n",
       "      <th>AMT_REQ_SOURCE_QRT</th>\n",
       "      <th>AMT_REQ_SOURCE_YEAR</th>\n",
       "      <th>AMT_ANNUITY</th>\n",
       "      <th>TEXT_PAYMENT_DISCIPLINE</th>\n",
       "      <th>DTIME_CREDIT_diff</th>\n",
       "    </tr>\n",
       "  </thead>\n",
       "  <tbody>\n",
       "    <tr>\n",
       "      <th>1</th>\n",
       "      <td>123495</td>\n",
       "      <td>20151221</td>\n",
       "      <td>0</td>\n",
       "      <td>4</td>\n",
       "      <td>1</td>\n",
       "      <td>0</td>\n",
       "      <td>rur</td>\n",
       "      <td>2006-11-16</td>\n",
       "      <td>0</td>\n",
       "      <td>2090-01-01</td>\n",
       "      <td>...</td>\n",
       "      <td>0</td>\n",
       "      <td>0</td>\n",
       "      <td>0</td>\n",
       "      <td>0</td>\n",
       "      <td>0</td>\n",
       "      <td>0</td>\n",
       "      <td>0</td>\n",
       "      <td>300</td>\n",
       "      <td>CCCCCCCCCCCCCCCCCCCCCCCCCCCCCCCCCCCCCCCCCCCCCC...</td>\n",
       "      <td>0 days</td>\n",
       "    </tr>\n",
       "    <tr>\n",
       "      <th>2</th>\n",
       "      <td>123495</td>\n",
       "      <td>20151221</td>\n",
       "      <td>0</td>\n",
       "      <td>2</td>\n",
       "      <td>0</td>\n",
       "      <td>0</td>\n",
       "      <td>rur</td>\n",
       "      <td>2009-03-10</td>\n",
       "      <td>0</td>\n",
       "      <td>2010-03-02</td>\n",
       "      <td>...</td>\n",
       "      <td>0</td>\n",
       "      <td>0</td>\n",
       "      <td>0</td>\n",
       "      <td>0</td>\n",
       "      <td>0</td>\n",
       "      <td>0</td>\n",
       "      <td>0</td>\n",
       "      <td>NaN</td>\n",
       "      <td>XXXXXXXXXXXXXXXXXXXXXXXXXXXXXXXXXXXXXXXXXXXXXX...</td>\n",
       "      <td>845 days</td>\n",
       "    </tr>\n",
       "    <tr>\n",
       "      <th>3</th>\n",
       "      <td>123495</td>\n",
       "      <td>20151221</td>\n",
       "      <td>0</td>\n",
       "      <td>2</td>\n",
       "      <td>0</td>\n",
       "      <td>0</td>\n",
       "      <td>rur</td>\n",
       "      <td>2010-06-08</td>\n",
       "      <td>0</td>\n",
       "      <td>2011-06-03</td>\n",
       "      <td>...</td>\n",
       "      <td>0</td>\n",
       "      <td>0</td>\n",
       "      <td>0</td>\n",
       "      <td>0</td>\n",
       "      <td>0</td>\n",
       "      <td>0</td>\n",
       "      <td>0</td>\n",
       "      <td>NaN</td>\n",
       "      <td>XXXXXXXXXXXXXXXXXXXXXXXXXXXXXXXXXXXXXXXXXXXXXX...</td>\n",
       "      <td>455 days</td>\n",
       "    </tr>\n",
       "    <tr>\n",
       "      <th>4</th>\n",
       "      <td>123495</td>\n",
       "      <td>20151221</td>\n",
       "      <td>0</td>\n",
       "      <td>2</td>\n",
       "      <td>0</td>\n",
       "      <td>0</td>\n",
       "      <td>rur</td>\n",
       "      <td>2011-02-02</td>\n",
       "      <td>0</td>\n",
       "      <td>2012-02-01</td>\n",
       "      <td>...</td>\n",
       "      <td>0</td>\n",
       "      <td>0</td>\n",
       "      <td>0</td>\n",
       "      <td>0</td>\n",
       "      <td>0</td>\n",
       "      <td>0</td>\n",
       "      <td>0</td>\n",
       "      <td>NaN</td>\n",
       "      <td>XXXXXXXXXXXXXXXXXXXXXXXXXXXXXXXXXXXXXXXXXXXXXX...</td>\n",
       "      <td>239 days</td>\n",
       "    </tr>\n",
       "    <tr>\n",
       "      <th>5</th>\n",
       "      <td>123495</td>\n",
       "      <td>20151221</td>\n",
       "      <td>0</td>\n",
       "      <td>3</td>\n",
       "      <td>0</td>\n",
       "      <td>0</td>\n",
       "      <td>rur</td>\n",
       "      <td>2011-10-20</td>\n",
       "      <td>0</td>\n",
       "      <td>2013-09-20</td>\n",
       "      <td>...</td>\n",
       "      <td>0</td>\n",
       "      <td>0</td>\n",
       "      <td>0</td>\n",
       "      <td>0</td>\n",
       "      <td>0</td>\n",
       "      <td>0</td>\n",
       "      <td>0</td>\n",
       "      <td>0</td>\n",
       "      <td>CCCCCCCCCCCCCCCCCCCCCCCCCCCC000000000000000000...</td>\n",
       "      <td>260 days</td>\n",
       "    </tr>\n",
       "    <tr>\n",
       "      <th>7</th>\n",
       "      <td>123495</td>\n",
       "      <td>20151221</td>\n",
       "      <td>0</td>\n",
       "      <td>3</td>\n",
       "      <td>0</td>\n",
       "      <td>0</td>\n",
       "      <td>rur</td>\n",
       "      <td>2011-10-25</td>\n",
       "      <td>0</td>\n",
       "      <td>2012-06-06</td>\n",
       "      <td>...</td>\n",
       "      <td>0</td>\n",
       "      <td>0</td>\n",
       "      <td>0</td>\n",
       "      <td>0</td>\n",
       "      <td>0</td>\n",
       "      <td>0</td>\n",
       "      <td>0</td>\n",
       "      <td>0</td>\n",
       "      <td>CCCCCCCCCCCCCCCCCCCCCCCCCCCCCCCCCCCCCCCCCCC000...</td>\n",
       "      <td>5 days</td>\n",
       "    </tr>\n",
       "    <tr>\n",
       "      <th>9</th>\n",
       "      <td>123495</td>\n",
       "      <td>20151221</td>\n",
       "      <td>0</td>\n",
       "      <td>3</td>\n",
       "      <td>0</td>\n",
       "      <td>0</td>\n",
       "      <td>rur</td>\n",
       "      <td>2012-02-29</td>\n",
       "      <td>0</td>\n",
       "      <td>2012-08-30</td>\n",
       "      <td>...</td>\n",
       "      <td>0</td>\n",
       "      <td>0</td>\n",
       "      <td>0</td>\n",
       "      <td>0</td>\n",
       "      <td>0</td>\n",
       "      <td>0</td>\n",
       "      <td>0</td>\n",
       "      <td>0</td>\n",
       "      <td>CCCCCCCCCCCCCCCCCCCCCCCCCCCCCCCCCCCCCCCCC0000XX</td>\n",
       "      <td>127 days</td>\n",
       "    </tr>\n",
       "    <tr>\n",
       "      <th>11</th>\n",
       "      <td>123495</td>\n",
       "      <td>20151221</td>\n",
       "      <td>0</td>\n",
       "      <td>3</td>\n",
       "      <td>0</td>\n",
       "      <td>0</td>\n",
       "      <td>rur</td>\n",
       "      <td>2012-09-17</td>\n",
       "      <td>0</td>\n",
       "      <td>2013-08-19</td>\n",
       "      <td>...</td>\n",
       "      <td>0</td>\n",
       "      <td>0</td>\n",
       "      <td>0</td>\n",
       "      <td>0</td>\n",
       "      <td>0</td>\n",
       "      <td>0</td>\n",
       "      <td>0</td>\n",
       "      <td>0</td>\n",
       "      <td>CCCCCCCCCCCCCCCCCCCCCCCCCCCCC0X00000000X</td>\n",
       "      <td>201 days</td>\n",
       "    </tr>\n",
       "    <tr>\n",
       "      <th>13</th>\n",
       "      <td>123495</td>\n",
       "      <td>20151221</td>\n",
       "      <td>0</td>\n",
       "      <td>3</td>\n",
       "      <td>0</td>\n",
       "      <td>0</td>\n",
       "      <td>rur</td>\n",
       "      <td>2013-12-12</td>\n",
       "      <td>0</td>\n",
       "      <td>2014-07-14</td>\n",
       "      <td>...</td>\n",
       "      <td>0</td>\n",
       "      <td>0</td>\n",
       "      <td>0</td>\n",
       "      <td>0</td>\n",
       "      <td>0</td>\n",
       "      <td>0</td>\n",
       "      <td>0</td>\n",
       "      <td>0</td>\n",
       "      <td>CCCCCCCCCCCCCCCCCC000000X</td>\n",
       "      <td>451 days</td>\n",
       "    </tr>\n",
       "    <tr>\n",
       "      <th>15</th>\n",
       "      <td>123495</td>\n",
       "      <td>20151221</td>\n",
       "      <td>0</td>\n",
       "      <td>3</td>\n",
       "      <td>1</td>\n",
       "      <td>0</td>\n",
       "      <td>rur</td>\n",
       "      <td>2015-11-27</td>\n",
       "      <td>0</td>\n",
       "      <td>2016-09-27</td>\n",
       "      <td>...</td>\n",
       "      <td>0</td>\n",
       "      <td>0</td>\n",
       "      <td>0</td>\n",
       "      <td>0</td>\n",
       "      <td>0</td>\n",
       "      <td>0</td>\n",
       "      <td>0</td>\n",
       "      <td>4700</td>\n",
       "      <td>0X</td>\n",
       "      <td>715 days</td>\n",
       "    </tr>\n",
       "  </tbody>\n",
       "</table>\n",
       "<p>10 rows × 35 columns</p>\n",
       "</div>"
      ],
      "text/plain": [
       "        ID  SK_DATE_DECISION  DEF  NUM_SOURCE  CREDIT_ACTIVE  \\\n",
       "1   123495          20151221    0           4              1   \n",
       "2   123495          20151221    0           2              0   \n",
       "3   123495          20151221    0           2              0   \n",
       "4   123495          20151221    0           2              0   \n",
       "5   123495          20151221    0           3              0   \n",
       "7   123495          20151221    0           3              0   \n",
       "9   123495          20151221    0           3              0   \n",
       "11  123495          20151221    0           3              0   \n",
       "13  123495          20151221    0           3              0   \n",
       "15  123495          20151221    0           3              1   \n",
       "\n",
       "    CREDIT_COLLATERAL CREDIT_CURRENCY DTIME_CREDIT  CREDIT_DAY_OVERDUE  \\\n",
       "1                   0             rur   2006-11-16                   0   \n",
       "2                   0             rur   2009-03-10                   0   \n",
       "3                   0             rur   2010-06-08                   0   \n",
       "4                   0             rur   2011-02-02                   0   \n",
       "5                   0             rur   2011-10-20                   0   \n",
       "7                   0             rur   2011-10-25                   0   \n",
       "9                   0             rur   2012-02-29                   0   \n",
       "11                  0             rur   2012-09-17                   0   \n",
       "13                  0             rur   2013-12-12                   0   \n",
       "15                  0             rur   2015-11-27                   0   \n",
       "\n",
       "   DTIME_CREDIT_ENDDATE        ...         CREDIT_DELAY_MORE  \\\n",
       "1            2090-01-01        ...                         0   \n",
       "2            2010-03-02        ...                         0   \n",
       "3            2011-06-03        ...                         0   \n",
       "4            2012-02-01        ...                         0   \n",
       "5            2013-09-20        ...                         0   \n",
       "7            2012-06-06        ...                         0   \n",
       "9            2012-08-30        ...                         0   \n",
       "11           2013-08-19        ...                         0   \n",
       "13           2014-07-14        ...                         0   \n",
       "15           2016-09-27        ...                         0   \n",
       "\n",
       "    AMT_REQ_SOURCE_HOUR  AMT_REQ_SOURCE_DAY  AMT_REQ_SOURCE_WEEK  \\\n",
       "1                     0                   0                    0   \n",
       "2                     0                   0                    0   \n",
       "3                     0                   0                    0   \n",
       "4                     0                   0                    0   \n",
       "5                     0                   0                    0   \n",
       "7                     0                   0                    0   \n",
       "9                     0                   0                    0   \n",
       "11                    0                   0                    0   \n",
       "13                    0                   0                    0   \n",
       "15                    0                   0                    0   \n",
       "\n",
       "    AMT_REQ_SOURCE_MON  AMT_REQ_SOURCE_QRT  AMT_REQ_SOURCE_YEAR  AMT_ANNUITY  \\\n",
       "1                    0                   0                    0          300   \n",
       "2                    0                   0                    0          NaN   \n",
       "3                    0                   0                    0          NaN   \n",
       "4                    0                   0                    0          NaN   \n",
       "5                    0                   0                    0            0   \n",
       "7                    0                   0                    0            0   \n",
       "9                    0                   0                    0            0   \n",
       "11                   0                   0                    0            0   \n",
       "13                   0                   0                    0            0   \n",
       "15                   0                   0                    0         4700   \n",
       "\n",
       "                              TEXT_PAYMENT_DISCIPLINE  DTIME_CREDIT_diff  \n",
       "1   CCCCCCCCCCCCCCCCCCCCCCCCCCCCCCCCCCCCCCCCCCCCCC...             0 days  \n",
       "2   XXXXXXXXXXXXXXXXXXXXXXXXXXXXXXXXXXXXXXXXXXXXXX...           845 days  \n",
       "3   XXXXXXXXXXXXXXXXXXXXXXXXXXXXXXXXXXXXXXXXXXXXXX...           455 days  \n",
       "4   XXXXXXXXXXXXXXXXXXXXXXXXXXXXXXXXXXXXXXXXXXXXXX...           239 days  \n",
       "5   CCCCCCCCCCCCCCCCCCCCCCCCCCCC000000000000000000...           260 days  \n",
       "7   CCCCCCCCCCCCCCCCCCCCCCCCCCCCCCCCCCCCCCCCCCC000...             5 days  \n",
       "9     CCCCCCCCCCCCCCCCCCCCCCCCCCCCCCCCCCCCCCCCC0000XX           127 days  \n",
       "11           CCCCCCCCCCCCCCCCCCCCCCCCCCCCC0X00000000X           201 days  \n",
       "13                          CCCCCCCCCCCCCCCCCC000000X           451 days  \n",
       "15                                                 0X           715 days  \n",
       "\n",
       "[10 rows x 35 columns]"
      ]
     },
     "execution_count": 71,
     "metadata": {},
     "output_type": "execute_result"
    }
   ],
   "source": [
    "sub_data"
   ]
  },
  {
   "cell_type": "code",
   "execution_count": 70,
   "metadata": {
    "collapsed": true
   },
   "outputs": [],
   "source": [
    "# удаляем прежние индексы, сохраняем в DF только ненулевые = масимальные (по дифференсу дат) строки\n",
    "sub_data = sub_data.reset_index(drop=True,inplace=False)\n",
    "sub_data = sub_data.loc[sub_data['DTIME_CREDIT_diff'].groupby(sub_data['DTIME_CREDIT']).idxmax()]"
   ]
  },
  {
   "cell_type": "code",
   "execution_count": 75,
   "metadata": {
    "collapsed": false
   },
   "outputs": [
    {
     "data": {
      "text/html": [
       "<div>\n",
       "<table border=\"1\" class=\"dataframe\">\n",
       "  <thead>\n",
       "    <tr style=\"text-align: right;\">\n",
       "      <th></th>\n",
       "      <th>ID</th>\n",
       "      <th>SK_DATE_DECISION</th>\n",
       "      <th>DEF</th>\n",
       "      <th>NUM_SOURCE</th>\n",
       "      <th>CREDIT_ACTIVE</th>\n",
       "      <th>CREDIT_COLLATERAL</th>\n",
       "      <th>CREDIT_CURRENCY</th>\n",
       "      <th>DTIME_CREDIT</th>\n",
       "      <th>CREDIT_DAY_OVERDUE</th>\n",
       "      <th>DTIME_CREDIT_ENDDATE</th>\n",
       "      <th>...</th>\n",
       "      <th>CREDIT_DELAY_MORE</th>\n",
       "      <th>AMT_REQ_SOURCE_HOUR</th>\n",
       "      <th>AMT_REQ_SOURCE_DAY</th>\n",
       "      <th>AMT_REQ_SOURCE_WEEK</th>\n",
       "      <th>AMT_REQ_SOURCE_MON</th>\n",
       "      <th>AMT_REQ_SOURCE_QRT</th>\n",
       "      <th>AMT_REQ_SOURCE_YEAR</th>\n",
       "      <th>AMT_ANNUITY</th>\n",
       "      <th>TEXT_PAYMENT_DISCIPLINE</th>\n",
       "      <th>DTIME_CREDIT_diff</th>\n",
       "    </tr>\n",
       "  </thead>\n",
       "  <tbody>\n",
       "    <tr>\n",
       "      <th>1</th>\n",
       "      <td>123495</td>\n",
       "      <td>20151221</td>\n",
       "      <td>0</td>\n",
       "      <td>4</td>\n",
       "      <td>1</td>\n",
       "      <td>0</td>\n",
       "      <td>rur</td>\n",
       "      <td>2006-11-16</td>\n",
       "      <td>0</td>\n",
       "      <td>2090-01-01</td>\n",
       "      <td>...</td>\n",
       "      <td>0</td>\n",
       "      <td>0</td>\n",
       "      <td>0</td>\n",
       "      <td>0</td>\n",
       "      <td>0</td>\n",
       "      <td>0</td>\n",
       "      <td>0</td>\n",
       "      <td>300</td>\n",
       "      <td>CCCCCCCCCCCCCCCCCCCCCCCCCCCCCCCCCCCCCCCCCCCCCC...</td>\n",
       "      <td>NaT</td>\n",
       "    </tr>\n",
       "    <tr>\n",
       "      <th>2</th>\n",
       "      <td>123495</td>\n",
       "      <td>20151221</td>\n",
       "      <td>0</td>\n",
       "      <td>2</td>\n",
       "      <td>0</td>\n",
       "      <td>0</td>\n",
       "      <td>rur</td>\n",
       "      <td>2009-03-10</td>\n",
       "      <td>0</td>\n",
       "      <td>2010-03-02</td>\n",
       "      <td>...</td>\n",
       "      <td>0</td>\n",
       "      <td>0</td>\n",
       "      <td>0</td>\n",
       "      <td>0</td>\n",
       "      <td>0</td>\n",
       "      <td>0</td>\n",
       "      <td>0</td>\n",
       "      <td>NaN</td>\n",
       "      <td>XXXXXXXXXXXXXXXXXXXXXXXXXXXXXXXXXXXXXXXXXXXXXX...</td>\n",
       "      <td>NaT</td>\n",
       "    </tr>\n",
       "    <tr>\n",
       "      <th>3</th>\n",
       "      <td>123495</td>\n",
       "      <td>20151221</td>\n",
       "      <td>0</td>\n",
       "      <td>2</td>\n",
       "      <td>0</td>\n",
       "      <td>0</td>\n",
       "      <td>rur</td>\n",
       "      <td>2010-06-08</td>\n",
       "      <td>0</td>\n",
       "      <td>2011-06-03</td>\n",
       "      <td>...</td>\n",
       "      <td>0</td>\n",
       "      <td>0</td>\n",
       "      <td>0</td>\n",
       "      <td>0</td>\n",
       "      <td>0</td>\n",
       "      <td>0</td>\n",
       "      <td>0</td>\n",
       "      <td>NaN</td>\n",
       "      <td>XXXXXXXXXXXXXXXXXXXXXXXXXXXXXXXXXXXXXXXXXXXXXX...</td>\n",
       "      <td>455 days</td>\n",
       "    </tr>\n",
       "    <tr>\n",
       "      <th>4</th>\n",
       "      <td>123495</td>\n",
       "      <td>20151221</td>\n",
       "      <td>0</td>\n",
       "      <td>2</td>\n",
       "      <td>0</td>\n",
       "      <td>0</td>\n",
       "      <td>rur</td>\n",
       "      <td>2011-02-02</td>\n",
       "      <td>0</td>\n",
       "      <td>2012-02-01</td>\n",
       "      <td>...</td>\n",
       "      <td>0</td>\n",
       "      <td>0</td>\n",
       "      <td>0</td>\n",
       "      <td>0</td>\n",
       "      <td>0</td>\n",
       "      <td>0</td>\n",
       "      <td>0</td>\n",
       "      <td>NaN</td>\n",
       "      <td>XXXXXXXXXXXXXXXXXXXXXXXXXXXXXXXXXXXXXXXXXXXXXX...</td>\n",
       "      <td>239 days</td>\n",
       "    </tr>\n",
       "    <tr>\n",
       "      <th>5</th>\n",
       "      <td>123495</td>\n",
       "      <td>20151221</td>\n",
       "      <td>0</td>\n",
       "      <td>3</td>\n",
       "      <td>0</td>\n",
       "      <td>0</td>\n",
       "      <td>rur</td>\n",
       "      <td>2011-10-20</td>\n",
       "      <td>0</td>\n",
       "      <td>2013-09-20</td>\n",
       "      <td>...</td>\n",
       "      <td>0</td>\n",
       "      <td>0</td>\n",
       "      <td>0</td>\n",
       "      <td>0</td>\n",
       "      <td>0</td>\n",
       "      <td>0</td>\n",
       "      <td>0</td>\n",
       "      <td>0</td>\n",
       "      <td>CCCCCCCCCCCCCCCCCCCCCCCCCCCC000000000000000000...</td>\n",
       "      <td>260 days</td>\n",
       "    </tr>\n",
       "    <tr>\n",
       "      <th>7</th>\n",
       "      <td>123495</td>\n",
       "      <td>20151221</td>\n",
       "      <td>0</td>\n",
       "      <td>3</td>\n",
       "      <td>0</td>\n",
       "      <td>0</td>\n",
       "      <td>rur</td>\n",
       "      <td>2011-10-25</td>\n",
       "      <td>0</td>\n",
       "      <td>2012-06-06</td>\n",
       "      <td>...</td>\n",
       "      <td>0</td>\n",
       "      <td>0</td>\n",
       "      <td>0</td>\n",
       "      <td>0</td>\n",
       "      <td>0</td>\n",
       "      <td>0</td>\n",
       "      <td>0</td>\n",
       "      <td>0</td>\n",
       "      <td>CCCCCCCCCCCCCCCCCCCCCCCCCCCCCCCCCCCCCCCCCCC000...</td>\n",
       "      <td>5 days</td>\n",
       "    </tr>\n",
       "    <tr>\n",
       "      <th>9</th>\n",
       "      <td>123495</td>\n",
       "      <td>20151221</td>\n",
       "      <td>0</td>\n",
       "      <td>3</td>\n",
       "      <td>0</td>\n",
       "      <td>0</td>\n",
       "      <td>rur</td>\n",
       "      <td>2012-02-29</td>\n",
       "      <td>0</td>\n",
       "      <td>2012-08-30</td>\n",
       "      <td>...</td>\n",
       "      <td>0</td>\n",
       "      <td>0</td>\n",
       "      <td>0</td>\n",
       "      <td>0</td>\n",
       "      <td>0</td>\n",
       "      <td>0</td>\n",
       "      <td>0</td>\n",
       "      <td>0</td>\n",
       "      <td>CCCCCCCCCCCCCCCCCCCCCCCCCCCCCCCCCCCCCCCCC0000XX</td>\n",
       "      <td>127 days</td>\n",
       "    </tr>\n",
       "    <tr>\n",
       "      <th>11</th>\n",
       "      <td>123495</td>\n",
       "      <td>20151221</td>\n",
       "      <td>0</td>\n",
       "      <td>3</td>\n",
       "      <td>0</td>\n",
       "      <td>0</td>\n",
       "      <td>rur</td>\n",
       "      <td>2012-09-17</td>\n",
       "      <td>0</td>\n",
       "      <td>2013-08-19</td>\n",
       "      <td>...</td>\n",
       "      <td>0</td>\n",
       "      <td>0</td>\n",
       "      <td>0</td>\n",
       "      <td>0</td>\n",
       "      <td>0</td>\n",
       "      <td>0</td>\n",
       "      <td>0</td>\n",
       "      <td>0</td>\n",
       "      <td>CCCCCCCCCCCCCCCCCCCCCCCCCCCCC0X00000000X</td>\n",
       "      <td>201 days</td>\n",
       "    </tr>\n",
       "    <tr>\n",
       "      <th>13</th>\n",
       "      <td>123495</td>\n",
       "      <td>20151221</td>\n",
       "      <td>0</td>\n",
       "      <td>3</td>\n",
       "      <td>0</td>\n",
       "      <td>0</td>\n",
       "      <td>rur</td>\n",
       "      <td>2013-12-12</td>\n",
       "      <td>0</td>\n",
       "      <td>2014-07-14</td>\n",
       "      <td>...</td>\n",
       "      <td>0</td>\n",
       "      <td>0</td>\n",
       "      <td>0</td>\n",
       "      <td>0</td>\n",
       "      <td>0</td>\n",
       "      <td>0</td>\n",
       "      <td>0</td>\n",
       "      <td>0</td>\n",
       "      <td>CCCCCCCCCCCCCCCCCC000000X</td>\n",
       "      <td>451 days</td>\n",
       "    </tr>\n",
       "    <tr>\n",
       "      <th>15</th>\n",
       "      <td>123495</td>\n",
       "      <td>20151221</td>\n",
       "      <td>0</td>\n",
       "      <td>3</td>\n",
       "      <td>1</td>\n",
       "      <td>0</td>\n",
       "      <td>rur</td>\n",
       "      <td>2015-11-27</td>\n",
       "      <td>0</td>\n",
       "      <td>2016-09-27</td>\n",
       "      <td>...</td>\n",
       "      <td>0</td>\n",
       "      <td>0</td>\n",
       "      <td>0</td>\n",
       "      <td>0</td>\n",
       "      <td>0</td>\n",
       "      <td>0</td>\n",
       "      <td>0</td>\n",
       "      <td>4700</td>\n",
       "      <td>0X</td>\n",
       "      <td>715 days</td>\n",
       "    </tr>\n",
       "  </tbody>\n",
       "</table>\n",
       "<p>10 rows × 35 columns</p>\n",
       "</div>"
      ],
      "text/plain": [
       "        ID  SK_DATE_DECISION  DEF  NUM_SOURCE  CREDIT_ACTIVE  \\\n",
       "1   123495          20151221    0           4              1   \n",
       "2   123495          20151221    0           2              0   \n",
       "3   123495          20151221    0           2              0   \n",
       "4   123495          20151221    0           2              0   \n",
       "5   123495          20151221    0           3              0   \n",
       "7   123495          20151221    0           3              0   \n",
       "9   123495          20151221    0           3              0   \n",
       "11  123495          20151221    0           3              0   \n",
       "13  123495          20151221    0           3              0   \n",
       "15  123495          20151221    0           3              1   \n",
       "\n",
       "    CREDIT_COLLATERAL CREDIT_CURRENCY DTIME_CREDIT  CREDIT_DAY_OVERDUE  \\\n",
       "1                   0             rur   2006-11-16                   0   \n",
       "2                   0             rur   2009-03-10                   0   \n",
       "3                   0             rur   2010-06-08                   0   \n",
       "4                   0             rur   2011-02-02                   0   \n",
       "5                   0             rur   2011-10-20                   0   \n",
       "7                   0             rur   2011-10-25                   0   \n",
       "9                   0             rur   2012-02-29                   0   \n",
       "11                  0             rur   2012-09-17                   0   \n",
       "13                  0             rur   2013-12-12                   0   \n",
       "15                  0             rur   2015-11-27                   0   \n",
       "\n",
       "   DTIME_CREDIT_ENDDATE        ...         CREDIT_DELAY_MORE  \\\n",
       "1            2090-01-01        ...                         0   \n",
       "2            2010-03-02        ...                         0   \n",
       "3            2011-06-03        ...                         0   \n",
       "4            2012-02-01        ...                         0   \n",
       "5            2013-09-20        ...                         0   \n",
       "7            2012-06-06        ...                         0   \n",
       "9            2012-08-30        ...                         0   \n",
       "11           2013-08-19        ...                         0   \n",
       "13           2014-07-14        ...                         0   \n",
       "15           2016-09-27        ...                         0   \n",
       "\n",
       "    AMT_REQ_SOURCE_HOUR  AMT_REQ_SOURCE_DAY  AMT_REQ_SOURCE_WEEK  \\\n",
       "1                     0                   0                    0   \n",
       "2                     0                   0                    0   \n",
       "3                     0                   0                    0   \n",
       "4                     0                   0                    0   \n",
       "5                     0                   0                    0   \n",
       "7                     0                   0                    0   \n",
       "9                     0                   0                    0   \n",
       "11                    0                   0                    0   \n",
       "13                    0                   0                    0   \n",
       "15                    0                   0                    0   \n",
       "\n",
       "    AMT_REQ_SOURCE_MON  AMT_REQ_SOURCE_QRT  AMT_REQ_SOURCE_YEAR  AMT_ANNUITY  \\\n",
       "1                    0                   0                    0          300   \n",
       "2                    0                   0                    0          NaN   \n",
       "3                    0                   0                    0          NaN   \n",
       "4                    0                   0                    0          NaN   \n",
       "5                    0                   0                    0            0   \n",
       "7                    0                   0                    0            0   \n",
       "9                    0                   0                    0            0   \n",
       "11                   0                   0                    0            0   \n",
       "13                   0                   0                    0            0   \n",
       "15                   0                   0                    0         4700   \n",
       "\n",
       "                              TEXT_PAYMENT_DISCIPLINE  DTIME_CREDIT_diff  \n",
       "1   CCCCCCCCCCCCCCCCCCCCCCCCCCCCCCCCCCCCCCCCCCCCCC...                NaT  \n",
       "2   XXXXXXXXXXXXXXXXXXXXXXXXXXXXXXXXXXXXXXXXXXXXXX...                NaT  \n",
       "3   XXXXXXXXXXXXXXXXXXXXXXXXXXXXXXXXXXXXXXXXXXXXXX...           455 days  \n",
       "4   XXXXXXXXXXXXXXXXXXXXXXXXXXXXXXXXXXXXXXXXXXXXXX...           239 days  \n",
       "5   CCCCCCCCCCCCCCCCCCCCCCCCCCCC000000000000000000...           260 days  \n",
       "7   CCCCCCCCCCCCCCCCCCCCCCCCCCCCCCCCCCCCCCCCCCC000...             5 days  \n",
       "9     CCCCCCCCCCCCCCCCCCCCCCCCCCCCCCCCCCCCCCCCC0000XX           127 days  \n",
       "11           CCCCCCCCCCCCCCCCCCCCCCCCCCCCC0X00000000X           201 days  \n",
       "13                          CCCCCCCCCCCCCCCCCC000000X           451 days  \n",
       "15                                                 0X           715 days  \n",
       "\n",
       "[10 rows x 35 columns]"
      ]
     },
     "execution_count": 75,
     "metadata": {},
     "output_type": "execute_result"
    }
   ],
   "source": [
    "sub_data"
   ]
  },
  {
   "cell_type": "code",
   "execution_count": 72,
   "metadata": {
    "collapsed": false
   },
   "outputs": [
    {
     "data": {
      "text/html": [
       "<div>\n",
       "<table border=\"1\" class=\"dataframe\">\n",
       "  <thead>\n",
       "    <tr style=\"text-align: right;\">\n",
       "      <th></th>\n",
       "      <th>CREDIT_DAY_OVERDUE</th>\n",
       "      <th>AMT_CREDIT_MAX_OVERDUE</th>\n",
       "      <th>CNT_CREDIT_PROLONG</th>\n",
       "      <th>AMT_CREDIT_SUM</th>\n",
       "      <th>AMT_CREDIT_SUM_DEBT</th>\n",
       "      <th>AMT_CREDIT_SUM_LIMIT</th>\n",
       "      <th>AMT_CREDIT_SUM_OVERDUE</th>\n",
       "      <th>CREDIT_DELAY30</th>\n",
       "      <th>CREDIT_DELAY5</th>\n",
       "      <th>CREDIT_DELAY60</th>\n",
       "      <th>CREDIT_DELAY90</th>\n",
       "      <th>CREDIT_DELAY_MORE</th>\n",
       "      <th>AMT_REQ_SOURCE_HOUR</th>\n",
       "      <th>AMT_REQ_SOURCE_DAY</th>\n",
       "      <th>AMT_REQ_SOURCE_WEEK</th>\n",
       "      <th>AMT_REQ_SOURCE_MON</th>\n",
       "      <th>AMT_REQ_SOURCE_QRT</th>\n",
       "      <th>AMT_REQ_SOURCE_YEAR</th>\n",
       "      <th>AMT_ANNUITY</th>\n",
       "    </tr>\n",
       "  </thead>\n",
       "  <tbody>\n",
       "    <tr>\n",
       "      <th>count</th>\n",
       "      <td>10</td>\n",
       "      <td>1</td>\n",
       "      <td>10.000000</td>\n",
       "      <td>10.000000</td>\n",
       "      <td>10.000000</td>\n",
       "      <td>1.00</td>\n",
       "      <td>10</td>\n",
       "      <td>10.000000</td>\n",
       "      <td>10</td>\n",
       "      <td>10</td>\n",
       "      <td>10</td>\n",
       "      <td>10</td>\n",
       "      <td>10</td>\n",
       "      <td>10</td>\n",
       "      <td>10</td>\n",
       "      <td>10</td>\n",
       "      <td>10</td>\n",
       "      <td>10</td>\n",
       "      <td>7.000000</td>\n",
       "    </tr>\n",
       "    <tr>\n",
       "      <th>mean</th>\n",
       "      <td>0</td>\n",
       "      <td>0</td>\n",
       "      <td>0.200000</td>\n",
       "      <td>52962.983000</td>\n",
       "      <td>5387.165000</td>\n",
       "      <td>81221.35</td>\n",
       "      <td>0</td>\n",
       "      <td>0.400000</td>\n",
       "      <td>0</td>\n",
       "      <td>0</td>\n",
       "      <td>0</td>\n",
       "      <td>0</td>\n",
       "      <td>0</td>\n",
       "      <td>0</td>\n",
       "      <td>0</td>\n",
       "      <td>0</td>\n",
       "      <td>0</td>\n",
       "      <td>0</td>\n",
       "      <td>714.285714</td>\n",
       "    </tr>\n",
       "    <tr>\n",
       "      <th>std</th>\n",
       "      <td>0</td>\n",
       "      <td>NaN</td>\n",
       "      <td>0.632456</td>\n",
       "      <td>91074.868709</td>\n",
       "      <td>12325.214794</td>\n",
       "      <td>NaN</td>\n",
       "      <td>0</td>\n",
       "      <td>0.966092</td>\n",
       "      <td>0</td>\n",
       "      <td>0</td>\n",
       "      <td>0</td>\n",
       "      <td>0</td>\n",
       "      <td>0</td>\n",
       "      <td>0</td>\n",
       "      <td>0</td>\n",
       "      <td>0</td>\n",
       "      <td>0</td>\n",
       "      <td>0</td>\n",
       "      <td>1761.087326</td>\n",
       "    </tr>\n",
       "    <tr>\n",
       "      <th>min</th>\n",
       "      <td>0</td>\n",
       "      <td>0</td>\n",
       "      <td>0.000000</td>\n",
       "      <td>6854.980000</td>\n",
       "      <td>0.000000</td>\n",
       "      <td>81221.35</td>\n",
       "      <td>0</td>\n",
       "      <td>0.000000</td>\n",
       "      <td>0</td>\n",
       "      <td>0</td>\n",
       "      <td>0</td>\n",
       "      <td>0</td>\n",
       "      <td>0</td>\n",
       "      <td>0</td>\n",
       "      <td>0</td>\n",
       "      <td>0</td>\n",
       "      <td>0</td>\n",
       "      <td>0</td>\n",
       "      <td>0.000000</td>\n",
       "    </tr>\n",
       "    <tr>\n",
       "      <th>25%</th>\n",
       "      <td>0</td>\n",
       "      <td>0</td>\n",
       "      <td>0.000000</td>\n",
       "      <td>8702.387500</td>\n",
       "      <td>0.000000</td>\n",
       "      <td>81221.35</td>\n",
       "      <td>0</td>\n",
       "      <td>0.000000</td>\n",
       "      <td>0</td>\n",
       "      <td>0</td>\n",
       "      <td>0</td>\n",
       "      <td>0</td>\n",
       "      <td>0</td>\n",
       "      <td>0</td>\n",
       "      <td>0</td>\n",
       "      <td>0</td>\n",
       "      <td>0</td>\n",
       "      <td>0</td>\n",
       "      <td>0.000000</td>\n",
       "    </tr>\n",
       "    <tr>\n",
       "      <th>50%</th>\n",
       "      <td>0</td>\n",
       "      <td>0</td>\n",
       "      <td>0.000000</td>\n",
       "      <td>16869.000000</td>\n",
       "      <td>0.000000</td>\n",
       "      <td>81221.35</td>\n",
       "      <td>0</td>\n",
       "      <td>0.000000</td>\n",
       "      <td>0</td>\n",
       "      <td>0</td>\n",
       "      <td>0</td>\n",
       "      <td>0</td>\n",
       "      <td>0</td>\n",
       "      <td>0</td>\n",
       "      <td>0</td>\n",
       "      <td>0</td>\n",
       "      <td>0</td>\n",
       "      <td>0</td>\n",
       "      <td>0.000000</td>\n",
       "    </tr>\n",
       "    <tr>\n",
       "      <th>75%</th>\n",
       "      <td>0</td>\n",
       "      <td>0</td>\n",
       "      <td>0.000000</td>\n",
       "      <td>36740.250000</td>\n",
       "      <td>0.000000</td>\n",
       "      <td>81221.35</td>\n",
       "      <td>0</td>\n",
       "      <td>0.000000</td>\n",
       "      <td>0</td>\n",
       "      <td>0</td>\n",
       "      <td>0</td>\n",
       "      <td>0</td>\n",
       "      <td>0</td>\n",
       "      <td>0</td>\n",
       "      <td>0</td>\n",
       "      <td>0</td>\n",
       "      <td>0</td>\n",
       "      <td>0</td>\n",
       "      <td>150.000000</td>\n",
       "    </tr>\n",
       "    <tr>\n",
       "      <th>max</th>\n",
       "      <td>0</td>\n",
       "      <td>0</td>\n",
       "      <td>2.000000</td>\n",
       "      <td>300000.000000</td>\n",
       "      <td>37093.000000</td>\n",
       "      <td>81221.35</td>\n",
       "      <td>0</td>\n",
       "      <td>3.000000</td>\n",
       "      <td>0</td>\n",
       "      <td>0</td>\n",
       "      <td>0</td>\n",
       "      <td>0</td>\n",
       "      <td>0</td>\n",
       "      <td>0</td>\n",
       "      <td>0</td>\n",
       "      <td>0</td>\n",
       "      <td>0</td>\n",
       "      <td>0</td>\n",
       "      <td>4700.000000</td>\n",
       "    </tr>\n",
       "  </tbody>\n",
       "</table>\n",
       "</div>"
      ],
      "text/plain": [
       "       CREDIT_DAY_OVERDUE  AMT_CREDIT_MAX_OVERDUE  CNT_CREDIT_PROLONG  \\\n",
       "count                  10                       1           10.000000   \n",
       "mean                    0                       0            0.200000   \n",
       "std                     0                     NaN            0.632456   \n",
       "min                     0                       0            0.000000   \n",
       "25%                     0                       0            0.000000   \n",
       "50%                     0                       0            0.000000   \n",
       "75%                     0                       0            0.000000   \n",
       "max                     0                       0            2.000000   \n",
       "\n",
       "       AMT_CREDIT_SUM  AMT_CREDIT_SUM_DEBT  AMT_CREDIT_SUM_LIMIT  \\\n",
       "count       10.000000            10.000000                  1.00   \n",
       "mean     52962.983000          5387.165000              81221.35   \n",
       "std      91074.868709         12325.214794                   NaN   \n",
       "min       6854.980000             0.000000              81221.35   \n",
       "25%       8702.387500             0.000000              81221.35   \n",
       "50%      16869.000000             0.000000              81221.35   \n",
       "75%      36740.250000             0.000000              81221.35   \n",
       "max     300000.000000         37093.000000              81221.35   \n",
       "\n",
       "       AMT_CREDIT_SUM_OVERDUE  CREDIT_DELAY30  CREDIT_DELAY5  CREDIT_DELAY60  \\\n",
       "count                      10       10.000000             10              10   \n",
       "mean                        0        0.400000              0               0   \n",
       "std                         0        0.966092              0               0   \n",
       "min                         0        0.000000              0               0   \n",
       "25%                         0        0.000000              0               0   \n",
       "50%                         0        0.000000              0               0   \n",
       "75%                         0        0.000000              0               0   \n",
       "max                         0        3.000000              0               0   \n",
       "\n",
       "       CREDIT_DELAY90  CREDIT_DELAY_MORE  AMT_REQ_SOURCE_HOUR  \\\n",
       "count              10                 10                   10   \n",
       "mean                0                  0                    0   \n",
       "std                 0                  0                    0   \n",
       "min                 0                  0                    0   \n",
       "25%                 0                  0                    0   \n",
       "50%                 0                  0                    0   \n",
       "75%                 0                  0                    0   \n",
       "max                 0                  0                    0   \n",
       "\n",
       "       AMT_REQ_SOURCE_DAY  AMT_REQ_SOURCE_WEEK  AMT_REQ_SOURCE_MON  \\\n",
       "count                  10                   10                  10   \n",
       "mean                    0                    0                   0   \n",
       "std                     0                    0                   0   \n",
       "min                     0                    0                   0   \n",
       "25%                     0                    0                   0   \n",
       "50%                     0                    0                   0   \n",
       "75%                     0                    0                   0   \n",
       "max                     0                    0                   0   \n",
       "\n",
       "       AMT_REQ_SOURCE_QRT  AMT_REQ_SOURCE_YEAR  AMT_ANNUITY  \n",
       "count                  10                   10     7.000000  \n",
       "mean                    0                    0   714.285714  \n",
       "std                     0                    0  1761.087326  \n",
       "min                     0                    0     0.000000  \n",
       "25%                     0                    0     0.000000  \n",
       "50%                     0                    0     0.000000  \n",
       "75%                     0                    0   150.000000  \n",
       "max                     0                    0  4700.000000  "
      ]
     },
     "execution_count": 72,
     "metadata": {},
     "output_type": "execute_result"
    }
   ],
   "source": [
    "sub_data[numeric_cols].describe()"
   ]
  },
  {
   "cell_type": "code",
   "execution_count": 73,
   "metadata": {
    "collapsed": false
   },
   "outputs": [
    {
     "name": "stdout",
     "output_type": "stream",
     "text": [
      "1         NaT\n",
      "2         NaT\n",
      "3    455 days\n",
      "4    239 days\n",
      "5    260 days\n",
      "7      5 days\n",
      "9    127 days\n",
      "11   201 days\n",
      "13   451 days\n",
      "15   715 days\n",
      "Name: DTIME_CREDIT_diff, dtype: timedelta64[ns]\n"
     ]
    },
    {
     "name": "stderr",
     "output_type": "stream",
     "text": [
      "D:\\winPy\\winPy\\python-2.7.10.amd64\\lib\\site-packages\\ipykernel\\__main__.py:7: DeprecationWarning: Implicitly casting between incompatible kinds. In a future numpy release, this will raise an error. Use casting=\"unsafe\" if this is intentional.\n"
     ]
    }
   ],
   "source": [
    "# Почему-то в разные группы попали строки (по индексу) из одного типа кредита и везде нет данных по дифференсу\n",
    "\n",
    "for ct in un_CTs:\n",
    "    if quant(ct).values[0] > 1:\n",
    "        sub_data['DTIME_CREDIT_diff'] = sub_data[sub_data['CREDIT_TYPE'] == ct]['DTIME_CREDIT'].diff(1)\n",
    "        #sub_sub_data = sub_data[sub_data['DTIME_CREDIT_diff'] > 0 ] # = Series\n",
    "        print sub_data[sub_data['DTIME_CREDIT_diff'].values != 0]['DTIME_CREDIT_diff']"
   ]
  },
  {
   "cell_type": "code",
   "execution_count": 74,
   "metadata": {
    "collapsed": false
   },
   "outputs": [
    {
     "data": {
      "text/plain": [
       "array([-9223372036854775808, -9223372036854775808, 39312000000000000,\n",
       "       20649600000000000, 22464000000000000, 432000000000000,\n",
       "       10972800000000000, 17366400000000000, 38966400000000000,\n",
       "       61776000000000000], dtype=int64)"
      ]
     },
     "execution_count": 74,
     "metadata": {},
     "output_type": "execute_result"
    }
   ],
   "source": [
    "sub_data['DTIME_CREDIT_diff'].values.astype(np.int64)"
   ]
  },
  {
   "cell_type": "code",
   "execution_count": null,
   "metadata": {
    "collapsed": false,
    "scrolled": true
   },
   "outputs": [],
   "source": []
  },
  {
   "cell_type": "code",
   "execution_count": null,
   "metadata": {
    "collapsed": false
   },
   "outputs": [],
   "source": [
    "#delta.days\n",
    "\n",
    "for ct in un_CTs:\n",
    "    if quant(ct).values[0] > 1:\n",
    "        sub_data['DTIME_CREDIT_diff'] = sub_data[sub_data['CREDIT_TYPE'] == ct]['DTIME_CREDIT'].diff(1)\n",
    "        sub_sub_data = sub_data[sub_data['DTIME_CREDIT_diff'] > 0 ] # = Series\n",
    "        print sub_sub_data\n"
   ]
  },
  {
   "cell_type": "code",
   "execution_count": null,
   "metadata": {
    "collapsed": false
   },
   "outputs": [],
   "source": [
    "# по каждому типу кредитов - если его > 1, вычисляем дифефренс по датам старта кредита\n",
    "for ct in un_CTs:\n",
    "    if quant(ct).values[0] > 1:\n",
    "        sub_data['DTIME_CREDIT_diff'] = sub_data[sub_data['CREDIT_TYPE'] == ct]['DTIME_CREDIT'].diff(1)\n",
    "        sub_sub_data = sub_data[sub_data['DTIME_CREDIT_diff'] > 0 ] # = Series\n",
    "        print sub_sub_data\n",
    "\n"
   ]
  },
  {
   "cell_type": "code",
   "execution_count": null,
   "metadata": {
    "collapsed": false
   },
   "outputs": [],
   "source": [
    "# по каждому типу кредита выясняем разицу по датам \n",
    "for ct in  un_CTs:\n",
    "    print sub_data[sub_data['CREDIT_TYPE'] == ct][date_cols].diff(1)"
   ]
  },
  {
   "cell_type": "code",
   "execution_count": null,
   "metadata": {
    "collapsed": false
   },
   "outputs": [],
   "source": [
    "sub_data.groupby(['CREDIT_TYPE'])[date_cols].diff(1)\n"
   ]
  },
  {
   "cell_type": "code",
   "execution_count": null,
   "metadata": {
    "collapsed": true
   },
   "outputs": [],
   "source": [
    "sub_data = sub_data.loc[sub_data['DTIME_CREDIT'].groupby(sub_data['CREDIT_TYPE']).idxmax()] # выводит наиболее поздний кредит по каждому типу кредита (но при этом теряем если он брал несколько кредитов)"
   ]
  },
  {
   "cell_type": "code",
   "execution_count": null,
   "metadata": {
    "collapsed": false
   },
   "outputs": [],
   "source": [
    "sub_data"
   ]
  },
  {
   "cell_type": "code",
   "execution_count": null,
   "metadata": {
    "collapsed": false
   },
   "outputs": [],
   "source": [
    "sub_data[date_cols].describe()"
   ]
  },
  {
   "cell_type": "code",
   "execution_count": null,
   "metadata": {
    "collapsed": false
   },
   "outputs": [],
   "source": [
    "sub_data.sort_values(['DTIME_CREDIT', 'CREDIT_TYPE', 'NUM_SOURCE'], ascending=[True, True, True])[date_cols].diff(1)\n",
    "\n",
    "\n",
    "#sub_data[date_cols].diff(1)"
   ]
  },
  {
   "cell_type": "code",
   "execution_count": null,
   "metadata": {
    "collapsed": false
   },
   "outputs": [],
   "source": [
    "#for date in sub_data['DTIME_CREDIT']:\n",
    "#    print (sub_data.groupby('ID')['Income'].apply(lambda x: x.abs().idxmax()))"
   ]
  },
  {
   "cell_type": "code",
   "execution_count": null,
   "metadata": {
    "collapsed": true
   },
   "outputs": [],
   "source": [
    "  \n",
    "    \n",
    "#date = sub_data.sort_values(['DTIME_CREDIT', 'CREDIT_TYPE', 'NUM_SOURCE']['DTIME_CREDIT']\n",
    "#sub_data.sort_values(['DTIME_CREDIT', 'CREDIT_TYPE'], ascending=[True,False])"
   ]
  },
  {
   "cell_type": "code",
   "execution_count": null,
   "metadata": {
    "collapsed": false
   },
   "outputs": [],
   "source": [
    "for date in sub_data.sort_values(['DTIME_CREDIT', 'CREDIT_TYPE', 'NUM_SOURCE'], ascending=[True, True, True]):\n",
    "    date = sub_data.sort_values(['DTIME_CREDIT', 'CREDIT_TYPE', 'NUM_SOURCE']['DTIME_CREDIT'].idxmin()\n",
    "    un_CTs = sub_data.CREDIT_TYPE.unique()\n",
    "    sub_data['CREDIT_DAY_OVERDUE'] = "
   ]
  },
  {
   "cell_type": "code",
   "execution_count": null,
   "metadata": {
    "collapsed": false
   },
   "outputs": [],
   "source": [
    "# выбираем credit type\n",
    "ct = \n",
    "date = sub_data[sub_data['CREDIT_TYPE'] == 4]['DTIME_CREDIT'] \n",
    "print date\n",
    "#print date[sub_data['CREDIT_TYPE'] == 5]  # Если нет такого типа кредита возвращает Series[]\n"
   ]
  },
  {
   "cell_type": "code",
   "execution_count": null,
   "metadata": {
    "collapsed": false
   },
   "outputs": [],
   "source": [
    "sub_data = data[data['ID'] == 108445]\n",
    "\n",
    "for ct in Cts: # проверяем по каждому из типов кредитов\n",
    "        date = sub_data['DTIME_CREDIT']\n",
    "        if (sub_data['CREDIT_TYPE'] == ct) & sub_data['DTIME_CREDIT'] - date"
   ]
  },
  {
   "cell_type": "code",
   "execution_count": null,
   "metadata": {
    "collapsed": true
   },
   "outputs": [],
   "source": [
    "date = 0\n",
    "for id in IDs:\n",
    "    sub_data = data[data['ID'] == id] # взяли информацию по одному ID\n",
    "    for ct in Cts: # проверяем по каждому из типов кредитов\n",
    "        date = sub_data['DTIME_CREDIT']\n",
    "        if (sub_data['CREDIT_TYPE'] == ct) & sub_data['DTIME_CREDIT']\n",
    "    \n",
    "    \n"
   ]
  },
  {
   "cell_type": "code",
   "execution_count": null,
   "metadata": {
    "collapsed": true
   },
   "outputs": [],
   "source": [
    "def diff(cn, ct, dt):\n",
    "    "
   ]
  },
  {
   "cell_type": "code",
   "execution_count": null,
   "metadata": {
    "collapsed": true
   },
   "outputs": [],
   "source": [
    "cn = 0\n",
    "ct = 0 \n",
    "dt = 0 \n",
    "for row in data:\n",
    "    cn = data['ID']\n",
    "    ct = data['CREDIT_TYPE']\n",
    "    dt = data['DTIME_CREDIT']\n",
    "    "
   ]
  },
  {
   "cell_type": "code",
   "execution_count": null,
   "metadata": {
    "collapsed": false
   },
   "outputs": [],
   "source": [
    "data_ct1 = data[data['CREDIT_TYPE'] == 1]\n",
    "data_ct1.info()"
   ]
  },
  {
   "cell_type": "code",
   "execution_count": null,
   "metadata": {
    "collapsed": false
   },
   "outputs": [],
   "source": [
    "columns_to_show = ['AMT_REQ_SOURCE_DAY', 'AMT_REQ_SOURCE_WEEK',\n",
    "                   'AMT_REQ_SOURCE_MON', 'AMT_REQ_SOURCE_QRT',\n",
    "                   'AMT_REQ_SOURCE_YEAR']\n",
    "\n",
    "data_ct1.groupby(['NUM_SOURCE'])[columns_to_show].agg([np.mean, np.std, np.min, np.max])"
   ]
  },
  {
   "cell_type": "code",
   "execution_count": null,
   "metadata": {
    "collapsed": false
   },
   "outputs": [],
   "source": [
    "columns_to_show1 = ['CREDIT_ACTIVE', 'CREDIT_DAY_OVERDUE', \n",
    "                    'CREDIT_FACILITY', 'AMT_ANNUITY']\n",
    "\n",
    "data_ct1.groupby(['NUM_SOURCE'])[columns_to_show1].agg([np.mean, np.std, np.min, np.max])"
   ]
  },
  {
   "cell_type": "code",
   "execution_count": null,
   "metadata": {
    "collapsed": false
   },
   "outputs": [],
   "source": [
    "columns_to_show2 = ['AMT_CREDIT_MAX_OVERDUE',\n",
    "                    'AMT_CREDIT_SUM', 'AMT_CREDIT_SUM_DEBT',\n",
    "                    'AMT_CREDIT_SUM_LIMIT', 'AMT_CREDIT_SUM_OVERDUE']\n",
    "\n",
    "data_ct1.groupby(['NUM_SOURCE'])[columns_to_show2].agg([np.mean, np.std, np.min, np.max])"
   ]
  },
  {
   "cell_type": "markdown",
   "metadata": {},
   "source": [
    "****"
   ]
  },
  {
   "cell_type": "code",
   "execution_count": null,
   "metadata": {
    "collapsed": false
   },
   "outputs": [],
   "source": [
    "data.groupby(['NUM_SOURCE'])['CREDIT_TYPE'].describe() "
   ]
  },
  {
   "cell_type": "code",
   "execution_count": null,
   "metadata": {
    "collapsed": false
   },
   "outputs": [],
   "source": [
    "data.groupby(['NUM_SOURCE'])['CREDIT_TYPE'].unique() "
   ]
  },
  {
   "cell_type": "code",
   "execution_count": null,
   "metadata": {
    "collapsed": false
   },
   "outputs": [],
   "source": [
    "data['CREDIT_TYPE'].unique() "
   ]
  },
  {
   "cell_type": "markdown",
   "metadata": {},
   "source": [
    "*Выводы (возможно это просто характеристика выборки):*\n",
    "\n",
    " * *В 2_источнике информация только о 4 или 5 типе кредитов*\n",
    " * *В 3 и 4 источниках информация о более широком наборе кредитов (1, 3, 4, 5 + 6 / 18/ 19)*\n",
    " * *В 1_источнике информация о небольшом наборе кредитов 1, 3, 4, 5*\n",
    " \n",
    " \n"
   ]
  },
  {
   "cell_type": "markdown",
   "metadata": {},
   "source": [
    "Изучаем 4 и 5 типы кредитов "
   ]
  },
  {
   "cell_type": "code",
   "execution_count": null,
   "metadata": {
    "collapsed": false
   },
   "outputs": [],
   "source": [
    "# Проверяем насколько велико отклонение между данными по всем источникам но именно по 4 и 5 типу кредитов\n",
    "# Надо бы проверить в каком источнике данные более конистентны / надёжны, но как?\n",
    "# Причём ведём анализ по-отдельности (4 и 5)\n",
    "\n",
    "columns_to_show = ['CREDIT_ACTIVE', 'CREDIT_DAY_OVERDUE', 'AMT_CREDIT_SUM', 'AMT_CREDIT_SUM_DEBT']\n",
    "\n",
    "print \"•4 - кредитная карта\", \"\\n\", \"•5 - потребительский кредит\", \"\\n\"\n",
    "\n",
    "print \"Распределение данных по типам кредитов:\", '\\n', data['CREDIT_TYPE'].value_counts(), '\\n'\n",
    "\n",
    "print \"Срeдние значения параметров для 4 типа кредита\", '\\n', data[data['CREDIT_TYPE'] == 4][columns_to_show].mean(), '\\n'\n",
    "print data[data['CREDIT_TYPE'] == 4 ].groupby(['NUM_SOURCE'])[columns_to_show].agg([np.mean, np.std, np.min, np.max])\n",
    "\n",
    "\n",
    "print \"\\n\\n\",\"Срeдние значения параметров для 5 типа кредита\", '\\n', data[data['CREDIT_TYPE'] == 5][columns_to_show].mean(), '\\n'\n",
    "print data[data['CREDIT_TYPE'] == 5 ].groupby(['NUM_SOURCE'])[columns_to_show].agg([np.mean, np.std, np.min, np.max])\n",
    "\n",
    "\n",
    "#data[(data['CREDIT_TYPE'] == 4 | (data['CREDIT_TYPE'] == 5 )].groupby(['NUM_SOURCE'])[['CREDIT_TYPE',\n",
    "#                                                                                         'CREDIT_DAY_OVERDUE']].agg([np.mean, np.std, np.min, np.max])\n",
    "\n",
    "\n",
    "#data.groupby(['NUM_SOURCE'])['CREDIT_TYPE'].agg([np.mean, np.std, np.min, np.max])"
   ]
  },
  {
   "cell_type": "markdown",
   "metadata": {},
   "source": [
    "Всё это делается для того чтобы понять, по какому признаку чистить данные из разных источников. \n",
    "\n",
    "Пока непонятно :) "
   ]
  },
  {
   "cell_type": "markdown",
   "metadata": {},
   "source": [
    "****"
   ]
  },
  {
   "cell_type": "markdown",
   "metadata": {},
   "source": [
    "По последнему признаку:\n",
    "* количество платежей\n",
    "* количество просроченных платежей\n",
    "    "
   ]
  },
  {
   "cell_type": "code",
   "execution_count": null,
   "metadata": {
    "collapsed": true
   },
   "outputs": [],
   "source": [
    "\n",
    "# нужно раскрыть Out\n",
    "\n",
    "for column in columns:\n",
    "    print data.groupby(['CREDIT_FACILITY'])[column].value_counts(normalize = True)"
   ]
  },
  {
   "cell_type": "code",
   "execution_count": null,
   "metadata": {
    "collapsed": true
   },
   "outputs": [],
   "source": []
  },
  {
   "cell_type": "code",
   "execution_count": null,
   "metadata": {
    "collapsed": false
   },
   "outputs": [],
   "source": [
    "print data.groupby(['CREDIT_FACILITY'])['DEF'].value_counts(normalize = True)"
   ]
  },
  {
   "cell_type": "code",
   "execution_count": null,
   "metadata": {
    "collapsed": false
   },
   "outputs": [],
   "source": [
    "cols = ['DEF', 'NUM_SOURCE', 'CREDIT_ACTIVE',\n",
    " 'CREDIT_COLLATERAL' , 'CREDIT_CURRENCY', 'DTIME_CREDIT', 'CREDIT_DAY_OVERDUE',\n",
    " 'DTIME_CREDIT_ENDDATE', 'DTIME_CREDIT_ENDDATE_FACT',\n",
    " 'AMT_CREDIT_MAX_OVERDUE', 'CNT_CREDIT_PROLONG', 'AMT_CREDIT_SUM',\n",
    " 'AMT_CREDIT_SUM_DEBT', 'AMT_CREDIT_SUM_LIMIT', 'AMT_CREDIT_SUM_OVERDUE',\n",
    " 'CREDIT_SUM_TYPE', 'CREDIT_TYPE', 'DTIME_CREDIT_UPDATE', 'CREDIT_DELAY30',\n",
    " 'CREDIT_DELAY5', 'CREDIT_DELAY60', 'CREDIT_DELAY90', 'CREDIT_DELAY_MORE',\n",
    " 'AMT_REQ_SOURCE_HOUR', 'AMT_REQ_SOURCE_DAY', 'AMT_REQ_SOURCE_WEEK',\n",
    " 'AMT_REQ_SOURCE_MON', 'AMT_REQ_SOURCE_QRT', 'AMT_REQ_SOURCE_YEAR',\n",
    " 'AMT_ANNUITY', 'TEXT_PAYMENT_DISCIPLINE']\n",
    "for column in cols:\n",
    "    print data.groupby(['CREDIT_FACILITY'])[column].value_counts(normalize = True)"
   ]
  },
  {
   "cell_type": "code",
   "execution_count": null,
   "metadata": {
    "collapsed": false
   },
   "outputs": [],
   "source": [
    "print data[data['CREDIT_FACILITY'] == 0]['DEF'].describe()\n",
    "print data[data['CREDIT_FACILITY'] == 2]['DEF'].describe()\n",
    "print data[data['CREDIT_FACILITY'] == 9]['DEF'].describe()"
   ]
  },
  {
   "cell_type": "code",
   "execution_count": null,
   "metadata": {
    "collapsed": false
   },
   "outputs": [],
   "source": [
    "col1 = ['CREDIT_ACTIVE', 'CREDIT_COLLATERAL', 'CREDIT_CURRENCY']\n",
    "col2 = ['SK_DATE_DECISION', 'DEF', 'NUM_SOURCE',\n",
    "       #'CREDIT_ACTIVE', 'CREDIT_COLLATERAL', 'CREDIT_CURRENCY',\n",
    "       'DTIME_CREDIT', 'CREDIT_DAY_OVERDUE', 'DTIME_CREDIT_ENDDATE',\n",
    "       'DTIME_CREDIT_ENDDATE_FACT', 'CREDIT_FACILITY',\n",
    "       'AMT_CREDIT_MAX_OVERDUE', 'CNT_CREDIT_PROLONG', 'CREDIT_SUM_TYPE', 'CREDIT_TYPE',\n",
    "       'DTIME_CREDIT_UPDATE', 'CREDIT_DELAY30', 'CREDIT_DELAY5',\n",
    "       'CREDIT_DELAY60', 'CREDIT_DELAY90', 'CREDIT_DELAY_MORE',\n",
    "       'AMT_REQ_SOURCE_HOUR', 'AMT_REQ_SOURCE_DAY', 'AMT_REQ_SOURCE_WEEK',\n",
    "       'AMT_REQ_SOURCE_MON', 'AMT_REQ_SOURCE_QRT', 'AMT_REQ_SOURCE_YEAR']\n",
    "print data.groupby(['CREDIT_FACILITY'])[col1].value_counts(normalize = True)"
   ]
  },
  {
   "cell_type": "code",
   "execution_count": null,
   "metadata": {
    "collapsed": true
   },
   "outputs": [],
   "source": []
  }
 ],
 "metadata": {
  "kernelspec": {
   "display_name": "Python 2",
   "language": "python",
   "name": "python2"
  },
  "language_info": {
   "codemirror_mode": {
    "name": "ipython",
    "version": 2
   },
   "file_extension": ".py",
   "mimetype": "text/x-python",
   "name": "python",
   "nbconvert_exporter": "python",
   "pygments_lexer": "ipython2",
   "version": "2.7.10"
  }
 },
 "nbformat": 4,
 "nbformat_minor": 2
}
