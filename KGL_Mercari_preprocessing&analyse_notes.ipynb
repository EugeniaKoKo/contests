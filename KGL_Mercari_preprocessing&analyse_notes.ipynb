{
 "cells": [
  {
   "cell_type": "code",
   "execution_count": 1,
   "metadata": {
    "collapsed": false
   },
   "outputs": [
    {
     "name": "stdout",
     "output_type": "stream",
     "text": [
      "Populating the interactive namespace from numpy and matplotlib\n"
     ]
    },
    {
     "name": "stderr",
     "output_type": "stream",
     "text": [
      "WARNING: pylab import has clobbered these variables: ['shuffle']\n",
      "`%matplotlib` prevents importing * from pylab and numpy\n"
     ]
    }
   ],
   "source": [
    "import math\n",
    "import numpy as np\n",
    "import pandas as pd\n",
    "import scipy as sp\n",
    "import sklearn\n",
    "from sklearn.utils import shuffle\n",
    "import matplotlib.pyplot as plt\n",
    "from sklearn import cross_validation, datasets, linear_model, metrics, tree, cross_validation, grid_search, linear_model, metrics, pipeline, preprocessing\n",
    "from sklearn.metrics import make_scorer\n",
    "from keras.preprocessing.text import Tokenizer\n",
    "\n",
    "\n",
    "%pylab inline"
   ]
  },
  {
   "cell_type": "markdown",
   "metadata": {},
   "source": [
    URL соревнования: "https://www.kaggle.com/c/mercari-price-suggestion-challenge"
   ]
  },
  {
   "cell_type": "markdown",
   "metadata": {},
   "source": [
    "# Вариант 1"
   ]
  },
  {
   "cell_type": "markdown",
   "metadata": {},
   "source": [
    "Обработка случайной подвыборки из train"
   ]
  },
  {
   "cell_type": "code",
   "execution_count": 2,
   "metadata": {
    "collapsed": false
   },
   "outputs": [],
   "source": [
    "df = pd.read_csv('train_sample_7412.csv')"
   ]
  },
  {
   "cell_type": "code",
   "execution_count": 3,
   "metadata": {
    "collapsed": false
   },
   "outputs": [
    {
     "data": {
      "text/plain": [
       "(7381, 9)"
      ]
     },
     "execution_count": 3,
     "metadata": {},
     "output_type": "execute_result"
    }
   ],
   "source": [
    "# не запускать \n",
    "# Но при этом мы ничего не делаем с миссингами \n",
    "\n",
    "df.dropna(subset=['category_name'], inplace=True)\n",
    "df.shape"
   ]
  },
  {
   "cell_type": "code",
   "execution_count": 3,
   "metadata": {
    "collapsed": true
   },
   "outputs": [],
   "source": [
    "X = df.drop('price', 1)\n",
    "y = df['price']"
   ]
  },
  {
   "cell_type": "code",
   "execution_count": null,
   "metadata": {
    "collapsed": true
   },
   "outputs": [],
   "source": [
    "# не получилось перемешать \n",
    "# df_shuffled = shuffle(df, random_state=0)"
   ]
  },
  {
   "cell_type": "markdown",
   "metadata": {},
   "source": [
    "## Предобработка категориальных: 'cat1', 'cat2', 'cat3', 'brand_name'"
   ]
  },
  {
   "cell_type": "markdown",
   "metadata": {},
   "source": [
    "### Удаляем колонки, которые не будут обрабатываться"
   ]
  },
  {
   "cell_type": "code",
   "execution_count": 4,
   "metadata": {
    "collapsed": false
   },
   "outputs": [],
   "source": [
    "#train.drop(['item_description'], axis =1, inplace = True)\n",
    "X.drop(['Unnamed: 0'], axis =1, inplace = True)\n",
    "#train.drop(['name'], axis =1, inplace = True)\n",
    "#train.drop(['brand_name'], axis =1, inplace = True)\n",
    "X.drop(['train_id'], axis =1, inplace = True)"
   ]
  },
  {
   "cell_type": "markdown",
   "metadata": {},
   "source": [
    "### Выделяем колонки из 'category_name'"
   ]
  },
  {
   "cell_type": "code",
   "execution_count": 5,
   "metadata": {
    "collapsed": false
   },
   "outputs": [],
   "source": [
    "X['cat1'], X['cat2'], X['cat3'], X['cat4'], X['cat5']= X['category_name'].str.split('/').str\n",
    "X.drop(['cat4', 'cat5'], axis =1, inplace = True)"
   ]
  },
  {
   "cell_type": "markdown",
   "metadata": {},
   "source": [
    "### Дамми 'category_name' ('cat1', 'cat2', 'cat3'), 'brand_name'"
   ]
  },
  {
   "cell_type": "code",
   "execution_count": 6,
   "metadata": {
    "collapsed": true
   },
   "outputs": [],
   "source": [
    "cats_to_dummy = ['cat1', 'cat2', 'cat3', 'brand_name']\n",
    "cats_to_dummy_dummied = pd.get_dummies(X[cats_to_dummy], dummy_na = True)  "
   ]
  },
  {
   "cell_type": "code",
   "execution_count": 7,
   "metadata": {
    "collapsed": true
   },
   "outputs": [],
   "source": [
    "X_dummied = pd.concat([X, cats_to_dummy_dummied], axis = 1, copy = False)"
   ]
  },
  {
   "cell_type": "code",
   "execution_count": 8,
   "metadata": {
    "collapsed": false
   },
   "outputs": [
    {
     "data": {
      "text/plain": [
       "(7412, 1203)"
      ]
     },
     "execution_count": 8,
     "metadata": {},
     "output_type": "execute_result"
    }
   ],
   "source": [
    "X_dummied.drop(['brand_name'], axis =1, inplace = True)\n",
    "X_dummied.shape\n",
    "\n",
    "# ! (7412, 1203)"
   ]
  },
  {
   "cell_type": "markdown",
   "metadata": {},
   "source": [
    "## Предобработка текстовых: 'category_name', 'item_description', 'name'"
   ]
  },
  {
   "cell_type": "markdown",
   "metadata": {},
   "source": [
    "### версия 2 - делаем дамми по каждому слову (вектор всего мешка слов) "
   ]
  },
  {
   "cell_type": "code",
   "execution_count": 22,
   "metadata": {
    "collapsed": false
   },
   "outputs": [],
   "source": [
    "# съедает много RAM\n",
    "\n",
    "raw_text = np.hstack([X_dummied.category_name.str.lower(), \n",
    "                      X_dummied.item_description.str.lower(), \n",
    "                      X_dummied.name.str.lower()])"
   ]
  },
  {
   "cell_type": "markdown",
   "metadata": {},
   "source": [
    "Нужно придумать способ, которым мы объединяем матрицу текстов с основной Df построчно (чтобы не было дублирования - по умолчанию). При последовательной работе происходит задвоение слов (вероятно, можно решить проверкой наличия одинаковых элементов в словарях)"
   ]
  },
  {
   "cell_type": "code",
   "execution_count": 9,
   "metadata": {
    "collapsed": true
   },
   "outputs": [],
   "source": [
    "raw_text = X_dummied.item_description.str.lower()"
   ]
  },
  {
   "cell_type": "code",
   "execution_count": 10,
   "metadata": {
    "collapsed": true
   },
   "outputs": [],
   "source": [
    "tok_raw = Tokenizer()"
   ]
  },
  {
   "cell_type": "code",
   "execution_count": 11,
   "metadata": {
    "collapsed": false
   },
   "outputs": [],
   "source": [
    "tok_raw.fit_on_texts(raw_text)"
   ]
  },
  {
   "cell_type": "code",
   "execution_count": 12,
   "metadata": {
    "collapsed": false
   },
   "outputs": [],
   "source": [
    "# словарь для сопоставления индексов и слов \n",
    "\n",
    "words_idxs_dict = tok_raw.word_index\n",
    "words_idxs_dict_sorted = sorted(words_idxs_dict.items(), key=lambda x:x[1], reverse=False)"
   ]
  },
  {
   "cell_type": "code",
   "execution_count": 13,
   "metadata": {
    "collapsed": false
   },
   "outputs": [
    {
     "data": {
      "text/plain": [
       "(7412, 13671)"
      ]
     },
     "execution_count": 13,
     "metadata": {},
     "output_type": "execute_result"
    }
   ],
   "source": [
    "text_matrix = tok_raw.texts_to_matrix(raw_text)\n",
    "df_text_matrix = pd.DataFrame(text_matrix)\n",
    "df_text_matrix.shape\n",
    "\n",
    "# (7412, 13671)"
   ]
  },
  {
   "cell_type": "code",
   "execution_count": 14,
   "metadata": {
    "collapsed": false
   },
   "outputs": [
    {
     "data": {
      "text/plain": [
       "(7412, 14874)"
      ]
     },
     "execution_count": 14,
     "metadata": {},
     "output_type": "execute_result"
    }
   ],
   "source": [
    "X_dummied_with_text = pd.concat([X_dummied, df_text_matrix], axis = 1, copy = False)\n",
    "X_dummied_with_text.shape\n",
    "\n",
    "# (7412, 14874)"
   ]
  },
  {
   "cell_type": "markdown",
   "metadata": {},
   "source": [
    "получилась разреженная матрица (спарс матрица),\n",
    "NB sparse matrix methods"
   ]
  },
  {
   "cell_type": "markdown",
   "metadata": {},
   "source": [
    "**Удаляем колонки, которые мы преобразовали в дамми**"
   ]
  },
  {
   "cell_type": "code",
   "execution_count": 15,
   "metadata": {
    "collapsed": true
   },
   "outputs": [],
   "source": [
    "X_dummied_with_text.drop(['category_name'], axis =1, inplace = True)\n",
    "X_dummied_with_text.drop(['item_description'], axis =1, inplace = True)\n",
    "X_dummied_with_text.drop(['name'], axis =1, inplace = True)\n",
    "\n",
    "X_dummied_with_text.drop(['cat1'], axis =1, inplace = True)\n",
    "X_dummied_with_text.drop(['cat2'], axis =1, inplace = True)\n",
    "X_dummied_with_text.drop(['cat3'], axis =1, inplace = True)"
   ]
  },
  {
   "cell_type": "markdown",
   "metadata": {},
   "source": [
    "## Разбиение train & test"
   ]
  },
  {
   "cell_type": "code",
   "execution_count": 16,
   "metadata": {
    "collapsed": false
   },
   "outputs": [],
   "source": [
    "train_X, test_X, train_y, test_y = cross_validation.train_test_split(X_dummied_with_text, y, test_size = 0.3)"
   ]
  },
  {
   "cell_type": "code",
   "execution_count": 17,
   "metadata": {
    "collapsed": false
   },
   "outputs": [
    {
     "data": {
      "text/html": [
       "<div>\n",
       "<table border=\"1\" class=\"dataframe\">\n",
       "  <thead>\n",
       "    <tr style=\"text-align: right;\">\n",
       "      <th></th>\n",
       "      <th>item_condition_id</th>\n",
       "      <th>shipping</th>\n",
       "      <th>cat1_Beauty</th>\n",
       "      <th>cat1_Electronics</th>\n",
       "      <th>cat1_Handmade</th>\n",
       "      <th>cat1_Home</th>\n",
       "      <th>cat1_Kids</th>\n",
       "      <th>cat1_Men</th>\n",
       "      <th>cat1_Other</th>\n",
       "      <th>cat1_Sports &amp; Outdoors</th>\n",
       "      <th>...</th>\n",
       "      <th>13661</th>\n",
       "      <th>13662</th>\n",
       "      <th>13663</th>\n",
       "      <th>13664</th>\n",
       "      <th>13665</th>\n",
       "      <th>13666</th>\n",
       "      <th>13667</th>\n",
       "      <th>13668</th>\n",
       "      <th>13669</th>\n",
       "      <th>13670</th>\n",
       "    </tr>\n",
       "  </thead>\n",
       "  <tbody>\n",
       "    <tr>\n",
       "      <th>3754</th>\n",
       "      <td>1</td>\n",
       "      <td>1</td>\n",
       "      <td>0</td>\n",
       "      <td>1</td>\n",
       "      <td>0</td>\n",
       "      <td>0</td>\n",
       "      <td>0</td>\n",
       "      <td>0</td>\n",
       "      <td>0</td>\n",
       "      <td>0</td>\n",
       "      <td>...</td>\n",
       "      <td>0</td>\n",
       "      <td>0</td>\n",
       "      <td>0</td>\n",
       "      <td>0</td>\n",
       "      <td>0</td>\n",
       "      <td>0</td>\n",
       "      <td>0</td>\n",
       "      <td>0</td>\n",
       "      <td>0</td>\n",
       "      <td>0</td>\n",
       "    </tr>\n",
       "    <tr>\n",
       "      <th>3444</th>\n",
       "      <td>2</td>\n",
       "      <td>0</td>\n",
       "      <td>0</td>\n",
       "      <td>0</td>\n",
       "      <td>0</td>\n",
       "      <td>1</td>\n",
       "      <td>0</td>\n",
       "      <td>0</td>\n",
       "      <td>0</td>\n",
       "      <td>0</td>\n",
       "      <td>...</td>\n",
       "      <td>0</td>\n",
       "      <td>0</td>\n",
       "      <td>0</td>\n",
       "      <td>0</td>\n",
       "      <td>0</td>\n",
       "      <td>0</td>\n",
       "      <td>0</td>\n",
       "      <td>0</td>\n",
       "      <td>0</td>\n",
       "      <td>0</td>\n",
       "    </tr>\n",
       "    <tr>\n",
       "      <th>4018</th>\n",
       "      <td>1</td>\n",
       "      <td>0</td>\n",
       "      <td>1</td>\n",
       "      <td>0</td>\n",
       "      <td>0</td>\n",
       "      <td>0</td>\n",
       "      <td>0</td>\n",
       "      <td>0</td>\n",
       "      <td>0</td>\n",
       "      <td>0</td>\n",
       "      <td>...</td>\n",
       "      <td>0</td>\n",
       "      <td>0</td>\n",
       "      <td>0</td>\n",
       "      <td>0</td>\n",
       "      <td>0</td>\n",
       "      <td>0</td>\n",
       "      <td>0</td>\n",
       "      <td>0</td>\n",
       "      <td>0</td>\n",
       "      <td>0</td>\n",
       "    </tr>\n",
       "    <tr>\n",
       "      <th>2270</th>\n",
       "      <td>1</td>\n",
       "      <td>1</td>\n",
       "      <td>1</td>\n",
       "      <td>0</td>\n",
       "      <td>0</td>\n",
       "      <td>0</td>\n",
       "      <td>0</td>\n",
       "      <td>0</td>\n",
       "      <td>0</td>\n",
       "      <td>0</td>\n",
       "      <td>...</td>\n",
       "      <td>0</td>\n",
       "      <td>0</td>\n",
       "      <td>0</td>\n",
       "      <td>0</td>\n",
       "      <td>0</td>\n",
       "      <td>0</td>\n",
       "      <td>0</td>\n",
       "      <td>0</td>\n",
       "      <td>0</td>\n",
       "      <td>0</td>\n",
       "    </tr>\n",
       "    <tr>\n",
       "      <th>4661</th>\n",
       "      <td>3</td>\n",
       "      <td>0</td>\n",
       "      <td>0</td>\n",
       "      <td>0</td>\n",
       "      <td>0</td>\n",
       "      <td>0</td>\n",
       "      <td>1</td>\n",
       "      <td>0</td>\n",
       "      <td>0</td>\n",
       "      <td>0</td>\n",
       "      <td>...</td>\n",
       "      <td>0</td>\n",
       "      <td>0</td>\n",
       "      <td>0</td>\n",
       "      <td>0</td>\n",
       "      <td>0</td>\n",
       "      <td>0</td>\n",
       "      <td>0</td>\n",
       "      <td>0</td>\n",
       "      <td>0</td>\n",
       "      <td>0</td>\n",
       "    </tr>\n",
       "  </tbody>\n",
       "</table>\n",
       "<p>5 rows × 14868 columns</p>\n",
       "</div>"
      ],
      "text/plain": [
       "      item_condition_id  shipping  cat1_Beauty  cat1_Electronics  \\\n",
       "3754                  1         1            0                 1   \n",
       "3444                  2         0            0                 0   \n",
       "4018                  1         0            1                 0   \n",
       "2270                  1         1            1                 0   \n",
       "4661                  3         0            0                 0   \n",
       "\n",
       "      cat1_Handmade  cat1_Home  cat1_Kids  cat1_Men  cat1_Other  \\\n",
       "3754              0          0          0         0           0   \n",
       "3444              0          1          0         0           0   \n",
       "4018              0          0          0         0           0   \n",
       "2270              0          0          0         0           0   \n",
       "4661              0          0          1         0           0   \n",
       "\n",
       "      cat1_Sports & Outdoors  ...    13661  13662  13663  13664  13665  13666  \\\n",
       "3754                       0  ...        0      0      0      0      0      0   \n",
       "3444                       0  ...        0      0      0      0      0      0   \n",
       "4018                       0  ...        0      0      0      0      0      0   \n",
       "2270                       0  ...        0      0      0      0      0      0   \n",
       "4661                       0  ...        0      0      0      0      0      0   \n",
       "\n",
       "      13667  13668  13669  13670  \n",
       "3754      0      0      0      0  \n",
       "3444      0      0      0      0  \n",
       "4018      0      0      0      0  \n",
       "2270      0      0      0      0  \n",
       "4661      0      0      0      0  \n",
       "\n",
       "[5 rows x 14868 columns]"
      ]
     },
     "execution_count": 17,
     "metadata": {},
     "output_type": "execute_result"
    }
   ],
   "source": [
    "train_X.head()"
   ]
  },
  {
   "cell_type": "markdown",
   "metadata": {},
   "source": [
    "## Модели"
   ]
  },
  {
   "cell_type": "markdown",
   "metadata": {},
   "source": [
    "### SGDRegressor"
   ]
  },
  {
   "cell_type": "markdown",
   "metadata": {},
   "source": [
    "SGDRegressor -не жрёт вектор текста, это только для другх, видимо, алгоритмов "
   ]
  },
  {
   "cell_type": "code",
   "execution_count": 29,
   "metadata": {
    "collapsed": true
   },
   "outputs": [],
   "source": [
    "regressor_SGDR = linear_model.SGDRegressor(random_state = 0, n_iter = 3, loss = 'squared_loss', penalty = 'l2')"
   ]
  },
  {
   "cell_type": "code",
   "execution_count": 37,
   "metadata": {
    "collapsed": true
   },
   "outputs": [],
   "source": [
    "regressor_SGDR = linear_model.SGDRegressor(random_state = 0, n_iter = 3, loss = 'squared_loss', penalty = 'l1')"
   ]
  },
  {
   "cell_type": "code",
   "execution_count": 38,
   "metadata": {
    "collapsed": true
   },
   "outputs": [
    {
     "ename": "NameError",
     "evalue": "name 'train_X' is not defined",
     "output_type": "error",
     "traceback": [
      "\u001b[1;31m---------------------------------------------------------------------------\u001b[0m",
      "\u001b[1;31mNameError\u001b[0m                                 Traceback (most recent call last)",
      "\u001b[1;32m<ipython-input-38-ba422bd15bdc>\u001b[0m in \u001b[0;36m<module>\u001b[1;34m()\u001b[0m\n\u001b[1;32m----> 1\u001b[1;33m \u001b[0mget_ipython\u001b[0m\u001b[1;33m(\u001b[0m\u001b[1;33m)\u001b[0m\u001b[1;33m.\u001b[0m\u001b[0mrun_cell_magic\u001b[0m\u001b[1;33m(\u001b[0m\u001b[1;34mu'time'\u001b[0m\u001b[1;33m,\u001b[0m \u001b[1;34mu''\u001b[0m\u001b[1;33m,\u001b[0m \u001b[1;34mu'regressor_SGDR.fit(train_X, train_y)  \\n\\n# \\u043d\\u0435 \\u0436\\u0440\\u0451\\u0442 \\u0432\\u0435\\u043a\\u0442\\u043e\\u0440 \\u0442\\u0435\\u043a\\u0441\\u0442\\u0430 '\u001b[0m\u001b[1;33m)\u001b[0m\u001b[1;33m\u001b[0m\u001b[0m\n\u001b[0m",
      "\u001b[1;32mD:\\winPy\\winPy\\python-2.7.10.amd64\\lib\\site-packages\\IPython\\core\\interactiveshell.pyc\u001b[0m in \u001b[0;36mrun_cell_magic\u001b[1;34m(self, magic_name, line, cell)\u001b[0m\n\u001b[0;32m   2291\u001b[0m             \u001b[0mmagic_arg_s\u001b[0m \u001b[1;33m=\u001b[0m \u001b[0mself\u001b[0m\u001b[1;33m.\u001b[0m\u001b[0mvar_expand\u001b[0m\u001b[1;33m(\u001b[0m\u001b[0mline\u001b[0m\u001b[1;33m,\u001b[0m \u001b[0mstack_depth\u001b[0m\u001b[1;33m)\u001b[0m\u001b[1;33m\u001b[0m\u001b[0m\n\u001b[0;32m   2292\u001b[0m             \u001b[1;32mwith\u001b[0m \u001b[0mself\u001b[0m\u001b[1;33m.\u001b[0m\u001b[0mbuiltin_trap\u001b[0m\u001b[1;33m:\u001b[0m\u001b[1;33m\u001b[0m\u001b[0m\n\u001b[1;32m-> 2293\u001b[1;33m                 \u001b[0mresult\u001b[0m \u001b[1;33m=\u001b[0m \u001b[0mfn\u001b[0m\u001b[1;33m(\u001b[0m\u001b[0mmagic_arg_s\u001b[0m\u001b[1;33m,\u001b[0m \u001b[0mcell\u001b[0m\u001b[1;33m)\u001b[0m\u001b[1;33m\u001b[0m\u001b[0m\n\u001b[0m\u001b[0;32m   2294\u001b[0m             \u001b[1;32mreturn\u001b[0m \u001b[0mresult\u001b[0m\u001b[1;33m\u001b[0m\u001b[0m\n\u001b[0;32m   2295\u001b[0m \u001b[1;33m\u001b[0m\u001b[0m\n",
      "\u001b[1;32mD:\\winPy\\winPy\\python-2.7.10.amd64\\lib\\site-packages\\IPython\\core\\magics\\execution.pyc\u001b[0m in \u001b[0;36mtime\u001b[1;34m(self, line, cell, local_ns)\u001b[0m\n",
      "\u001b[1;32mD:\\winPy\\winPy\\python-2.7.10.amd64\\lib\\site-packages\\IPython\\core\\magic.pyc\u001b[0m in \u001b[0;36m<lambda>\u001b[1;34m(f, *a, **k)\u001b[0m\n\u001b[0;32m    191\u001b[0m     \u001b[1;31m# but it's overkill for just that one bit of state.\u001b[0m\u001b[1;33m\u001b[0m\u001b[1;33m\u001b[0m\u001b[0m\n\u001b[0;32m    192\u001b[0m     \u001b[1;32mdef\u001b[0m \u001b[0mmagic_deco\u001b[0m\u001b[1;33m(\u001b[0m\u001b[0marg\u001b[0m\u001b[1;33m)\u001b[0m\u001b[1;33m:\u001b[0m\u001b[1;33m\u001b[0m\u001b[0m\n\u001b[1;32m--> 193\u001b[1;33m         \u001b[0mcall\u001b[0m \u001b[1;33m=\u001b[0m \u001b[1;32mlambda\u001b[0m \u001b[0mf\u001b[0m\u001b[1;33m,\u001b[0m \u001b[1;33m*\u001b[0m\u001b[0ma\u001b[0m\u001b[1;33m,\u001b[0m \u001b[1;33m**\u001b[0m\u001b[0mk\u001b[0m\u001b[1;33m:\u001b[0m \u001b[0mf\u001b[0m\u001b[1;33m(\u001b[0m\u001b[1;33m*\u001b[0m\u001b[0ma\u001b[0m\u001b[1;33m,\u001b[0m \u001b[1;33m**\u001b[0m\u001b[0mk\u001b[0m\u001b[1;33m)\u001b[0m\u001b[1;33m\u001b[0m\u001b[0m\n\u001b[0m\u001b[0;32m    194\u001b[0m \u001b[1;33m\u001b[0m\u001b[0m\n\u001b[0;32m    195\u001b[0m         \u001b[1;32mif\u001b[0m \u001b[0mcallable\u001b[0m\u001b[1;33m(\u001b[0m\u001b[0marg\u001b[0m\u001b[1;33m)\u001b[0m\u001b[1;33m:\u001b[0m\u001b[1;33m\u001b[0m\u001b[0m\n",
      "\u001b[1;32mD:\\winPy\\winPy\\python-2.7.10.amd64\\lib\\site-packages\\IPython\\core\\magics\\execution.pyc\u001b[0m in \u001b[0;36mtime\u001b[1;34m(self, line, cell, local_ns)\u001b[0m\n\u001b[0;32m   1161\u001b[0m         \u001b[1;32mif\u001b[0m \u001b[0mmode\u001b[0m\u001b[1;33m==\u001b[0m\u001b[1;34m'eval'\u001b[0m\u001b[1;33m:\u001b[0m\u001b[1;33m\u001b[0m\u001b[0m\n\u001b[0;32m   1162\u001b[0m             \u001b[0mst\u001b[0m \u001b[1;33m=\u001b[0m \u001b[0mclock2\u001b[0m\u001b[1;33m(\u001b[0m\u001b[1;33m)\u001b[0m\u001b[1;33m\u001b[0m\u001b[0m\n\u001b[1;32m-> 1163\u001b[1;33m             \u001b[0mout\u001b[0m \u001b[1;33m=\u001b[0m \u001b[0meval\u001b[0m\u001b[1;33m(\u001b[0m\u001b[0mcode\u001b[0m\u001b[1;33m,\u001b[0m \u001b[0mglob\u001b[0m\u001b[1;33m,\u001b[0m \u001b[0mlocal_ns\u001b[0m\u001b[1;33m)\u001b[0m\u001b[1;33m\u001b[0m\u001b[0m\n\u001b[0m\u001b[0;32m   1164\u001b[0m             \u001b[0mend\u001b[0m \u001b[1;33m=\u001b[0m \u001b[0mclock2\u001b[0m\u001b[1;33m(\u001b[0m\u001b[1;33m)\u001b[0m\u001b[1;33m\u001b[0m\u001b[0m\n\u001b[0;32m   1165\u001b[0m         \u001b[1;32melse\u001b[0m\u001b[1;33m:\u001b[0m\u001b[1;33m\u001b[0m\u001b[0m\n",
      "\u001b[1;32m<timed eval>\u001b[0m in \u001b[0;36m<module>\u001b[1;34m()\u001b[0m\n",
      "\u001b[1;31mNameError\u001b[0m: name 'train_X' is not defined"
     ]
    }
   ],
   "source": [
    "%%time\n",
    "regressor_SGDR.fit(train_X, train_y)  \n",
    "\n",
    "# не жрёт вектор текста "
   ]
  },
  {
   "cell_type": "code",
   "execution_count": 20,
   "metadata": {
    "collapsed": false
   },
   "outputs": [
    {
     "data": {
      "text/plain": [
       "15.815418811821539"
      ]
     },
     "execution_count": 20,
     "metadata": {},
     "output_type": "execute_result"
    }
   ],
   "source": [
    "metrics.mean_absolute_error(test_y, regressor_SGDR.predict(test_X))\n",
    "\n",
    "# без brand_name 16.473084475363301, \n",
    "# с brand_name 18.761573156063371 (dropNa), 19.453653428014263, 15.690768047864331 (Na - sep feature), 15.325221223683378\n",
    "# с векторизованным текстом описания: 15.815418811821539"
   ]
  },
  {
   "cell_type": "code",
   "execution_count": 47,
   "metadata": {
    "collapsed": true
   },
   "outputs": [],
   "source": [
    "def rmsle(predicted, actual, size):\n",
    "    return np.sqrt(np.nansum(np.square(np.log(predicted + 1) - np.log(test_y + 1)))/float(size))"
   ]
  },
  {
   "cell_type": "code",
   "execution_count": 37,
   "metadata": {
    "collapsed": true
   },
   "outputs": [],
   "source": [
    "predicted_SGDR = regressor_SGDR.predict(test_X)"
   ]
  },
  {
   "cell_type": "code",
   "execution_count": 38,
   "metadata": {
    "collapsed": false
   },
   "outputs": [
    {
     "data": {
      "text/html": [
       "<div>\n",
       "<table border=\"1\" class=\"dataframe\">\n",
       "  <thead>\n",
       "    <tr style=\"text-align: right;\">\n",
       "      <th></th>\n",
       "      <th>0</th>\n",
       "    </tr>\n",
       "  </thead>\n",
       "  <tbody>\n",
       "    <tr>\n",
       "      <th>count</th>\n",
       "      <td>2224.000000</td>\n",
       "    </tr>\n",
       "    <tr>\n",
       "      <th>mean</th>\n",
       "      <td>26.364159</td>\n",
       "    </tr>\n",
       "    <tr>\n",
       "      <th>std</th>\n",
       "      <td>11.873025</td>\n",
       "    </tr>\n",
       "    <tr>\n",
       "      <th>min</th>\n",
       "      <td>-6.749871</td>\n",
       "    </tr>\n",
       "    <tr>\n",
       "      <th>25%</th>\n",
       "      <td>18.523036</td>\n",
       "    </tr>\n",
       "    <tr>\n",
       "      <th>50%</th>\n",
       "      <td>25.033691</td>\n",
       "    </tr>\n",
       "    <tr>\n",
       "      <th>75%</th>\n",
       "      <td>32.317181</td>\n",
       "    </tr>\n",
       "    <tr>\n",
       "      <th>max</th>\n",
       "      <td>89.168503</td>\n",
       "    </tr>\n",
       "  </tbody>\n",
       "</table>\n",
       "</div>"
      ],
      "text/plain": [
       "                 0\n",
       "count  2224.000000\n",
       "mean     26.364159\n",
       "std      11.873025\n",
       "min      -6.749871\n",
       "25%      18.523036\n",
       "50%      25.033691\n",
       "75%      32.317181\n",
       "max      89.168503"
      ]
     },
     "execution_count": 38,
     "metadata": {},
     "output_type": "execute_result"
    }
   ],
   "source": [
    "predicted_df = pd.DataFrame(predicted_SGDR)\n",
    "predicted_df_SGDR.describe()"
   ]
  },
  {
   "cell_type": "markdown",
   "metadata": {},
   "source": [
    "Обычная регрессия выдаёт ошибку - допускает, чтобы цена была < 0.\n",
    "Поэтому не работает rlmse (нет логарифма от отрицательного числа)"
   ]
  },
  {
   "cell_type": "code",
   "execution_count": 23,
   "metadata": {
    "collapsed": false
   },
   "outputs": [
    {
     "data": {
      "text/plain": [
       "10.682918865267759"
      ]
     },
     "execution_count": 23,
     "metadata": {},
     "output_type": "execute_result"
    }
   ],
   "source": [
    "rmsle(predicted, test_y, size = 10)\n",
    "\n",
    "# без brand_name 11.724072045313015\n",
    "# с brand_name 8.3919648390723456, 8.2467240066335172 (из-за другого деления на трен и тест?), 10.8963006407376, 10.54534828821202\n",
    "# с векторизованным текстом описания: 10.682918865267759"
   ]
  },
  {
   "cell_type": "code",
   "execution_count": 48,
   "metadata": {
    "collapsed": false
   },
   "outputs": [],
   "source": [
    "def rmsle2(y, y_pred):\n",
    "    assert len(y) == len(y_pred)\n",
    "    to_sum = [(math.log(y_pred[i] + 1) - math.log(y[i] + 1)) ** 2.0 for i, pred in enumerate(y_pred)]\n",
    "    return (sum(to_sum) * (1.0/len(y))) ** 0.5\n"
   ]
  },
  {
   "cell_type": "code",
   "execution_count": 27,
   "metadata": {
    "collapsed": true
   },
   "outputs": [
    {
     "ename": "ValueError",
     "evalue": "math domain error",
     "output_type": "error",
     "traceback": [
      "\u001b[1;31m---------------------------------------------------------------------------\u001b[0m",
      "\u001b[1;31mValueError\u001b[0m                                Traceback (most recent call last)",
      "\u001b[1;32m<ipython-input-27-03e9d77f4d38>\u001b[0m in \u001b[0;36m<module>\u001b[1;34m()\u001b[0m\n\u001b[1;32m----> 1\u001b[1;33m \u001b[0mrmsle2\u001b[0m\u001b[1;33m(\u001b[0m\u001b[0mtest_y\u001b[0m\u001b[1;33m.\u001b[0m\u001b[0mvalues\u001b[0m\u001b[1;33m,\u001b[0m \u001b[0mpredicted\u001b[0m\u001b[1;33m)\u001b[0m\u001b[1;33m\u001b[0m\u001b[0m\n\u001b[0m\u001b[0;32m      2\u001b[0m \u001b[1;33m\u001b[0m\u001b[0m\n\u001b[0;32m      3\u001b[0m \u001b[1;31m# с brand_name  0.68793527931888288, 0.72919920755373435, 0.73213675853484983 (nan - sep), 0.70855580879328106\u001b[0m\u001b[1;33m\u001b[0m\u001b[1;33m\u001b[0m\u001b[0m\n\u001b[0;32m      4\u001b[0m \u001b[1;31m# с векторизованным текстом описания:  0.7189918244538076\u001b[0m\u001b[1;33m\u001b[0m\u001b[1;33m\u001b[0m\u001b[0m\n",
      "\u001b[1;32m<ipython-input-26-8570a68ddc4e>\u001b[0m in \u001b[0;36mrmsle2\u001b[1;34m(y, y_pred)\u001b[0m\n\u001b[0;32m      3\u001b[0m \u001b[1;32mdef\u001b[0m \u001b[0mrmsle2\u001b[0m\u001b[1;33m(\u001b[0m\u001b[0my\u001b[0m\u001b[1;33m,\u001b[0m \u001b[0my_pred\u001b[0m\u001b[1;33m)\u001b[0m\u001b[1;33m:\u001b[0m\u001b[1;33m\u001b[0m\u001b[0m\n\u001b[0;32m      4\u001b[0m     \u001b[1;32massert\u001b[0m \u001b[0mlen\u001b[0m\u001b[1;33m(\u001b[0m\u001b[0my\u001b[0m\u001b[1;33m)\u001b[0m \u001b[1;33m==\u001b[0m \u001b[0mlen\u001b[0m\u001b[1;33m(\u001b[0m\u001b[0my_pred\u001b[0m\u001b[1;33m)\u001b[0m\u001b[1;33m\u001b[0m\u001b[0m\n\u001b[1;32m----> 5\u001b[1;33m     \u001b[0mto_sum\u001b[0m \u001b[1;33m=\u001b[0m \u001b[1;33m[\u001b[0m\u001b[1;33m(\u001b[0m\u001b[0mmath\u001b[0m\u001b[1;33m.\u001b[0m\u001b[0mlog\u001b[0m\u001b[1;33m(\u001b[0m\u001b[0my_pred\u001b[0m\u001b[1;33m[\u001b[0m\u001b[0mi\u001b[0m\u001b[1;33m]\u001b[0m \u001b[1;33m+\u001b[0m \u001b[1;36m1\u001b[0m\u001b[1;33m)\u001b[0m \u001b[1;33m-\u001b[0m \u001b[0mmath\u001b[0m\u001b[1;33m.\u001b[0m\u001b[0mlog\u001b[0m\u001b[1;33m(\u001b[0m\u001b[0my\u001b[0m\u001b[1;33m[\u001b[0m\u001b[0mi\u001b[0m\u001b[1;33m]\u001b[0m \u001b[1;33m+\u001b[0m \u001b[1;36m1\u001b[0m\u001b[1;33m)\u001b[0m\u001b[1;33m)\u001b[0m \u001b[1;33m**\u001b[0m \u001b[1;36m2.0\u001b[0m \u001b[1;32mfor\u001b[0m \u001b[0mi\u001b[0m\u001b[1;33m,\u001b[0m \u001b[0mpred\u001b[0m \u001b[1;32min\u001b[0m \u001b[0menumerate\u001b[0m\u001b[1;33m(\u001b[0m\u001b[0my_pred\u001b[0m\u001b[1;33m)\u001b[0m\u001b[1;33m]\u001b[0m\u001b[1;33m\u001b[0m\u001b[0m\n\u001b[0m\u001b[0;32m      6\u001b[0m     \u001b[1;32mreturn\u001b[0m \u001b[1;33m(\u001b[0m\u001b[0msum\u001b[0m\u001b[1;33m(\u001b[0m\u001b[0mto_sum\u001b[0m\u001b[1;33m)\u001b[0m \u001b[1;33m*\u001b[0m \u001b[1;33m(\u001b[0m\u001b[1;36m1.0\u001b[0m\u001b[1;33m/\u001b[0m\u001b[0mlen\u001b[0m\u001b[1;33m(\u001b[0m\u001b[0my\u001b[0m\u001b[1;33m)\u001b[0m\u001b[1;33m)\u001b[0m\u001b[1;33m)\u001b[0m \u001b[1;33m**\u001b[0m \u001b[1;36m0.5\u001b[0m\u001b[1;33m\u001b[0m\u001b[0m\n",
      "\u001b[1;31mValueError\u001b[0m: math domain error"
     ]
    }
   ],
   "source": [
    "rmsle2(test_y.values, predicted)  \n",
    "\n",
    "# с brand_name  0.68793527931888288, 0.72919920755373435, 0.73213675853484983 (nan - sep), 0.70855580879328106 \n",
    "# с векторизованным текстом описания:  0.7189918244538076"
   ]
  },
  {
   "cell_type": "code",
   "execution_count": 31,
   "metadata": {
    "collapsed": false
   },
   "outputs": [],
   "source": [
    "train_sizes, train_scores, test_scores = learning_curve.learning_curve(regressor_SGDR, X_dummied_with_text, y, \n",
    "                                                                       train_sizes=np.arange(0.1,1., 0.2), \n",
    "                                                                       cv=3, scoring='mean_absolute_error')"
   ]
  },
  {
   "cell_type": "code",
   "execution_count": 39,
   "metadata": {
    "collapsed": true
   },
   "outputs": [],
   "source": [
    "train_sizes, train_scores, test_scores = learning_curve.learning_curve(regressor_SGDR, X_dummied_with_text, y, \n",
    "                                                                       train_sizes=np.arange(0.1,1., 0.2), \n",
    "                                                                       cv=3, scoring='mean_absolute_error')"
   ]
  },
  {
   "cell_type": "code",
   "execution_count": 40,
   "metadata": {
    "collapsed": false
   },
   "outputs": [
    {
     "name": "stdout",
     "output_type": "stream",
     "text": [
      "[ 494 1482 2470 3458 4446]\n",
      "[-13.50761158 -14.84589748 -15.30454017 -14.9971475  -14.45941413]\n",
      "[-16.82613465 -16.02682338 -16.28459251 -16.17292027 -15.43870449]\n"
     ]
    }
   ],
   "source": [
    "print train_sizes # доли трейна\n",
    "print train_scores.mean(axis = 1)\n",
    "print test_scores.mean(axis = 1)\n",
    "\n",
    "\n",
    "#l2:\n",
    "#[ 494 1482 2470 3458 4446]\n",
    "#[-13.50614958 -14.84354951 -15.30171543 -14.99389489 -14.45610908]\n",
    "#[-16.82609382 -16.0266063  -16.28422374 -16.1724573  -15.43834505]\n"
   ]
  },
  {
   "cell_type": "code",
   "execution_count": 36,
   "metadata": {
    "collapsed": false
   },
   "outputs": [
    {
     "data": {
      "text/plain": [
       "<matplotlib.legend.Legend at 0x25cd3cc0>"
      ]
     },
     "execution_count": 36,
     "metadata": {},
     "output_type": "execute_result"
    },
    {
     "data": {
      "image/png": "iVBORw0KGgoAAAANSUhEUgAAAYMAAAD7CAYAAACIYvgKAAAABHNCSVQICAgIfAhkiAAAAAlwSFlz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\nBiIigoqBiIigYiAiIqgYiIgI8P8BfMxnegWnkJAAAAAASUVORK5CYII=\n",
      "text/plain": [
       "<matplotlib.figure.Figure at 0x256746a0>"
      ]
     },
     "metadata": {},
     "output_type": "display_data"
    }
   ],
   "source": [
    "pylab.grid(True)\n",
    "pylab.plot(train_sizes, train_scores.mean(axis = 1), 'g-', marker='o', label='train')\n",
    "pylab.plot(train_sizes, test_scores.mean(axis = 1), 'r-', marker='o', label='test')\n",
    "pylab.ylim((-20.0, 1.05))\n",
    "pylab.legend(loc='upper right')"
   ]
  },
  {
   "cell_type": "markdown",
   "metadata": {},
   "source": [
    "При увеличении тестовой выборки качество предсказаний улудшается, но незачительно.\n",
    "\n",
    "При этом прогноз занижает целевую переменную. "
   ]
  },
  {
   "cell_type": "markdown",
   "metadata": {},
   "source": [
    "### RandomForestRegressor"
   ]
  },
  {
   "cell_type": "code",
   "execution_count": 19,
   "metadata": {
    "collapsed": true
   },
   "outputs": [],
   "source": [
    "from sklearn.ensemble import RandomForestRegressor"
   ]
  },
  {
   "cell_type": "code",
   "execution_count": 20,
   "metadata": {
    "collapsed": true
   },
   "outputs": [],
   "source": [
    "regressor_RF = RandomForestRegressor(random_state = 0, max_depth = 20, n_estimators = 50)"
   ]
  },
  {
   "cell_type": "code",
   "execution_count": 30,
   "metadata": {
    "collapsed": false
   },
   "outputs": [
    {
     "name": "stdout",
     "output_type": "stream",
     "text": [
      "Wall time: 4min 33s\n"
     ]
    },
    {
     "data": {
      "text/plain": [
       "RandomForestRegressor(bootstrap=True, criterion='mse', max_depth=20,\n",
       "           max_features='auto', max_leaf_nodes=None, min_samples_leaf=1,\n",
       "           min_samples_split=2, min_weight_fraction_leaf=0.0,\n",
       "           n_estimators=50, n_jobs=1, oob_score=False, random_state=0,\n",
       "           verbose=0, warm_start=False)"
      ]
     },
     "execution_count": 30,
     "metadata": {},
     "output_type": "execute_result"
    }
   ],
   "source": [
    "%%time\n",
    "regressor_RF.fit(train_X, train_y)"
   ]
  },
  {
   "cell_type": "code",
   "execution_count": 31,
   "metadata": {
    "collapsed": false
   },
   "outputs": [
    {
     "data": {
      "text/plain": [
       "16.00327942333772"
      ]
     },
     "execution_count": 31,
     "metadata": {},
     "output_type": "execute_result"
    }
   ],
   "source": [
    "metrics.mean_absolute_error(test_y, regressor_RF.predict(test_X))\n",
    "\n",
    "# без brand_name 15.793186569719472\n",
    "# с brand_name 17.557497069566367, 19.302184464530335, 15.861667605585929 (nan - sep)\n",
    "# с векторизованным текстом описания: 16.00327942333772"
   ]
  },
  {
   "cell_type": "code",
   "execution_count": 39,
   "metadata": {
    "collapsed": true
   },
   "outputs": [],
   "source": [
    "predicted_RF = regressor_RF.predict(test_X)"
   ]
  },
  {
   "cell_type": "code",
   "execution_count": 41,
   "metadata": {
    "collapsed": false
   },
   "outputs": [
    {
     "data": {
      "text/html": [
       "<div>\n",
       "<table border=\"1\" class=\"dataframe\">\n",
       "  <thead>\n",
       "    <tr style=\"text-align: right;\">\n",
       "      <th></th>\n",
       "      <th>0</th>\n",
       "    </tr>\n",
       "  </thead>\n",
       "  <tbody>\n",
       "    <tr>\n",
       "      <th>count</th>\n",
       "      <td>2224.000000</td>\n",
       "    </tr>\n",
       "    <tr>\n",
       "      <th>mean</th>\n",
       "      <td>24.963859</td>\n",
       "    </tr>\n",
       "    <tr>\n",
       "      <th>std</th>\n",
       "      <td>12.292999</td>\n",
       "    </tr>\n",
       "    <tr>\n",
       "      <th>min</th>\n",
       "      <td>19.176150</td>\n",
       "    </tr>\n",
       "    <tr>\n",
       "      <th>25%</th>\n",
       "      <td>20.617034</td>\n",
       "    </tr>\n",
       "    <tr>\n",
       "      <th>50%</th>\n",
       "      <td>23.202500</td>\n",
       "    </tr>\n",
       "    <tr>\n",
       "      <th>75%</th>\n",
       "      <td>24.317927</td>\n",
       "    </tr>\n",
       "    <tr>\n",
       "      <th>max</th>\n",
       "      <td>329.828145</td>\n",
       "    </tr>\n",
       "  </tbody>\n",
       "</table>\n",
       "</div>"
      ],
      "text/plain": [
       "                 0\n",
       "count  2224.000000\n",
       "mean     24.963859\n",
       "std      12.292999\n",
       "min      19.176150\n",
       "25%      20.617034\n",
       "50%      23.202500\n",
       "75%      24.317927\n",
       "max     329.828145"
      ]
     },
     "execution_count": 41,
     "metadata": {},
     "output_type": "execute_result"
    }
   ],
   "source": [
    "predicted_df_RF = pd.DataFrame(predicted_RF)\n",
    "predicted_df_RF.describe()"
   ]
  },
  {
   "cell_type": "code",
   "execution_count": 33,
   "metadata": {
    "collapsed": false
   },
   "outputs": [
    {
     "data": {
      "text/plain": [
       "10.764555561729543"
      ]
     },
     "execution_count": 33,
     "metadata": {},
     "output_type": "execute_result"
    }
   ],
   "source": [
    "rmsle(predicted, test_y, size = 10)\n",
    "\n",
    "# без brand_name ... (больше, около 8 - 9)\n",
    "# с brand_name 7.7800583492146869, 8.0235084889839268, 10.549440437068634\n",
    "# с векторизованным текстом описания: 10.764555561729543"
   ]
  },
  {
   "cell_type": "markdown",
   "metadata": {},
   "source": [
    "!!! Проверить, тут могла быть ошибка, т..к берётся какой-то неопознанный predicted"
   ]
  },
  {
   "cell_type": "code",
   "execution_count": 34,
   "metadata": {
    "collapsed": false
   },
   "outputs": [
    {
     "data": {
      "text/plain": [
       "0.72181966936276254"
      ]
     },
     "execution_count": 34,
     "metadata": {},
     "output_type": "execute_result"
    }
   ],
   "source": [
    "rmsle2(test_y.values, predicted)\n",
    "\n",
    "# с brand_name 0.70946184536568857, 0.70883076565232017\n",
    "# с векторизованным текстом описания: 0.72181966936276254"
   ]
  },
  {
   "cell_type": "markdown",
   "metadata": {},
   "source": [
    "**скор 0.72181966936276254 - это около 860 / 971 места на 19.12.2017**"
   ]
  },
  {
   "cell_type": "markdown",
   "metadata": {},
   "source": [
    "****\n",
    "****"
   ]
  },
  {
   "cell_type": "markdown",
   "metadata": {},
   "source": [
    "#### Смотрим на кривые обучения случайного леса"
   ]
  },
  {
   "cell_type": "code",
   "execution_count": 17,
   "metadata": {
    "collapsed": true
   },
   "outputs": [],
   "source": [
    "from sklearn import ensemble, cross_validation, learning_curve, metrics "
   ]
  },
  {
   "cell_type": "code",
   "execution_count": 24,
   "metadata": {
    "collapsed": false
   },
   "outputs": [],
   "source": [
    "train_sizes, train_scores, test_scores = learning_curve.learning_curve(regressor_RF, X_dummied_with_text, y, \n",
    "                                                                       train_sizes=np.arange(0.1,1., 0.2), \n",
    "                                                                       cv=3, scoring='mean_absolute_error')"
   ]
  },
  {
   "cell_type": "code",
   "execution_count": 26,
   "metadata": {
    "collapsed": false
   },
   "outputs": [
    {
     "name": "stdout",
     "output_type": "stream",
     "text": [
      "[ 494 1482 2470 3458 4446]\n",
      "[ -8.34771329 -11.92429417 -12.67847695 -12.79632628 -12.94498613]\n",
      "[-15.4018715  -16.12915857 -15.84252194 -15.77518661 -15.69639439]\n"
     ]
    }
   ],
   "source": [
    "print train_sizes # доли трейна\n",
    "print train_scores.mean(axis = 1)\n",
    "print test_scores.mean(axis = 1)"
   ]
  },
  {
   "cell_type": "code",
   "execution_count": 27,
   "metadata": {
    "collapsed": false
   },
   "outputs": [
    {
     "data": {
      "text/plain": [
       "<matplotlib.legend.Legend at 0x25086c88>"
      ]
     },
     "execution_count": 27,
     "metadata": {},
     "output_type": "execute_result"
    },
    {
     "data": {
      "image/png": "iVBORw0KGgoAAAANSUhEUgAAAYMAAAD7CAYAAACIYvgKAAAABHNCSVQICAgIfAhkiAAAAAlwSFlz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\n",
      "text/plain": [
       "<matplotlib.figure.Figure at 0x24a22940>"
      ]
     },
     "metadata": {},
     "output_type": "display_data"
    }
   ],
   "source": [
    "pylab.grid(True)\n",
    "pylab.plot(train_sizes, train_scores.mean(axis = 1), 'g-', marker='o', label='train')\n",
    "pylab.plot(train_sizes, test_scores.mean(axis = 1), 'r-', marker='o', label='test')\n",
    "pylab.ylim((-20.0, 1.05))\n",
    "pylab.legend(loc='lower right')"
   ]
  },
  {
   "cell_type": "markdown",
   "metadata": {},
   "source": [
    "При увеличении тестовой выборки качество предсказаний ухудшается. "
   ]
  },
  {
   "cell_type": "markdown",
   "metadata": {
    "collapsed": true
   },
   "source": [
    "### GradientBoostingRegressor from sklearn.ensemble"
   ]
  },
  {
   "cell_type": "code",
   "execution_count": 18,
   "metadata": {
    "collapsed": true
   },
   "outputs": [],
   "source": [
    "from sklearn.ensemble import GradientBoostingRegressor"
   ]
  },
  {
   "cell_type": "code",
   "execution_count": 22,
   "metadata": {
    "collapsed": false
   },
   "outputs": [],
   "source": [
    "%%time\n",
    "\n",
    "depths = 2\n",
    "n_trees = 10\n",
    "\n",
    "gb = GradientBoostingRegressor(max_depth = depths, n_estimators = n_trees, random_state=42).fit(train_X, train_y)"
   ]
  },
  {
   "cell_type": "code",
   "execution_count": 23,
   "metadata": {
    "collapsed": false
   },
   "outputs": [
    {
     "data": {
      "text/plain": [
       "17.275974780377656"
      ]
     },
     "execution_count": 23,
     "metadata": {},
     "output_type": "execute_result"
    }
   ],
   "source": [
    "metrics.mean_absolute_error(test_y, gb.predict(test_X))"
   ]
  },
  {
   "cell_type": "code",
   "execution_count": 26,
   "metadata": {
    "collapsed": false
   },
   "outputs": [
    {
     "data": {
      "text/html": [
       "<div>\n",
       "<table border=\"1\" class=\"dataframe\">\n",
       "  <thead>\n",
       "    <tr style=\"text-align: right;\">\n",
       "      <th></th>\n",
       "      <th>0</th>\n",
       "    </tr>\n",
       "  </thead>\n",
       "  <tbody>\n",
       "    <tr>\n",
       "      <th>count</th>\n",
       "      <td>2224.000000</td>\n",
       "    </tr>\n",
       "    <tr>\n",
       "      <th>mean</th>\n",
       "      <td>26.433528</td>\n",
       "    </tr>\n",
       "    <tr>\n",
       "      <th>std</th>\n",
       "      <td>7.138391</td>\n",
       "    </tr>\n",
       "    <tr>\n",
       "      <th>min</th>\n",
       "      <td>26.250323</td>\n",
       "    </tr>\n",
       "    <tr>\n",
       "      <th>25%</th>\n",
       "      <td>26.250323</td>\n",
       "    </tr>\n",
       "    <tr>\n",
       "      <th>50%</th>\n",
       "      <td>26.250323</td>\n",
       "    </tr>\n",
       "    <tr>\n",
       "      <th>75%</th>\n",
       "      <td>26.250323</td>\n",
       "    </tr>\n",
       "    <tr>\n",
       "      <th>max</th>\n",
       "      <td>353.150097</td>\n",
       "    </tr>\n",
       "  </tbody>\n",
       "</table>\n",
       "</div>"
      ],
      "text/plain": [
       "                 0\n",
       "count  2224.000000\n",
       "mean     26.433528\n",
       "std       7.138391\n",
       "min      26.250323\n",
       "25%      26.250323\n",
       "50%      26.250323\n",
       "75%      26.250323\n",
       "max     353.150097"
      ]
     },
     "execution_count": 26,
     "metadata": {},
     "output_type": "execute_result"
    }
   ],
   "source": [
    "predicted_gb = gb.predict(test_X)\n",
    "predicted_df_gb = pd.DataFrame(predicted_gb)\n",
    "predicted_df_gb.describe()"
   ]
  },
  {
   "cell_type": "code",
   "execution_count": 33,
   "metadata": {
    "collapsed": false
   },
   "outputs": [
    {
     "name": "stdout",
     "output_type": "stream",
     "text": [
      "1081.92248777\n",
      "Wall time: 24.3 s\n"
     ]
    }
   ],
   "source": [
    "%%time\n",
    "\n",
    "depths = 2\n",
    "n_trees = 10\n",
    "\n",
    "gbm = GradientBoostingRegressor(max_depth=depths, n_estimators=n_trees, random_state=42).fit(train_X, train_y)\n",
    "        \n",
    "MSE = metrics.mean_squared_error(train_y, gbm.predict(train_X))\n",
    "print MSE"
   ]
  },
  {
   "cell_type": "code",
   "execution_count": 39,
   "metadata": {
    "collapsed": false
   },
   "outputs": [
    {
     "name": "stdout",
     "output_type": "stream",
     "text": [
      "Wall time: 6min 18s\n"
     ]
    }
   ],
   "source": [
    "%%time\n",
    "\n",
    "depths = range(2,8,1)\n",
    "n_trees = 10\n",
    "\n",
    "depth_res_train = []\n",
    "depth_res_test = []\n",
    "\n",
    "for depth in depths:\n",
    "    gbm = GradientBoostingRegressor(max_depth=depth, n_estimators=n_trees, random_state=42).fit(train_X, train_y)\n",
    "    depth_res_train.append(np.sqrt(metrics.mean_squared_error(train_y, gbm.predict(train_X))))\n",
    "    depth_res_test.append(np.sqrt(metrics.mean_squared_error(test_y, gbm.predict(test_X))))\n",
    "    "
   ]
  },
  {
   "cell_type": "code",
   "execution_count": 40,
   "metadata": {
    "collapsed": false
   },
   "outputs": [
    {
     "data": {
      "text/plain": [
       "<matplotlib.legend.Legend at 0x25487da0>"
      ]
     },
     "execution_count": 40,
     "metadata": {},
     "output_type": "execute_result"
    },
    {
     "data": {
      "image/png": "iVBORw0KGgoAAAANSUhEUgAAAs4AAAG2CAYAAABvdQAdAAAABHNCSVQICAgIfAhkiAAAAAlwSFlz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\nnaUZuYNGj/gAAAAASUVORK5CYII=\n",
      "text/plain": [
       "<matplotlib.figure.Figure at 0x2490ee80>"
      ]
     },
     "metadata": {},
     "output_type": "display_data"
    }
   ],
   "source": [
    "pyplot.figure(figsize=(12, 7))\n",
    "\n",
    "pyplot.plot(depths, depth_res_train, color=\"red\", label=\"train\")\n",
    "pyplot.plot(depths, depth_res_test, color=\"blue\", label=\"test\")\n",
    "pyplot.xlabel(\"depth\")\n",
    "pyplot.ylabel(\"score\")\n",
    "pyplot.legend()"
   ]
  },
  {
   "cell_type": "code",
   "execution_count": 41,
   "metadata": {
    "collapsed": false
   },
   "outputs": [
    {
     "name": "stdout",
     "output_type": "stream",
     "text": [
      "Wall time: 6min 3s\n"
     ]
    }
   ],
   "source": [
    "%%time\n",
    "\n",
    "depths = 5\n",
    "n_trees = range(10,25,5)\n",
    "ntree_res_train = []\n",
    "ntree_res_test = []\n",
    "\n",
    "for n_tree in n_trees:\n",
    "    gbm = GradientBoostingRegressor(max_depth=depths, n_estimators=n_tree, random_state=42).fit(train_X, train_y)\n",
    "        \n",
    "    ntree_res_train.append(np.sqrt(metrics.mean_squared_error(train_y, gbm.predict(train_X))))\n",
    "    ntree_res_test.append(np.sqrt(metrics.mean_squared_error(test_y, gbm.predict(test_X))))\n",
    "        "
   ]
  },
  {
   "cell_type": "code",
   "execution_count": 43,
   "metadata": {
    "collapsed": false
   },
   "outputs": [
    {
     "data": {
      "text/plain": [
       "<matplotlib.legend.Legend at 0x25ce76a0>"
      ]
     },
     "execution_count": 43,
     "metadata": {},
     "output_type": "execute_result"
    },
    {
     "data": {
      "image/png": "iVBORw0KGgoAAAANSUhEUgAAAtIAAAG3CAYAAACZu7LeAAAABHNCSVQICAgIfAhkiAAAAAlwSFlz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\nRK5CYII=\n",
      "text/plain": [
       "<matplotlib.figure.Figure at 0x254a0668>"
      ]
     },
     "metadata": {},
     "output_type": "display_data"
    }
   ],
   "source": [
    "pyplot.figure(figsize=(12, 7))\n",
    "\n",
    "pyplot.plot(n_trees, ntree_res_train, color=\"red\", label=\"train\")\n",
    "pyplot.plot(n_trees, ntree_res_test, color=\"blue\", label=\"test\")\n",
    "pyplot.xlabel(\"n_trees\")\n",
    "pyplot.ylabel(\"score\")\n",
    "pyplot.legend()"
   ]
  },
  {
   "cell_type": "code",
   "execution_count": 44,
   "metadata": {
    "collapsed": false
   },
   "outputs": [
    {
     "name": "stdout",
     "output_type": "stream",
     "text": [
      "880.457838478\n",
      "Wall time: 2min 25s\n"
     ]
    }
   ],
   "source": [
    "%%time\n",
    "\n",
    "depths = 20\n",
    "n_trees = 5\n",
    "\n",
    "gbm = GradientBoostingRegressor(max_depth=depths, n_estimators=n_trees, random_state=42).fit(train_X, train_y)\n",
    "        \n",
    "MSE = metrics.mean_squared_error(train_y, gbm.predict(train_X))\n",
    "print MSE"
   ]
  },
  {
   "cell_type": "code",
   "execution_count": 45,
   "metadata": {
    "collapsed": false
   },
   "outputs": [
    {
     "name": "stdout",
     "output_type": "stream",
     "text": [
      "78.053827115\n",
      "Wall time: 14min 10s\n"
     ]
    }
   ],
   "source": [
    "%%time\n",
    "\n",
    "depths = 20\n",
    "n_trees = 50\n",
    "\n",
    "gbm = GradientBoostingRegressor(max_depth=depths, n_estimators=n_trees, random_state=42).fit(train_X, train_y)\n",
    "        \n",
    "MSE = metrics.mean_squared_error(train_y, gbm.predict(train_X))\n",
    "print MSE"
   ]
  },
  {
   "cell_type": "code",
   "execution_count": 46,
   "metadata": {
    "collapsed": false
   },
   "outputs": [
    {
     "data": {
      "text/html": [
       "<div>\n",
       "<table border=\"1\" class=\"dataframe\">\n",
       "  <thead>\n",
       "    <tr style=\"text-align: right;\">\n",
       "      <th></th>\n",
       "      <th>0</th>\n",
       "    </tr>\n",
       "  </thead>\n",
       "  <tbody>\n",
       "    <tr>\n",
       "      <th>count</th>\n",
       "      <td>2224.000000</td>\n",
       "    </tr>\n",
       "    <tr>\n",
       "      <th>mean</th>\n",
       "      <td>25.592088</td>\n",
       "    </tr>\n",
       "    <tr>\n",
       "      <th>std</th>\n",
       "      <td>20.202578</td>\n",
       "    </tr>\n",
       "    <tr>\n",
       "      <th>min</th>\n",
       "      <td>9.603857</td>\n",
       "    </tr>\n",
       "    <tr>\n",
       "      <th>25%</th>\n",
       "      <td>16.926477</td>\n",
       "    </tr>\n",
       "    <tr>\n",
       "      <th>50%</th>\n",
       "      <td>20.688404</td>\n",
       "    </tr>\n",
       "    <tr>\n",
       "      <th>75%</th>\n",
       "      <td>26.617998</td>\n",
       "    </tr>\n",
       "    <tr>\n",
       "      <th>max</th>\n",
       "      <td>423.644662</td>\n",
       "    </tr>\n",
       "  </tbody>\n",
       "</table>\n",
       "</div>"
      ],
      "text/plain": [
       "                 0\n",
       "count  2224.000000\n",
       "mean     25.592088\n",
       "std      20.202578\n",
       "min       9.603857\n",
       "25%      16.926477\n",
       "50%      20.688404\n",
       "75%      26.617998\n",
       "max     423.644662"
      ]
     },
     "execution_count": 46,
     "metadata": {},
     "output_type": "execute_result"
    }
   ],
   "source": [
    "predicted_gbm = gbm.predict(test_X)\n",
    "predicted_df_gbm = pd.DataFrame(predicted_gbm)\n",
    "predicted_df_gbm.describe()"
   ]
  },
  {
   "cell_type": "code",
   "execution_count": 50,
   "metadata": {
    "collapsed": false
   },
   "outputs": [
    {
     "name": "stdout",
     "output_type": "stream",
     "text": [
      "0.643012804066\n"
     ]
    }
   ],
   "source": [
    "print rmsle2(test_y.values, predicted_gbm)"
   ]
  },
  {
   "cell_type": "code",
   "execution_count": null,
   "metadata": {
    "collapsed": true
   },
   "outputs": [],
   "source": []
  }
 ],
 "metadata": {
  "kernelspec": {
   "display_name": "Python 2",
   "language": "python",
   "name": "python2"
  },
  "language_info": {
   "codemirror_mode": {
    "name": "ipython",
    "version": 2
   },
   "file_extension": ".py",
   "mimetype": "text/x-python",
   "name": "python",
   "nbconvert_exporter": "python",
   "pygments_lexer": "ipython2",
   "version": "2.7.10"
  }
 },
 "nbformat": 4,
 "nbformat_minor": 0
}
